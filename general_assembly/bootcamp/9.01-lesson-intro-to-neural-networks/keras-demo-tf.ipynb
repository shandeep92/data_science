{
 "cells": [
  {
   "cell_type": "markdown",
   "metadata": {},
   "source": [
    "<img src=\"http://imgur.com/1ZcRyrc.png\" style=\"float: left; margin: 20px; height: 55px\">\n",
    "\n",
    "## Generalized Linear Models\n",
    "\n",
    "_Author_: Tim Book"
   ]
  },
  {
   "cell_type": "code",
   "execution_count": 1,
   "metadata": {},
   "outputs": [],
   "source": [
    "import numpy as np\n",
    "from sklearn.datasets import make_classification\n",
    "from sklearn.preprocessing import OneHotEncoder\n",
    "\n",
    "from tensorflow.keras.models import Sequential\n",
    "from tensorflow.keras.layers import Dense"
   ]
  },
  {
   "cell_type": "code",
   "execution_count": 2,
   "metadata": {},
   "outputs": [
    {
     "data": {
      "text/plain": [
       "1.2000000000000002"
      ]
     },
     "execution_count": 2,
     "metadata": {},
     "output_type": "execute_result"
    }
   ],
   "source": [
    "1.5*.8"
   ]
  },
  {
   "cell_type": "code",
   "execution_count": 3,
   "metadata": {},
   "outputs": [],
   "source": [
    "# Making some fake data for illustration purposes.\n",
    "# On your own time, try making this BIGGER!\n",
    "X, y = make_classification(\n",
    "    n_samples=100_000,\n",
    "    n_features=200,\n",
    "    n_informative=200,\n",
    "    n_redundant=0,\n",
    "    n_classes=10,\n",
    "    random_state=42\n",
    ")"
   ]
  },
  {
   "cell_type": "code",
   "execution_count": 4,
   "metadata": {},
   "outputs": [
    {
     "data": {
      "text/plain": [
       "3"
      ]
     },
     "execution_count": 4,
     "metadata": {},
     "output_type": "execute_result"
    }
   ],
   "source": [
    "y[3]"
   ]
  },
  {
   "cell_type": "code",
   "execution_count": 5,
   "metadata": {},
   "outputs": [],
   "source": [
    "# Since we're doing multiclass classification, we actually need to one-hot\n",
    "# encode y to be an n-by-10 matrix. Keras doesn't know we're doing classification!\n",
    "oh = OneHotEncoder(\n",
    "    sparse=False,\n",
    "    dtype=int,\n",
    "    categories=\"auto\"\n",
    ")\n",
    "y = oh.fit_transform(y.reshape(-1, 1))"
   ]
  },
  {
   "cell_type": "code",
   "execution_count": 6,
   "metadata": {},
   "outputs": [
    {
     "data": {
      "text/plain": [
       "(100000, 200)"
      ]
     },
     "execution_count": 6,
     "metadata": {},
     "output_type": "execute_result"
    }
   ],
   "source": [
    "X.shape"
   ]
  },
  {
   "cell_type": "code",
   "execution_count": 7,
   "metadata": {},
   "outputs": [
    {
     "data": {
      "text/plain": [
       "(100000, 10)"
      ]
     },
     "execution_count": 7,
     "metadata": {},
     "output_type": "execute_result"
    }
   ],
   "source": [
    "y.shape"
   ]
  },
  {
   "cell_type": "code",
   "execution_count": 8,
   "metadata": {},
   "outputs": [
    {
     "data": {
      "text/plain": [
       "array([[1, 0, 0, 0, 0, 0, 0, 0, 0, 0],\n",
       "       [0, 0, 0, 0, 0, 0, 0, 0, 1, 0],\n",
       "       [0, 0, 0, 0, 0, 0, 1, 0, 0, 0],\n",
       "       [0, 0, 0, 1, 0, 0, 0, 0, 0, 0],\n",
       "       [1, 0, 0, 0, 0, 0, 0, 0, 0, 0],\n",
       "       [0, 0, 0, 0, 0, 0, 0, 0, 1, 0],\n",
       "       [0, 0, 0, 1, 0, 0, 0, 0, 0, 0],\n",
       "       [0, 0, 0, 0, 0, 0, 1, 0, 0, 0],\n",
       "       [0, 0, 0, 1, 0, 0, 0, 0, 0, 0],\n",
       "       [0, 0, 0, 0, 0, 1, 0, 0, 0, 0]])"
      ]
     },
     "execution_count": 8,
     "metadata": {},
     "output_type": "execute_result"
    }
   ],
   "source": [
    "y[:10, :]"
   ]
  },
  {
   "cell_type": "code",
   "execution_count": 9,
   "metadata": {},
   "outputs": [],
   "source": [
    "# Instantiate model\n",
    "model = Sequential()"
   ]
  },
  {
   "cell_type": "code",
   "execution_count": 10,
   "metadata": {},
   "outputs": [],
   "source": [
    "# One by one, add Dense layers to our model.\n",
    "# The hidden layers will use the ReLU activation\n",
    "# Output layer will have softmax\n",
    "model.add(Dense(256, activation=\"relu\", input_shape=(200,)))\n",
    "model.add(Dense(128, activation=\"relu\"))\n",
    "model.add(Dense(32, activation=\"relu\"))\n",
    "model.add(Dense(10, activation=\"softmax\"))"
   ]
  },
  {
   "cell_type": "code",
   "execution_count": 11,
   "metadata": {},
   "outputs": [],
   "source": [
    "# We need to compile our model in Keras.\n",
    "# Need to tell it three things:\n",
    "# Optimizer (for us, usually Adam)\n",
    "# Loss (which?)\n",
    "# Metrics (Definitely need accuracy, but could do more)\n",
    "model.compile(\n",
    "    optimizer=\"adam\",\n",
    "    loss=\"categorical_crossentropy\",\n",
    "    metrics=[\"acc\"]\n",
    ")"
   ]
  },
  {
   "cell_type": "code",
   "execution_count": 12,
   "metadata": {},
   "outputs": [
    {
     "name": "stdout",
     "output_type": "stream",
     "text": [
      "Epoch 1/10\n",
      "2500/2500 [==============================] - 5s 2ms/step - loss: 1.5074 - acc: 0.4757 - val_loss: 0.6888 - val_acc: 0.7761\n",
      "Epoch 2/10\n",
      "2500/2500 [==============================] - 4s 2ms/step - loss: 0.4309 - acc: 0.8653 - val_loss: 0.4261 - val_acc: 0.8735\n",
      "Epoch 3/10\n",
      "2500/2500 [==============================] - 5s 2ms/step - loss: 0.2470 - acc: 0.9281 - val_loss: 0.4037 - val_acc: 0.8891\n",
      "Epoch 4/10\n",
      "2500/2500 [==============================] - 5s 2ms/step - loss: 0.1919 - acc: 0.9446 - val_loss: 0.3471 - val_acc: 0.9073\n",
      "Epoch 5/10\n",
      "2500/2500 [==============================] - 5s 2ms/step - loss: 0.1571 - acc: 0.9546 - val_loss: 0.3514 - val_acc: 0.9066\n",
      "Epoch 6/10\n",
      "2500/2500 [==============================] - 5s 2ms/step - loss: 0.1331 - acc: 0.9613 - val_loss: 0.3967 - val_acc: 0.9054\n",
      "Epoch 7/10\n",
      "2500/2500 [==============================] - 5s 2ms/step - loss: 0.1138 - acc: 0.9653 - val_loss: 0.3551 - val_acc: 0.9189\n",
      "Epoch 8/10\n",
      "2500/2500 [==============================] - 5s 2ms/step - loss: 0.1005 - acc: 0.9695 - val_loss: 0.3701 - val_acc: 0.9140\n",
      "Epoch 9/10\n",
      "2500/2500 [==============================] - 5s 2ms/step - loss: 0.0904 - acc: 0.9724 - val_loss: 0.3709 - val_acc: 0.9133\n",
      "Epoch 10/10\n",
      "2500/2500 [==============================] - 5s 2ms/step - loss: 0.0823 - acc: 0.9741 - val_loss: 0.3684 - val_acc: 0.9225\n"
     ]
    },
    {
     "data": {
      "text/plain": [
       "<tensorflow.python.keras.callbacks.History at 0xa1af674d0>"
      ]
     },
     "execution_count": 12,
     "metadata": {},
     "output_type": "execute_result"
    }
   ],
   "source": [
    "# Fit!\n",
    "# Need to specify batch_size and epochs\n",
    "# Can validate with validation_split\n",
    "model.fit(\n",
    "    X, y,\n",
    "    batch_size=32,\n",
    "    epochs=10,\n",
    "    validation_split=0.2\n",
    ")"
   ]
  },
  {
   "cell_type": "code",
   "execution_count": null,
   "metadata": {},
   "outputs": [],
   "source": []
  },
  {
   "cell_type": "code",
   "execution_count": null,
   "metadata": {},
   "outputs": [],
   "source": []
  }
 ],
 "metadata": {
  "kernelspec": {
   "display_name": "Python 3",
   "language": "python",
   "name": "python3"
  },
  "language_info": {
   "codemirror_mode": {
    "name": "ipython",
    "version": 3
   },
   "file_extension": ".py",
   "mimetype": "text/x-python",
   "name": "python",
   "nbconvert_exporter": "python",
   "pygments_lexer": "ipython3",
   "version": "3.7.7"
  }
 },
 "nbformat": 4,
 "nbformat_minor": 2
}
