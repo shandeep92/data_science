{
 "cells": [
  {
   "cell_type": "code",
   "execution_count": 1,
   "metadata": {},
   "outputs": [],
   "source": [
    "import pandas as pd\n",
    "import numpy as np\n",
    "from sklearn.feature_extraction.text import TfidfVectorizer\n",
    "from sklearn.linear_model import LogisticRegression\n",
    "from sklearn.ensemble import RandomForestClassifier\n",
    "from sklearn.model_selection import train_test_split\n",
    "from sklearn.metrics import confusion_matrix\n",
    "from sklearn.metrics import accuracy_score\n",
    "from collections import Counter"
   ]
  },
  {
   "cell_type": "code",
   "execution_count": 2,
   "metadata": {},
   "outputs": [],
   "source": [
    "prod_cat_df = pd.read_csv('Extra Material 2 - keyword list_with substring.csv')"
   ]
  },
  {
   "cell_type": "code",
   "execution_count": 11,
   "metadata": {},
   "outputs": [
    {
     "data": {
      "text/html": [
       "<div>\n",
       "<style scoped>\n",
       "    .dataframe tbody tr th:only-of-type {\n",
       "        vertical-align: middle;\n",
       "    }\n",
       "\n",
       "    .dataframe tbody tr th {\n",
       "        vertical-align: top;\n",
       "    }\n",
       "\n",
       "    .dataframe thead th {\n",
       "        text-align: right;\n",
       "    }\n",
       "</style>\n",
       "<table border=\"1\" class=\"dataframe\">\n",
       "  <thead>\n",
       "    <tr style=\"text-align: right;\">\n",
       "      <th></th>\n",
       "      <th>Group</th>\n",
       "      <th>Keywords</th>\n",
       "    </tr>\n",
       "  </thead>\n",
       "  <tbody>\n",
       "    <tr>\n",
       "      <th>0</th>\n",
       "      <td>0</td>\n",
       "      <td>coat, jacket</td>\n",
       "    </tr>\n",
       "    <tr>\n",
       "      <th>1</th>\n",
       "      <td>1</td>\n",
       "      <td>blazer</td>\n",
       "    </tr>\n",
       "    <tr>\n",
       "      <th>2</th>\n",
       "      <td>2</td>\n",
       "      <td>hoodies, sweater, sweatshirt</td>\n",
       "    </tr>\n",
       "    <tr>\n",
       "      <th>3</th>\n",
       "      <td>3</td>\n",
       "      <td>vest</td>\n",
       "    </tr>\n",
       "    <tr>\n",
       "      <th>4</th>\n",
       "      <td>4</td>\n",
       "      <td>cardigan</td>\n",
       "    </tr>\n",
       "  </tbody>\n",
       "</table>\n",
       "</div>"
      ],
      "text/plain": [
       "   Group                      Keywords\n",
       "0      0                  coat, jacket\n",
       "1      1                        blazer\n",
       "2      2  hoodies, sweater, sweatshirt\n",
       "3      3                          vest\n",
       "4      4                      cardigan"
      ]
     },
     "execution_count": 11,
     "metadata": {},
     "output_type": "execute_result"
    }
   ],
   "source": [
    "prod_cat_df.head()"
   ]
  },
  {
   "cell_type": "code",
   "execution_count": 4,
   "metadata": {},
   "outputs": [
    {
     "data": {
      "text/html": [
       "<div>\n",
       "<style scoped>\n",
       "    .dataframe tbody tr th:only-of-type {\n",
       "        vertical-align: middle;\n",
       "    }\n",
       "\n",
       "    .dataframe tbody tr th {\n",
       "        vertical-align: top;\n",
       "    }\n",
       "\n",
       "    .dataframe thead th {\n",
       "        text-align: right;\n",
       "    }\n",
       "</style>\n",
       "<table border=\"1\" class=\"dataframe\">\n",
       "  <thead>\n",
       "    <tr style=\"text-align: right;\">\n",
       "      <th></th>\n",
       "      <th>0</th>\n",
       "      <th>1</th>\n",
       "      <th>2</th>\n",
       "      <th>3</th>\n",
       "      <th>4</th>\n",
       "      <th>5</th>\n",
       "      <th>6</th>\n",
       "      <th>7</th>\n",
       "      <th>8</th>\n",
       "    </tr>\n",
       "  </thead>\n",
       "  <tbody>\n",
       "    <tr>\n",
       "      <th>0</th>\n",
       "      <td>jam</td>\n",
       "      <td>pencil</td>\n",
       "      <td>table</td>\n",
       "      <td>scale</td>\n",
       "      <td>ring</td>\n",
       "      <td>caps</td>\n",
       "      <td>band</td>\n",
       "      <td>basketball</td>\n",
       "      <td>football</td>\n",
       "    </tr>\n",
       "    <tr>\n",
       "      <th>1</th>\n",
       "      <td>watch</td>\n",
       "      <td>skirt</td>\n",
       "      <td>tennis</td>\n",
       "      <td>fish</td>\n",
       "      <td>phone</td>\n",
       "      <td>thumb stick</td>\n",
       "      <td>mi</td>\n",
       "      <td>shirt</td>\n",
       "      <td>shirt</td>\n",
       "    </tr>\n",
       "    <tr>\n",
       "      <th>2</th>\n",
       "      <td>NaN</td>\n",
       "      <td>NaN</td>\n",
       "      <td>NaN</td>\n",
       "      <td>NaN</td>\n",
       "      <td>case</td>\n",
       "      <td>joystick</td>\n",
       "      <td>huawei</td>\n",
       "      <td>t-shirt</td>\n",
       "      <td>t-shirt</td>\n",
       "    </tr>\n",
       "    <tr>\n",
       "      <th>3</th>\n",
       "      <td>NaN</td>\n",
       "      <td>NaN</td>\n",
       "      <td>NaN</td>\n",
       "      <td>NaN</td>\n",
       "      <td>light</td>\n",
       "      <td>keyboard</td>\n",
       "      <td>smartwatch</td>\n",
       "      <td>shorts</td>\n",
       "      <td>shorts</td>\n",
       "    </tr>\n",
       "    <tr>\n",
       "      <th>4</th>\n",
       "      <td>NaN</td>\n",
       "      <td>NaN</td>\n",
       "      <td>NaN</td>\n",
       "      <td>NaN</td>\n",
       "      <td>binder</td>\n",
       "      <td>NaN</td>\n",
       "      <td>smart watch</td>\n",
       "      <td>jersey</td>\n",
       "      <td>jersey</td>\n",
       "    </tr>\n",
       "  </tbody>\n",
       "</table>\n",
       "</div>"
      ],
      "text/plain": [
       "       0       1       2      3       4            5            6           7  \\\n",
       "0    jam  pencil   table  scale    ring         caps         band  basketball   \n",
       "1  watch   skirt  tennis   fish   phone  thumb stick           mi       shirt   \n",
       "2    NaN     NaN     NaN    NaN    case     joystick       huawei     t-shirt   \n",
       "3    NaN     NaN     NaN    NaN   light     keyboard   smartwatch      shorts   \n",
       "4    NaN     NaN     NaN    NaN  binder          NaN  smart watch      jersey   \n",
       "\n",
       "          8  \n",
       "0  football  \n",
       "1     shirt  \n",
       "2   t-shirt  \n",
       "3    shorts  \n",
       "4    jersey  "
      ]
     },
     "execution_count": 4,
     "metadata": {},
     "output_type": "execute_result"
    }
   ],
   "source": [
    "keyw_mistmatch_df = pd.read_csv('Extra Material 3 - mismatch list.csv',header=None)\n",
    "keyw_mistmatch_df.head()"
   ]
  },
  {
   "cell_type": "code",
   "execution_count": 5,
   "metadata": {},
   "outputs": [],
   "source": [
    "keyw_spam= pd.read_csv('Keyword_spam_question.csv')"
   ]
  },
  {
   "cell_type": "code",
   "execution_count": 8,
   "metadata": {},
   "outputs": [
    {
     "data": {
      "text/plain": [
       "(800000, 2)"
      ]
     },
     "execution_count": 8,
     "metadata": {},
     "output_type": "execute_result"
    }
   ],
   "source": [
    "keyw_spam.shape"
   ]
  },
  {
   "cell_type": "code",
   "execution_count": 9,
   "metadata": {},
   "outputs": [
    {
     "data": {
      "text/html": [
       "<div>\n",
       "<style scoped>\n",
       "    .dataframe tbody tr th:only-of-type {\n",
       "        vertical-align: middle;\n",
       "    }\n",
       "\n",
       "    .dataframe tbody tr th {\n",
       "        vertical-align: top;\n",
       "    }\n",
       "\n",
       "    .dataframe thead th {\n",
       "        text-align: right;\n",
       "    }\n",
       "</style>\n",
       "<table border=\"1\" class=\"dataframe\">\n",
       "  <thead>\n",
       "    <tr style=\"text-align: right;\">\n",
       "      <th></th>\n",
       "      <th>index</th>\n",
       "      <th>name</th>\n",
       "    </tr>\n",
       "  </thead>\n",
       "  <tbody>\n",
       "    <tr>\n",
       "      <th>0</th>\n",
       "      <td>0</td>\n",
       "      <td>izra cotton milky gray blouse + skirt putih</td>\n",
       "    </tr>\n",
       "    <tr>\n",
       "      <th>1</th>\n",
       "      <td>1</td>\n",
       "      <td>(coral red) izra boutique baju kurung moden</td>\n",
       "    </tr>\n",
       "    <tr>\n",
       "      <th>2</th>\n",
       "      <td>2</td>\n",
       "      <td>(red) izra boutique baju kurung moden</td>\n",
       "    </tr>\n",
       "    <tr>\n",
       "      <th>3</th>\n",
       "      <td>3</td>\n",
       "      <td>(peach) izra boutique baju kurung moden with p...</td>\n",
       "    </tr>\n",
       "    <tr>\n",
       "      <th>4</th>\n",
       "      <td>4</td>\n",
       "      <td>(black) izra boutique baju kurung moden</td>\n",
       "    </tr>\n",
       "  </tbody>\n",
       "</table>\n",
       "</div>"
      ],
      "text/plain": [
       "   index                                               name\n",
       "0      0        izra cotton milky gray blouse + skirt putih\n",
       "1      1        (coral red) izra boutique baju kurung moden\n",
       "2      2              (red) izra boutique baju kurung moden\n",
       "3      3  (peach) izra boutique baju kurung moden with p...\n",
       "4      4            (black) izra boutique baju kurung moden"
      ]
     },
     "execution_count": 9,
     "metadata": {},
     "output_type": "execute_result"
    }
   ],
   "source": [
    "keyw_spam.head()"
   ]
  },
  {
   "cell_type": "code",
   "execution_count": 10,
   "metadata": {},
   "outputs": [],
   "source": [
    "keyw_spam['name'] = keyw_spam['name'].str.replace(r'[!\"#$%&\\'()*+,-./:;<=>?@[\\\\]^_`{}~]+', '')\n",
    "keyw_spam['name'] = keyw_spam['name'].str.lower()"
   ]
  },
  {
   "cell_type": "code",
   "execution_count": 5,
   "metadata": {},
   "outputs": [],
   "source": [
    "vectorizer = TfidfVectorizer(ngram_range={1,2})\n",
    "vectorizer.fit(prod_cat_df['Keywords'])\n",
    "X = vectorizer.transform(prod_cat_df['Keywords'])\n",
    "y = prod_cat_df['Group']\n",
    "#X_train, X_test, y_train, y_test = train_test_split(X, y, test_size = 0.1, random_state = 21)"
   ]
  },
  {
   "cell_type": "code",
   "execution_count": 6,
   "metadata": {},
   "outputs": [
    {
     "name": "stderr",
     "output_type": "stream",
     "text": [
      "/Users/gateam/anaconda3/lib/python3.7/site-packages/sklearn/linear_model/logistic.py:432: FutureWarning: Default solver will be changed to 'lbfgs' in 0.22. Specify a solver to silence this warning.\n",
      "  FutureWarning)\n",
      "/Users/gateam/anaconda3/lib/python3.7/site-packages/sklearn/linear_model/logistic.py:469: FutureWarning: Default multi_class will be changed to 'auto' in 0.22. Specify the multi_class option to silence this warning.\n",
      "  \"this warning.\", FutureWarning)\n"
     ]
    },
    {
     "data": {
      "text/plain": [
       "array([  0,   1,   2,   3,   4,   5,   6,   7,   8,   9,  10,  11,  12,\n",
       "        13,  14,  15,  16,  17,  18,  19,  20,  21,  22,  23,  24,  25,\n",
       "        26,  27,  28,  29,  30,  31,  32,  33,  34,  35,  36,  37,  38,\n",
       "        39,  40,  41,  42,  43,  44,  45,  46,  47,  48,  49,  50,  51,\n",
       "        52,  53,  54,  55,  56,  57,  58,  59,  60,  61,  62,  63,  64,\n",
       "        65,  66,  67,  68,  69,  70,  71,  72,  73,  74,  75,  76,  77,\n",
       "        78,  79,  80,  81,  82,  83,  84,  85,  86,  87,  88,  89,  90,\n",
       "        91,  92,  93,  94,  95,  96,  97,  98,  99, 100, 101, 102, 103,\n",
       "       104, 105, 106, 107, 108, 109, 110, 111, 112, 113, 114, 115, 116,\n",
       "       117, 118, 119, 120, 121, 122, 123, 124, 125, 126, 127, 128, 129,\n",
       "       130, 131, 132, 133, 134, 135, 136, 137, 138, 139, 140, 141, 142,\n",
       "       143, 144, 145, 146, 147, 148, 149, 150, 151, 152, 153, 154, 155,\n",
       "       156, 157, 158, 159, 160, 161, 162, 163, 164, 165, 166, 167, 168,\n",
       "       169, 170, 171, 172, 173, 174, 175, 176, 177, 178, 179, 180, 181,\n",
       "       182, 183, 184, 185, 186, 187, 188, 189, 190, 191, 192, 193, 194,\n",
       "       195, 196, 197, 198, 199, 200, 201, 202, 203, 204, 205, 206, 207,\n",
       "       208, 209, 210, 211, 212, 213, 214, 215, 216, 217, 218, 219, 220,\n",
       "       221, 222, 223, 224, 225, 226, 227, 228, 229, 230, 231, 232, 233,\n",
       "       234, 235, 236, 237, 238, 239, 240, 241, 242, 243, 244, 245, 246,\n",
       "       247, 248, 249, 250, 251, 252, 253, 254, 255, 256, 257, 258, 259,\n",
       "       260, 261, 262, 263, 264, 265, 266, 267, 268, 269, 270, 271, 272,\n",
       "       273, 274, 275, 276, 277, 278, 279, 280])"
      ]
     },
     "execution_count": 6,
     "metadata": {},
     "output_type": "execute_result"
    }
   ],
   "source": [
    "logistic_model = LogisticRegression()\n",
    "logistic_model.fit(X,y)\n",
    "y_pred = logistic_model.predict(X)\n",
    "y_pred"
   ]
  },
  {
   "cell_type": "code",
   "execution_count": 7,
   "metadata": {},
   "outputs": [],
   "source": [
    "X_test = vectorizer.transform(keyw_spam['name'])"
   ]
  },
  {
   "cell_type": "code",
   "execution_count": 8,
   "metadata": {},
   "outputs": [
    {
     "data": {
      "text/plain": [
       "array([ 31,  23,  23,  23,  23, 169, 169, 169, 169, 169, 169, 261, 100,\n",
       "       169, 261, 261, 275, 172, 132,  74,  77, 217,   6,  23,  22, 132,\n",
       "        74, 186,  72,  77, 189, 170, 170, 188, 188, 170, 170, 188, 170,\n",
       "       170, 188, 170, 193,  77,  20,  38, 236,  84, 169, 261])"
      ]
     },
     "execution_count": 8,
     "metadata": {},
     "output_type": "execute_result"
    }
   ],
   "source": [
    "y_pred_test = logistic_model.predict(X_test)\n",
    "y_pred_test[:50]"
   ]
  },
  {
   "cell_type": "code",
   "execution_count": 9,
   "metadata": {},
   "outputs": [
    {
     "data": {
      "text/plain": [
       "0          izra cotton milky gray blouse + skirt putih\n",
       "1          (coral red) izra boutique baju kurung moden\n",
       "2                (red) izra boutique baju kurung moden\n",
       "3    (peach) izra boutique baju kurung moden with p...\n",
       "4              (black) izra boutique baju kurung moden\n",
       "5                      [single]single air bed mattress\n",
       "Name: name, dtype: object"
      ]
     },
     "execution_count": 9,
     "metadata": {},
     "output_type": "execute_result"
    }
   ],
   "source": [
    "keyw_spam['name'][0:6]"
   ]
  },
  {
   "cell_type": "code",
   "execution_count": 10,
   "metadata": {},
   "outputs": [
    {
     "data": {
      "text/plain": [
       "array([[0.00354574, 0.00354654, 0.00354424, ..., 0.00353748, 0.00353714,\n",
       "        0.00354262],\n",
       "       [0.0035467 , 0.0035475 , 0.00354519, ..., 0.00353842, 0.00353808,\n",
       "        0.00354357],\n",
       "       [0.0035467 , 0.0035475 , 0.00354519, ..., 0.00353842, 0.00353808,\n",
       "        0.00354357],\n",
       "       [0.00354977, 0.00355057, 0.00354825, ..., 0.00354146, 0.00354112,\n",
       "        0.00354663],\n",
       "       [0.00354903, 0.00354983, 0.00354751, ..., 0.00354072, 0.00354038,\n",
       "        0.00354589],\n",
       "       [0.0035449 , 0.00354569, 0.0035434 , ..., 0.00353604, 0.00353585,\n",
       "        0.00354179]])"
      ]
     },
     "execution_count": 10,
     "metadata": {},
     "output_type": "execute_result"
    }
   ],
   "source": [
    "y_predprob_test = logistic_model.predict_proba(X_test)\n",
    "y_predprob_test[:6,]"
   ]
  },
  {
   "cell_type": "code",
   "execution_count": 11,
   "metadata": {},
   "outputs": [
    {
     "data": {
      "text/plain": [
       "(800000, 281)"
      ]
     },
     "execution_count": 11,
     "metadata": {},
     "output_type": "execute_result"
    }
   ],
   "source": [
    "y_predprob_test.shape"
   ]
  },
  {
   "cell_type": "code",
   "execution_count": 12,
   "metadata": {},
   "outputs": [
    {
     "data": {
      "text/plain": [
       "[<matplotlib.lines.Line2D at 0x1a1d310860>]"
      ]
     },
     "execution_count": 12,
     "metadata": {},
     "output_type": "execute_result"
    },
    {
     "data": {
      "image/png": "[encoded data removed]",
      "text/plain": [
       "<Figure size 432x288 with 1 Axes>"
      ]
     },
     "metadata": {
      "needs_background": "light"
     },
     "output_type": "display_data"
    }
   ],
   "source": [
    "import matplotlib.pyplot as plt\n",
    "%matplotlib inline\n",
    "plt.plot(y_predprob_test[0])"
   ]
  },
  {
   "cell_type": "code",
   "execution_count": 24,
   "metadata": {},
   "outputs": [
    {
     "data": {
      "text/plain": [
       "array([1, 2, 0])"
      ]
     },
     "execution_count": 24,
     "metadata": {},
     "output_type": "execute_result"
    }
   ],
   "source": [
    "x = np.array([3, 1, 2])\n",
    "np.argsort(x)"
   ]
  },
  {
   "cell_type": "code",
   "execution_count": 25,
   "metadata": {},
   "outputs": [],
   "source": [
    "top_n = np.argsort(y_predprob_test)"
   ]
  },
  {
   "cell_type": "code",
   "execution_count": 31,
   "metadata": {},
   "outputs": [
    {
     "name": "stdout",
     "output_type": "stream",
     "text": [
      "[138 135 140 157 136 156 154 168 137 155 167 153 163 144 166 159 231 158\n",
      " 165 233 162 141 191 220 160 146 264 172 224  62 116 161 228 122 218 149\n",
      " 263 131 254  66 170 213 126   8 174 253 123 206 127  60 124  88  69 132\n",
      " 275  87 271 118 169 252 175  18 279 188 229 278 265  72 225  49 205 241\n",
      " 114 197 246 259  86  23 142 194  55  57  51 192  13  79  81 171 117 262\n",
      " 223  21  27 202  77 120  68 257 196   6 277  56 143 103 200 176 276 150\n",
      "  45  76 145  10 151 230 222 261  71 198  30 234  97 100  29 232 260 238\n",
      "  85 235  20 189 237 195 250 214 182  84 219  22 107 111  74  91 280  98\n",
      " 147 272 216 245  32 180 112  52 209 274  54 256  70  47 184  59  34 248\n",
      " 240 179 119 190  89   4  11  53  93 129 113 258   2  65  37  94 185 204\n",
      " 148 104 121  96 128  36  63 211 130  61  58 115  12 247  39 208 193 199\n",
      "  64  78  92 186  35  43 267 178 177  80 203  26  82   0  73  99 236 269\n",
      " 268 133 255  38  44  83 212  67 106  16 102  19  25 105 101  17 108  14\n",
      "   9   7 109   5 110 152 125   3   1  15  95  28  41 207 215 201 217  50\n",
      "  48 221  46  42 226 227  40  75 134 183 181 243 242  90 239 173 187 249\n",
      " 273 251 270 266 244 210 164  24  33 139  31]\n"
     ]
    },
    {
     "data": {
      "text/plain": [
       "array([ 31, 139])"
      ]
     },
     "execution_count": 31,
     "metadata": {},
     "output_type": "execute_result"
    }
   ],
   "source": [
    "print(top_n[0])\n",
    "top_n[0,:-3:-1]"
   ]
  },
  {
   "cell_type": "code",
   "execution_count": 35,
   "metadata": {},
   "outputs": [],
   "source": [
    "top_n = np.argsort(y_predprob_test)[:,:-3:-1]\n",
    "a=pd.DataFrame(top_n) #turn into dataframce\n",
    "b=a.iloc[:,0].astype(str).str.cat(a.iloc[:,1].astype(str), sep=',') #concat 2 results\n",
    "keyw_spam['groups_found'] = b.to_frame()\n",
    "keyw_spam['groups_found']= '[' + keyw_spam['groups_found'] + ']'"
   ]
  },
  {
   "cell_type": "code",
   "execution_count": 36,
   "metadata": {},
   "outputs": [
    {
     "data": {
      "text/plain": [
       "0    [31,139]\n",
       "1     [23,27]\n",
       "2     [23,27]\n",
       "3     [23,27]\n",
       "4     [23,27]\n",
       "Name: groups_found, dtype: object"
      ]
     },
     "execution_count": 36,
     "metadata": {},
     "output_type": "execute_result"
    }
   ],
   "source": [
    "keyw_spam['groups_found'][:5]"
   ]
  },
  {
   "cell_type": "code",
   "execution_count": 37,
   "metadata": {},
   "outputs": [],
   "source": [
    "keyw_spam[['index','groups_found']].to_csv('submission_logistic.csv',index=False)"
   ]
  },
  {
   "cell_type": "code",
   "execution_count": null,
   "metadata": {},
   "outputs": [],
   "source": []
  },
  {
   "cell_type": "code",
   "execution_count": 75,
   "metadata": {},
   "outputs": [],
   "source": [
    "model = RandomForestClassifier(n_estimators = 20)\n",
    "model.fit(X, y)\n",
    "y_pred = model.predict(X)\n",
    "#y_pred\n",
    "#print(accuracy_score(y_test, y_pred))\n",
    "#print(confusion_matrix(y_test, y_pred))"
   ]
  },
  {
   "cell_type": "code",
   "execution_count": 25,
   "metadata": {},
   "outputs": [],
   "source": [
    "y_pred_test = model.predict(X_test)\n",
    "#y_pred_test"
   ]
  },
  {
   "cell_type": "code",
   "execution_count": 30,
   "metadata": {},
   "outputs": [],
   "source": [
    "y_predprob_test = model.predict_proba(X_test)"
   ]
  },
  {
   "cell_type": "code",
   "execution_count": 33,
   "metadata": {},
   "outputs": [
    {
     "data": {
      "text/plain": [
       "'high precision digital body weight bathroom scales weighing scale with step-on technology, 0.1-180kg, backlight display,'"
      ]
     },
     "execution_count": 33,
     "metadata": {},
     "output_type": "execute_result"
    }
   ],
   "source": [
    "keyw_spam.loc[338332,'name']"
   ]
  },
  {
   "cell_type": "code",
   "execution_count": 34,
   "metadata": {},
   "outputs": [
    {
     "data": {
      "text/plain": [
       "75"
      ]
     },
     "execution_count": 34,
     "metadata": {},
     "output_type": "execute_result"
    }
   ],
   "source": [
    "y_pred_test[338332]"
   ]
  },
  {
   "cell_type": "code",
   "execution_count": 32,
   "metadata": {},
   "outputs": [
    {
     "data": {
      "text/plain": [
       "338332    high precision digital body weight bathroom sc...\n",
       "498245    high precision digital body weight bathroom sc...\n",
       "552747    precision household weighing scale, digital ba...\n",
       "Name: name, dtype: object"
      ]
     },
     "execution_count": 32,
     "metadata": {},
     "output_type": "execute_result"
    }
   ],
   "source": [
    "keyw_spam['name'][keyw_spam['name'].str.contains(' bathroom scales')]"
   ]
  },
  {
   "cell_type": "code",
   "execution_count": 40,
   "metadata": {},
   "outputs": [],
   "source": [
    "top_n = np.argsort(y_predprob_test)[:,:-2-1:-1]"
   ]
  },
  {
   "cell_type": "code",
   "execution_count": 55,
   "metadata": {},
   "outputs": [],
   "source": [
    "a=pd.DataFrame(top_n) #turn into dataframce\n",
    "b=a.iloc[:,0].astype(str).str.cat(a.iloc[:,1].astype(str), sep=' ') #concat 2 results"
   ]
  },
  {
   "cell_type": "code",
   "execution_count": 64,
   "metadata": {},
   "outputs": [],
   "source": [
    "keyw_spam['groups_found'] = b.to_frame()"
   ]
  },
  {
   "cell_type": "code",
   "execution_count": 70,
   "metadata": {},
   "outputs": [],
   "source": [
    "keyw_spam['groups_found']= '[' + keyw_spam['groups_found'] + ']'"
   ]
  },
  {
   "cell_type": "code",
   "execution_count": 73,
   "metadata": {},
   "outputs": [],
   "source": [
    "keyw_spam[['index','groups_found']].to_csv('submission_RF.csv',index=False)"
   ]
  }
 ],
 "metadata": {
  "kernelspec": {
   "display_name": "Python 3",
   "language": "python",
   "name": "python3"
  },
  "language_info": {
   "codemirror_mode": {
    "name": "ipython",
    "version": 3
   },
   "file_extension": ".py",
   "mimetype": "text/x-python",
   "name": "python",
   "nbconvert_exporter": "python",
   "pygments_lexer": "ipython3",
   "version": "3.7.3"
  }
 },
 "nbformat": 4,
 "nbformat_minor": 2
}
