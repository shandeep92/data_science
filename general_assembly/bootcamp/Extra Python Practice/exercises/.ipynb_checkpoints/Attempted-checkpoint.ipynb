{
 "cells": [
  {
   "cell_type": "code",
   "execution_count": 1,
   "metadata": {},
   "outputs": [
    {
     "data": {
      "text/plain": [
       "8"
      ]
     },
     "execution_count": 1,
     "metadata": {},
     "output_type": "execute_result"
    }
   ],
   "source": [
    "\"\"\"Define a function max() that takes two numbers as arguments\n",
    "and returns the largest of them. Use the if-then-else construct\n",
    "available in Python. (It is true that Python has the max() function\n",
    "built in, but writing it yourself is nevertheless a good exercise.)\"\"\"\n",
    "\n",
    "def maxfunc(num1, num2):\n",
    "    if num1 > num2:\n",
    "        return num1\n",
    "    else:\n",
    "        return num2\n",
    "\n",
    "maxfunc(7,8)"
   ]
  },
  {
   "cell_type": "code",
   "execution_count": 2,
   "metadata": {},
   "outputs": [
    {
     "data": {
      "text/plain": [
       "7"
      ]
     },
     "execution_count": 2,
     "metadata": {},
     "output_type": "execute_result"
    }
   ],
   "source": [
    "\"\"\"Define a function max_of_three() that takes three\n",
    "numbers as arguments and returns the largest of them.\"\"\"\n",
    "\n",
    "def max_of_three(num1, num2, num3):\n",
    "    if num1 > num2 and num1 > num3:\n",
    "        return num1\n",
    "    elif num2 > num1 and num2 > num3:\n",
    "        return num2\n",
    "    else:\n",
    "        return num3\n",
    "    \n",
    "max_of_three(1,3,7)"
   ]
  },
  {
   "cell_type": "code",
   "execution_count": 4,
   "metadata": {},
   "outputs": [
    {
     "data": {
      "text/plain": [
       "5"
      ]
     },
     "execution_count": 4,
     "metadata": {},
     "output_type": "execute_result"
    }
   ],
   "source": [
    "\"\"\"Define a function that computes the length of a\n",
    "given list or string. (It is true that Python has\n",
    "the len() function built in, but writing it yourself\n",
    "is nevertheless a good exercise.)\"\"\"\n",
    "\n",
    "def compute_length(str_length):\n",
    "    length = 0\n",
    "    for a in str_length:\n",
    "        length +=1\n",
    "    return length\n",
    "\n",
    "compute_length('short')\n"
   ]
  },
  {
   "cell_type": "code",
   "execution_count": 6,
   "metadata": {},
   "outputs": [
    {
     "data": {
      "text/plain": [
       "True"
      ]
     },
     "execution_count": 6,
     "metadata": {},
     "output_type": "execute_result"
    }
   ],
   "source": [
    "\"\"\"Write a function that takes a character (i.e. a\n",
    "string of length 1) and returns True if it is a vowel,\n",
    "False otherwise.\"\"\"\n",
    "\n",
    "def vowelfunc(char):\n",
    "    vowel =['a','e','i','o','u']\n",
    "    if char in vowel:\n",
    "        return True\n",
    "vowelfunc('a')"
   ]
  },
  {
   "cell_type": "code",
   "execution_count": 13,
   "metadata": {},
   "outputs": [
    {
     "data": {
      "text/plain": [
       "'gogroreatot'"
      ]
     },
     "execution_count": 13,
     "metadata": {},
     "output_type": "execute_result"
    }
   ],
   "source": [
    "\"\"\"Write a function translate() that will translate a text\n",
    "into \"rovarspraket\" (Swedish for \"robber's language\").\n",
    "That is, double every consonant and place an occurrence\n",
    "of \"o\" in between. For example, translate(\"this is fun\")\n",
    "should return the string \"tothohisos isos fofunon\".\"\"\"\n",
    "\n",
    "def translate(word):\n",
    "    vowel = ['a','e','i','o','u']\n",
    "    new_word =''\n",
    "    for char in word:\n",
    "        if char in vowel:\n",
    "            new_word = new_word + char\n",
    "        else:\n",
    "            new_word = new_word + char + 'o' + char\n",
    "    return new_word\n",
    "\n",
    "translate('great')"
   ]
  },
  {
   "cell_type": "code",
   "execution_count": 29,
   "metadata": {},
   "outputs": [
    {
     "name": "stdout",
     "output_type": "stream",
     "text": [
      "16\n",
      "105\n"
     ]
    }
   ],
   "source": [
    "\"\"\"Define a function sum() and a function multiply() that\n",
    "sums and multiplies (respectively) all the numbers in a list\n",
    "of numbers. For example, sum([1, 2, 3, 4]) should return 10,\n",
    "and multiply([1, 2, 3, 4]) should return 24.\"\"\"\n",
    "\n",
    "def sumfunc(nums):\n",
    "    sum_num = 0\n",
    "    for num in nums:\n",
    "        sum_num += num\n",
    "    return sum_num\n",
    "\n",
    "def multfunc(nums2):\n",
    "    mult_num = 1\n",
    "    for num in nums2:\n",
    "        mult_num *= num\n",
    "    return mult_num\n",
    "\n",
    "num_list =[1,3,5,7]\n",
    "print sumfunc(num_list)\n",
    "print multfunc(num_list)\n"
   ]
  },
  {
   "cell_type": "code",
   "execution_count": 18,
   "metadata": {},
   "outputs": [
    {
     "ename": "AttributeError",
     "evalue": "'str' object has no attribute 'remove'",
     "output_type": "error",
     "traceback": [
      "\u001b[0;31m---------------------------------------------------------------------------\u001b[0m",
      "\u001b[0;31mAttributeError\u001b[0m                            Traceback (most recent call last)",
      "\u001b[0;32m<ipython-input-18-a97f0953a3f9>\u001b[0m in \u001b[0;36m<module>\u001b[0;34m()\u001b[0m\n\u001b[1;32m     13\u001b[0m     \u001b[0;32mreturn\u001b[0m \u001b[0mnew_word\u001b[0m\u001b[0;34m\u001b[0m\u001b[0m\n\u001b[1;32m     14\u001b[0m \u001b[0;34m\u001b[0m\u001b[0m\n\u001b[0;32m---> 15\u001b[0;31m \u001b[0mrev\u001b[0m\u001b[0;34m(\u001b[0m\u001b[0;34m'great'\u001b[0m\u001b[0;34m)\u001b[0m\u001b[0;34m\u001b[0m\u001b[0m\n\u001b[0m",
      "\u001b[0;32m<ipython-input-18-a97f0953a3f9>\u001b[0m in \u001b[0;36mrev\u001b[0;34m(word_str)\u001b[0m\n\u001b[1;32m      9\u001b[0m     \u001b[0;32mwhile\u001b[0m \u001b[0mlength\u001b[0m \u001b[0;34m!=\u001b[0m \u001b[0;36m0\u001b[0m\u001b[0;34m:\u001b[0m\u001b[0;34m\u001b[0m\u001b[0m\n\u001b[1;32m     10\u001b[0m         \u001b[0mnew_word\u001b[0m \u001b[0;34m+=\u001b[0m \u001b[0mword_str\u001b[0m\u001b[0;34m[\u001b[0m\u001b[0;34m-\u001b[0m\u001b[0;36m1\u001b[0m\u001b[0;34m]\u001b[0m\u001b[0;34m\u001b[0m\u001b[0m\n\u001b[0;32m---> 11\u001b[0;31m         \u001b[0mword_str\u001b[0m\u001b[0;34m.\u001b[0m\u001b[0mremove\u001b[0m\u001b[0;34m(\u001b[0m\u001b[0;34m[\u001b[0m\u001b[0;34m-\u001b[0m\u001b[0;36m1\u001b[0m\u001b[0;34m]\u001b[0m\u001b[0;34m)\u001b[0m\u001b[0;34m\u001b[0m\u001b[0m\n\u001b[0m\u001b[1;32m     12\u001b[0m         \u001b[0mlength\u001b[0m \u001b[0;34m=\u001b[0m \u001b[0mlength\u001b[0m \u001b[0;34m-\u001b[0m \u001b[0;36m1\u001b[0m\u001b[0;34m\u001b[0m\u001b[0m\n\u001b[1;32m     13\u001b[0m     \u001b[0;32mreturn\u001b[0m \u001b[0mnew_word\u001b[0m\u001b[0;34m\u001b[0m\u001b[0m\n",
      "\u001b[0;31mAttributeError\u001b[0m: 'str' object has no attribute 'remove'"
     ]
    }
   ],
   "source": [
    "\"\"\"Define a function reverse() that computes the reversal\n",
    "of a string. For example, reverse(\"I am testing\") should\n",
    "return the string \"gnitset ma I\".\"\"\"\n",
    "\n",
    "# word_str[::-1] does the same\n",
    "def rev(word_str):\n",
    "    new_word = ''\n",
    "    length = len(word_str)\n",
    "    while length != 0:\n",
    "        new_word += word_str[-1]\n",
    "        word_str.remove([-1])\n",
    "        length = length - 1\n",
    "    return new_word\n",
    "\n",
    "rev('great')"
   ]
  },
  {
   "cell_type": "code",
   "execution_count": null,
   "metadata": {
    "collapsed": true
   },
   "outputs": [],
   "source": [
    "\"\"\"Define a function is_palindrome() that recognizes \n",
    "palindromes (i.e. words that look the same written backwards). \n",
    "For example, is_palindrome(\"radar\") should return True.\"\"\""
   ]
  },
  {
   "cell_type": "code",
   "execution_count": null,
   "metadata": {
    "collapsed": true
   },
   "outputs": [],
   "source": [
    "\"\"\"Write a function is_member() that takes a value \n",
    "i.e. a number, string, etc) x and a list of values a, \n",
    "and returns True if x is a member of a, False otherwise. \n",
    "(Note that this is exactly what the in operator does, but \n",
    "  for the sake of the exercise you should pretend Python \n",
    "  did not have this operator.)\"\"\"\n",
    "\n",
    "def is_member(, ):"
   ]
  },
  {
   "cell_type": "code",
   "execution_count": null,
   "metadata": {
    "collapsed": true
   },
   "outputs": [],
   "source": [
    "\"\"\"Define a function overlapping() that takes two lists and \n",
    "returns True if they have at least one member in common, \n",
    "False otherwise. You may use your is_member() function, \n",
    "or the in operator, but for the sake of the exercise, \n",
    "you should (also) write it using two nested for-loops.\"\"\""
   ]
  },
  {
   "cell_type": "code",
   "execution_count": null,
   "metadata": {
    "collapsed": true
   },
   "outputs": [],
   "source": []
  }
 ],
 "metadata": {
  "anaconda-cloud": {},
  "kernelspec": {
   "display_name": "Python 2",
   "language": "python",
   "name": "python2"
  },
  "language_info": {
   "codemirror_mode": {
    "name": "ipython",
    "version": 2
   },
   "file_extension": ".py",
   "mimetype": "text/x-python",
   "name": "python",
   "nbconvert_exporter": "python",
   "pygments_lexer": "ipython2",
   "version": "2.7.14"
  }
 },
 "nbformat": 4,
 "nbformat_minor": 1
}
