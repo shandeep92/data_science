{
 "cells": [
  {
   "cell_type": "code",
   "execution_count": 9,
   "metadata": {},
   "outputs": [],
   "source": [
    "#python -m pip install pymongo[srv]\n",
    "#pip install dnspython"
   ]
  },
  {
   "cell_type": "markdown",
   "metadata": {},
   "source": [
    "### Comparing MongoDB to RDBMS\n",
    "\n",
    "RDBMS :\tMongoDB\n",
    "Database :\tDatabase\n",
    "\n",
    "Table :\tCollection\n",
    "\n",
    "Row :\tDocument\n",
    "\n",
    "Column :\tField\n",
    "\n",
    "Primary Key :\tPrimary Key\n",
    "\n",
    "Table Join :\tEmbedded Documents"
   ]
  },
  {
   "cell_type": "markdown",
   "metadata": {},
   "source": [
    "MongoDB on the Cloud\n",
    "\n",
    "https://www.mongodb.com/cloud/atlas/signup"
   ]
  },
  {
   "cell_type": "code",
   "execution_count": 51,
   "metadata": {},
   "outputs": [],
   "source": [
    "#import packages\n",
    "import pymongo\n",
    "from pymongo import MongoClient\n",
    "client = MongoClient()"
   ]
  },
  {
   "cell_type": "code",
   "execution_count": 52,
   "metadata": {},
   "outputs": [],
   "source": [
    "#Connect using a connection string\n",
    "#client = MongoClient('mongodb://localhost:27017/')\n",
    "client = MongoClient('Connectionstring')"
   ]
  },
  {
   "cell_type": "code",
   "execution_count": 53,
   "metadata": {},
   "outputs": [],
   "source": [
    "#Connect to the database\n",
    "db = client['booksdb']"
   ]
  },
  {
   "cell_type": "code",
   "execution_count": 59,
   "metadata": {},
   "outputs": [],
   "source": [
    "# First Document\n",
    "article = {\"author\": \"Derrick Mwiti\",\n",
    "            \"about\": \"Introduction to MongoDB and Python\",\n",
    "            \"tags\": [\"mongodb\", \"python\", \"pymongo\"]}"
   ]
  },
  {
   "cell_type": "code",
   "execution_count": 60,
   "metadata": {},
   "outputs": [],
   "source": [
    "articles = db.articles\n",
    "result = articles.insert_one(article)"
   ]
  },
  {
   "cell_type": "code",
   "execution_count": 61,
   "metadata": {},
   "outputs": [
    {
     "name": "stdout",
     "output_type": "stream",
     "text": [
      "First article key is: 5e57d97fbecbbeee88b559ce\n"
     ]
    }
   ],
   "source": [
    "print(\"First article key is: {}\".format(result.inserted_id))"
   ]
  },
  {
   "cell_type": "code",
   "execution_count": 62,
   "metadata": {},
   "outputs": [
    {
     "data": {
      "text/plain": [
       "['articles']"
      ]
     },
     "execution_count": 62,
     "metadata": {},
     "output_type": "execute_result"
    }
   ],
   "source": [
    "db.list_collection_names()"
   ]
  },
  {
   "cell_type": "code",
   "execution_count": 63,
   "metadata": {},
   "outputs": [
    {
     "name": "stdout",
     "output_type": "stream",
     "text": [
      "The new article IDs are [ObjectId('5e57d988becbbeee88b559cf'), ObjectId('5e57d988becbbeee88b559d0')]\n"
     ]
    }
   ],
   "source": [
    "article1 = {\"author\": \"Emmanuel Kens\",\n",
    "            \"about\": \"Knn and Python\",\n",
    "            \"tags\":\n",
    "                [\"Knn\",\"pymongo\"]}\n",
    "article2 = {\"author\": \"Daniel Kimeli\",\n",
    "            \"about\": \"Web Development and Python\",\n",
    "            \"tags\":\n",
    "                [\"web\", \"design\", \"HTML\"]}\n",
    "new_articles = articles.insert_many([article1, article2])\n",
    "print(\"The new article IDs are {}\".format(new_articles.inserted_ids))"
   ]
  },
  {
   "cell_type": "code",
   "execution_count": 64,
   "metadata": {},
   "outputs": [
    {
     "name": "stdout",
     "output_type": "stream",
     "text": [
      "5e57d98bbecbbeee88b559d1\n"
     ]
    }
   ],
   "source": [
    "article3 = {\"author\": \"Reza Zadeh, Bharath Ramsundar\",\n",
    "            \"about\": \"TensorFlow for Deep Learning\",\n",
    "            \"tags\":\n",
    "                [\"TensorFlow\",\"Deep learning\"],\n",
    "            \"ISBN\": \"9781492032632\"}\n",
    "\n",
    "result = articles.insert_one(article3)\n",
    "print(result.inserted_id)"
   ]
  },
  {
   "cell_type": "markdown",
   "metadata": {},
   "source": [
    "find_one() returns a single document matching the query or none if it doesn't exist. This method returns the first match that it comes across. When we call the method below, we get the first article we inserted into our collection."
   ]
  },
  {
   "cell_type": "code",
   "execution_count": 65,
   "metadata": {},
   "outputs": [
    {
     "name": "stdout",
     "output_type": "stream",
     "text": [
      "{'_id': ObjectId('5e57d6f0becbbeee88b559c5'), 'author': 'Derrick Mwiti', 'about': 'Introduction to MongoDB and Python', 'tags': ['mongodb', 'python', 'pymongo']}\n"
     ]
    }
   ],
   "source": [
    "print(articles.find_one())"
   ]
  },
  {
   "cell_type": "markdown",
   "metadata": {},
   "source": [
    "**Finding all Documents in a Collection**"
   ]
  },
  {
   "cell_type": "code",
   "execution_count": 66,
   "metadata": {},
   "outputs": [
    {
     "name": "stdout",
     "output_type": "stream",
     "text": [
      "{'_id': ObjectId('5e57d6f0becbbeee88b559c5'), 'author': 'Derrick Mwiti', 'about': 'Introduction to MongoDB and Python', 'tags': ['mongodb', 'python', 'pymongo']}\n",
      "{'_id': ObjectId('5e57d769becbbeee88b559c6'), 'author': 'Emmanuel Kens', 'about': 'Knn and Python', 'tags': ['Knn', 'pymongo']}\n",
      "{'_id': ObjectId('5e57d769becbbeee88b559c7'), 'author': 'Daniel Kimeli', 'about': 'Web Development and Python', 'tags': ['web', 'design', 'HTML']}\n",
      "{'_id': ObjectId('5e57d82bbecbbeee88b559c8'), 'author': 'Reza Zadeh, Bharath Ramsundar', 'about': 'TensorFlow for Deep Learning', 'tags': ['TensorFlow', 'Deep learning'], 'ISBN': '9781492032632'}\n",
      "{'_id': ObjectId('5e57d8dcbecbbeee88b559cd'), 'author': 'Derrick Mwiti', 'about': 'Introduction to MongoDB and Python', 'tags': ['mongodb', 'python', 'pymongo']}\n",
      "{'_id': ObjectId('5e57d97fbecbbeee88b559ce'), 'author': 'Derrick Mwiti', 'about': 'Introduction to MongoDB and Python', 'tags': ['mongodb', 'python', 'pymongo']}\n",
      "{'_id': ObjectId('5e57d988becbbeee88b559cf'), 'author': 'Emmanuel Kens', 'about': 'Knn and Python', 'tags': ['Knn', 'pymongo']}\n",
      "{'_id': ObjectId('5e57d988becbbeee88b559d0'), 'author': 'Daniel Kimeli', 'about': 'Web Development and Python', 'tags': ['web', 'design', 'HTML']}\n",
      "{'_id': ObjectId('5e57d98bbecbbeee88b559d1'), 'author': 'Reza Zadeh, Bharath Ramsundar', 'about': 'TensorFlow for Deep Learning', 'tags': ['TensorFlow', 'Deep learning'], 'ISBN': '9781492032632'}\n"
     ]
    }
   ],
   "source": [
    "for article in articles.find():\n",
    "    print(article)"
   ]
  },
  {
   "cell_type": "code",
   "execution_count": 11,
   "metadata": {},
   "outputs": [],
   "source": [
    "from bson.objectid import ObjectId\n",
    "def get(post_id):\n",
    "    document = client.db.collection.find_one({'_id': ObjectId(post_id)})"
   ]
  },
  {
   "cell_type": "code",
   "execution_count": 46,
   "metadata": {},
   "outputs": [
    {
     "name": "stdout",
     "output_type": "stream",
     "text": [
      "{'author': 'Derrick Mwiti', 'about': 'Introduction to MongoDB and Python'}\n",
      "{'author': 'Emmanuel Kens', 'about': 'Knn and Python'}\n",
      "{'author': 'Daniel Kimeli', 'about': 'Web Development and Python'}\n",
      "{'author': 'Reza Zadeh, Bharath Ramsundar', 'about': 'TensorFlow for Deep Learning'}\n"
     ]
    }
   ],
   "source": [
    "for article in articles.find({},{ \"_id\": 0, \"author\": 1, \"about\": 1}):\n",
    "    print(article)"
   ]
  },
  {
   "cell_type": "code",
   "execution_count": 48,
   "metadata": {},
   "outputs": [
    {
     "name": "stdout",
     "output_type": "stream",
     "text": [
      "{'_id': ObjectId('5e57d769becbbeee88b559c7'), 'author': 'Daniel Kimeli', 'about': 'Web Development and Python', 'tags': ['web', 'design', 'HTML']}\n",
      "{'_id': ObjectId('5e57d6f0becbbeee88b559c5'), 'author': 'Derrick Mwiti', 'about': 'Introduction to MongoDB and Python', 'tags': ['mongodb', 'python', 'pymongo']}\n",
      "{'_id': ObjectId('5e57d769becbbeee88b559c6'), 'author': 'Emmanuel Kens', 'about': 'Knn and Python', 'tags': ['Knn', 'pymongo']}\n",
      "{'_id': ObjectId('5e57d82bbecbbeee88b559c8'), 'author': 'Reza Zadeh, Bharath Ramsundar', 'about': 'TensorFlow for Deep Learning', 'tags': ['TensorFlow', 'Deep learning'], 'ISBN': '9781492032632'}\n"
     ]
    }
   ],
   "source": [
    "doc = articles.find().sort(\"author\", 1)\n",
    "\n",
    "for x in doc:\n",
    "    print(x)"
   ]
  },
  {
   "cell_type": "code",
   "execution_count": 14,
   "metadata": {},
   "outputs": [
    {
     "name": "stdout",
     "output_type": "stream",
     "text": [
      "{'_id': ObjectId('5e57d1bebecbbeee88b559be'), 'author': 'John David', 'about': 'Introduction to MongoDB and Python', 'tags': ['mongodb', 'python', 'pymongo']}\n",
      "{'_id': ObjectId('5e57d1f8becbbeee88b559bf'), 'author': 'Emmanuel Kens', 'about': 'Knn and Python', 'tags': ['Knn', 'pymongo']}\n",
      "{'_id': ObjectId('5e57d1f8becbbeee88b559c0'), 'author': 'Daniel Kimeli', 'about': 'Web Development and Python', 'tags': ['web', 'design', 'HTML']}\n"
     ]
    }
   ],
   "source": [
    "query = { \"author\": \"Derrick Mwiti\" }\n",
    "new_author = { \"$set\": { \"author\": \"John David\" } }\n",
    "\n",
    "articles.update_one(query, new_author)\n",
    "\n",
    "for article in articles.find():\n",
    "    print(article)"
   ]
  },
  {
   "cell_type": "code",
   "execution_count": 15,
   "metadata": {},
   "outputs": [
    {
     "name": "stdout",
     "output_type": "stream",
     "text": [
      "{'_id': ObjectId('5e57d1bebecbbeee88b559be'), 'author': 'John David', 'about': 'Introduction to MongoDB and Python', 'tags': ['mongodb', 'python', 'pymongo']}\n"
     ]
    }
   ],
   "source": [
    "#Limiting the Result\n",
    "limited_result = articles.find().limit(1)\n",
    "for x in limited_result:\n",
    "    print(x)"
   ]
  },
  {
   "cell_type": "code",
   "execution_count": 18,
   "metadata": {},
   "outputs": [
    {
     "data": {
      "text/plain": [
       "<pymongo.results.DeleteResult at 0x107e318c8>"
      ]
     },
     "execution_count": 18,
     "metadata": {},
     "output_type": "execute_result"
    }
   ],
   "source": [
    "db.articles.delete_one({\"_id\":ObjectId(\"5e57d1bebecbbeee88b559be\")})"
   ]
  },
  {
   "cell_type": "code",
   "execution_count": 19,
   "metadata": {},
   "outputs": [
    {
     "name": "stdout",
     "output_type": "stream",
     "text": [
      "{'_id': ObjectId('5e57d1f8becbbeee88b559bf'), 'author': 'Emmanuel Kens', 'about': 'Knn and Python', 'tags': ['Knn', 'pymongo']}\n",
      "{'_id': ObjectId('5e57d1f8becbbeee88b559c0'), 'author': 'Daniel Kimeli', 'about': 'Web Development and Python', 'tags': ['web', 'design', 'HTML']}\n"
     ]
    }
   ],
   "source": [
    "for article in articles.find():\n",
    "    print(article)"
   ]
  },
  {
   "cell_type": "code",
   "execution_count": 20,
   "metadata": {},
   "outputs": [
    {
     "name": "stdout",
     "output_type": "stream",
     "text": [
      "2  articles deleted.\n"
     ]
    }
   ],
   "source": [
    "delete_articles = articles.delete_many({})\n",
    "print(delete_articles.deleted_count, \" articles deleted.\")"
   ]
  },
  {
   "cell_type": "code",
   "execution_count": 21,
   "metadata": {},
   "outputs": [],
   "source": [
    "articles.drop()"
   ]
  },
  {
   "cell_type": "code",
   "execution_count": 22,
   "metadata": {},
   "outputs": [
    {
     "data": {
      "text/plain": [
       "[]"
      ]
     },
     "execution_count": 22,
     "metadata": {},
     "output_type": "execute_result"
    }
   ],
   "source": [
    "db.list_collection_names()"
   ]
  },
  {
   "cell_type": "markdown",
   "metadata": {},
   "source": [
    "**Sample Dataset**\n",
    "\n",
    "https://docs.atlas.mongodb.com/sample-data/available-sample-datasets/"
   ]
  },
  {
   "cell_type": "code",
   "execution_count": 68,
   "metadata": {},
   "outputs": [],
   "source": [
    "#Connect to the database\n",
    "db_airbnb = client['sample_airbnb']"
   ]
  },
  {
   "cell_type": "code",
   "execution_count": 69,
   "metadata": {},
   "outputs": [
    {
     "data": {
      "text/plain": [
       "['listingsAndReviews']"
      ]
     },
     "execution_count": 69,
     "metadata": {},
     "output_type": "execute_result"
    }
   ],
   "source": [
    "db_airbnb.list_collection_names()"
   ]
  },
  {
   "cell_type": "code",
   "execution_count": 72,
   "metadata": {},
   "outputs": [
    {
     "data": {
      "text/plain": [
       "{'_id': '10006546',\n",
       " 'listing_url': 'https://www.airbnb.com/rooms/10006546',\n",
       " 'name': 'Ribeira Charming Duplex',\n",
       " 'summary': 'Fantastic duplex apartment with three bedrooms, located in the historic area of Porto, Ribeira (Cube) - UNESCO World Heritage Site. Centenary building fully rehabilitated, without losing their original character.',\n",
       " 'space': 'Privileged views of the Douro River and Ribeira square, our apartment offers the perfect conditions to discover the history and the charm of Porto. Apartment comfortable, charming, romantic and cozy in the heart of Ribeira. Within walking distance of all the most emblematic places of the city of Porto. The apartment is fully equipped to host 8 people, with cooker, oven, washing machine, dishwasher, microwave, coffee machine (Nespresso) and kettle. The apartment is located in a very typical area of the city that allows to cross with the most picturesque population of the city, welcoming, genuine and happy people that fills the streets with his outspoken speech and contagious with your sincere generosity, wrapped in a only parochial spirit.',\n",
       " 'description': 'Fantastic duplex apartment with three bedrooms, located in the historic area of Porto, Ribeira (Cube) - UNESCO World Heritage Site. Centenary building fully rehabilitated, without losing their original character. Privileged views of the Douro River and Ribeira square, our apartment offers the perfect conditions to discover the history and the charm of Porto. Apartment comfortable, charming, romantic and cozy in the heart of Ribeira. Within walking distance of all the most emblematic places of the city of Porto. The apartment is fully equipped to host 8 people, with cooker, oven, washing machine, dishwasher, microwave, coffee machine (Nespresso) and kettle. The apartment is located in a very typical area of the city that allows to cross with the most picturesque population of the city, welcoming, genuine and happy people that fills the streets with his outspoken speech and contagious with your sincere generosity, wrapped in a only parochial spirit. We are always available to help guests',\n",
       " 'neighborhood_overview': \"In the neighborhood of the river, you can find several restaurants as varied flavors, but without forgetting the so traditional northern food. You can also find several bars and pubs to unwind after a day's visit to the magnificent Port. To enjoy the Douro River can board the boats that daily make the ride of six bridges. You can also embark towards Régua, Barca d'Alva, Pinhão, etc and enjoy the Douro Wine Region, World Heritage of Humanity. The Infante's house is a few meters and no doubt it deserves a visit. They abound grocery stores, bakeries, etc. to make your meals. Souvenir shop, wine cellars, etc. to bring some souvenirs.\",\n",
       " 'notes': 'Lose yourself in the narrow streets and staircases zone, have lunch in pubs and typical restaurants, and find the renovated cafes and shops in town. If you like exercise, rent a bicycle in the area and ride along the river to the sea, where it will enter beautiful beaches and terraces for everyone. The area is safe, find the bus stops 1min and metro line 5min. The bustling nightlife is a 10 min walk, where the streets are filled with people and entertainment for all. But Porto is much more than the historical center, here is modern museums, concert halls, clean and cared for beaches and surf all year round. Walk through the Ponte D. Luis and visit the different Caves of Port wine, where you will enjoy the famous port wine. Porto is a spoken city everywhere in the world as the best to be visited and savored by all ... natural beauty, culture, tradition, river, sea, beach, single people, typical food, and we are among those who best receive tourists, confirm! Come visit us and feel at ho',\n",
       " 'transit': 'Transport: • Metro station and S. Bento railway 5min; • Bus stop a 50 meters; • Lift Guindais (Funicular) 50 meters; • Tuc Tuc-to get around the city; • Buses tourist; • Cycling through the marginal drive; • Cable car in Gaia, overlooking the Port (just cross the bridge).',\n",
       " 'access': 'We are always available to help guests. The house is fully available to guests. We are always ready to assist guests. when possible we pick the guests at the airport.  This service transfer have a cost per person. We will also have service \"meal at home\" with a diverse menu and the taste of each. Enjoy the moment!',\n",
       " 'interaction': 'Cot - 10 € / night Dog - € 7,5 / night',\n",
       " 'house_rules': 'Make the house your home...',\n",
       " 'property_type': 'House',\n",
       " 'room_type': 'Entire home/apt',\n",
       " 'bed_type': 'Real Bed',\n",
       " 'minimum_nights': '2',\n",
       " 'maximum_nights': '30',\n",
       " 'cancellation_policy': 'moderate',\n",
       " 'last_scraped': datetime.datetime(2019, 2, 16, 5, 0),\n",
       " 'calendar_last_scraped': datetime.datetime(2019, 2, 16, 5, 0),\n",
       " 'first_review': datetime.datetime(2016, 1, 3, 5, 0),\n",
       " 'last_review': datetime.datetime(2019, 1, 20, 5, 0),\n",
       " 'accommodates': 8,\n",
       " 'bedrooms': 3,\n",
       " 'beds': 5,\n",
       " 'number_of_reviews': 51,\n",
       " 'bathrooms': Decimal128('1.0'),\n",
       " 'amenities': ['TV',\n",
       "  'Cable TV',\n",
       "  'Wifi',\n",
       "  'Kitchen',\n",
       "  'Paid parking off premises',\n",
       "  'Smoking allowed',\n",
       "  'Pets allowed',\n",
       "  'Buzzer/wireless intercom',\n",
       "  'Heating',\n",
       "  'Family/kid friendly',\n",
       "  'Washer',\n",
       "  'First aid kit',\n",
       "  'Fire extinguisher',\n",
       "  'Essentials',\n",
       "  'Hangers',\n",
       "  'Hair dryer',\n",
       "  'Iron',\n",
       "  'Pack ’n Play/travel crib',\n",
       "  'Room-darkening shades',\n",
       "  'Hot water',\n",
       "  'Bed linens',\n",
       "  'Extra pillows and blankets',\n",
       "  'Microwave',\n",
       "  'Coffee maker',\n",
       "  'Refrigerator',\n",
       "  'Dishwasher',\n",
       "  'Dishes and silverware',\n",
       "  'Cooking basics',\n",
       "  'Oven',\n",
       "  'Stove',\n",
       "  'Cleaning before checkout',\n",
       "  'Waterfront'],\n",
       " 'price': Decimal128('80.00'),\n",
       " 'security_deposit': Decimal128('200.00'),\n",
       " 'cleaning_fee': Decimal128('35.00'),\n",
       " 'extra_people': Decimal128('15.00'),\n",
       " 'guests_included': Decimal128('6'),\n",
       " 'images': {'thumbnail_url': '',\n",
       "  'medium_url': '',\n",
       "  'picture_url': 'https://a0.muscache.com/im/pictures/e83e702f-ef49-40fb-8fa0-6512d7e26e9b.jpg?aki_policy=large',\n",
       "  'xl_picture_url': ''},\n",
       " 'host': {'host_id': '51399391',\n",
       "  'host_url': 'https://www.airbnb.com/users/show/51399391',\n",
       "  'host_name': 'Ana&Gonçalo',\n",
       "  'host_location': 'Porto, Porto District, Portugal',\n",
       "  'host_about': 'Gostamos de passear, de viajar, de conhecer pessoas e locais novos, gostamos de desporto e animais! Vivemos na cidade mais linda do mundo!!!',\n",
       "  'host_response_time': 'within an hour',\n",
       "  'host_thumbnail_url': 'https://a0.muscache.com/im/pictures/fab79f25-2e10-4f0f-9711-663cb69dc7d8.jpg?aki_policy=profile_small',\n",
       "  'host_picture_url': 'https://a0.muscache.com/im/pictures/fab79f25-2e10-4f0f-9711-663cb69dc7d8.jpg?aki_policy=profile_x_medium',\n",
       "  'host_neighbourhood': '',\n",
       "  'host_response_rate': 100,\n",
       "  'host_is_superhost': False,\n",
       "  'host_has_profile_pic': True,\n",
       "  'host_identity_verified': True,\n",
       "  'host_listings_count': 3,\n",
       "  'host_total_listings_count': 3,\n",
       "  'host_verifications': ['email',\n",
       "   'phone',\n",
       "   'reviews',\n",
       "   'jumio',\n",
       "   'offline_government_id',\n",
       "   'government_id']},\n",
       " 'address': {'street': 'Porto, Porto, Portugal',\n",
       "  'suburb': '',\n",
       "  'government_area': 'Cedofeita, Ildefonso, Sé, Miragaia, Nicolau, Vitória',\n",
       "  'market': 'Porto',\n",
       "  'country': 'Portugal',\n",
       "  'country_code': 'PT',\n",
       "  'location': {'type': 'Point',\n",
       "   'coordinates': [-8.61308, 41.1413],\n",
       "   'is_location_exact': False}},\n",
       " 'availability': {'availability_30': 28,\n",
       "  'availability_60': 47,\n",
       "  'availability_90': 74,\n",
       "  'availability_365': 239},\n",
       " 'review_scores': {'review_scores_accuracy': 9,\n",
       "  'review_scores_cleanliness': 9,\n",
       "  'review_scores_checkin': 10,\n",
       "  'review_scores_communication': 10,\n",
       "  'review_scores_location': 10,\n",
       "  'review_scores_value': 9,\n",
       "  'review_scores_rating': 89},\n",
       " 'reviews': [{'_id': '58663741',\n",
       "   'date': datetime.datetime(2016, 1, 3, 5, 0),\n",
       "   'listing_id': '10006546',\n",
       "   'reviewer_id': '51483096',\n",
       "   'reviewer_name': 'Cátia',\n",
       "   'comments': 'A casa da Ana e do Gonçalo foram o local escolhido para a passagem de ano com um grupo de amigos. Fomos super bem recebidos com uma grande simpatia e predisposição a ajudar com qualquer coisa que fosse necessário.\\r\\nA casa era ainda melhor do que parecia nas fotos, totalmente equipada, com mantas, aquecedor e tudo o que pudessemos precisar.\\r\\nA localização não podia ser melhor! Não há melhor do que acordar de manhã e ao virar da esquina estar a ribeira do Porto.'},\n",
       "  {'_id': '62413197',\n",
       "   'date': datetime.datetime(2016, 2, 14, 5, 0),\n",
       "   'listing_id': '10006546',\n",
       "   'reviewer_id': '40031996',\n",
       "   'reviewer_name': 'Théo',\n",
       "   'comments': \"We are french's students, we traveled some days in Porto, this space was good and we can cooking easly. It was rainning so we eard every time the water fall to the ground in the street when we sleeping. But It was cool and or was well received by Ana et Gonçalo\"},\n",
       "  {'_id': '68310569',\n",
       "   'date': datetime.datetime(2016, 4, 4, 4, 0),\n",
       "   'listing_id': '10006546',\n",
       "   'reviewer_id': '53859850',\n",
       "   'reviewer_name': 'Bart',\n",
       "   'comments': \"We had a spledid time in the old centre of Porto.\\r\\nThe appartment is very well situated next to the old Ribeira square. It's perfect to have such an appartment to your disposal, you feel home, and have a place to relax between the exploration of this very nice city.\\r\\nWe thank Ana & Gonçalo, and we hope the appartment is free when we go back next year. Porto is charming original.\"},\n",
       "  {'_id': '69693942',\n",
       "   'date': datetime.datetime(2016, 4, 12, 4, 0),\n",
       "   'listing_id': '10006546',\n",
       "   'reviewer_id': '3135623',\n",
       "   'reviewer_name': 'Alex',\n",
       "   'comments': \"Ana and Goncalo were very helpful and accommodating. When they were not available they put us in touch with their nephew who was equally as helpful. The flat was as described, neat and tidy. The weather was quite cold, but thankfully A&G left us with extra blankets and electric heaters to use. Location was great. Outside the flat there was a slight smell of the river/ sewage, but in all honesty it did not come into the flat, and once you go down the road it doesn't carry on. This may also have been down to the very wet weather we had while there. All in all, very happy and would definitely recommend.\"},\n",
       "  {'_id': '71451096',\n",
       "   'date': datetime.datetime(2016, 4, 25, 4, 0),\n",
       "   'listing_id': '10006546',\n",
       "   'reviewer_id': '13187858',\n",
       "   'reviewer_name': 'Dan',\n",
       "   'comments': \"The hosts were very accommodating and agreed to meet with my parents as they were arriving before us. Communicated very well and always responded in a very timely manner. You couldn't have asked for a better location of this apartment and the place was identical to the pictures in the in the listing.\"},\n",
       "  {'_id': '73191268',\n",
       "   'date': datetime.datetime(2016, 5, 7, 4, 0),\n",
       "   'listing_id': '10006546',\n",
       "   'reviewer_id': '61434690',\n",
       "   'reviewer_name': 'Anne',\n",
       "   'comments': \"THE PLACE TO BE, l'appartement est situé au milieu de la Ribeira , tout peut se faire à pieds c'est l'ideal,l'appartement est très bien agencé et équipé.\\r\\nNous avons passé un séjour très agréable dans ce duplex avec beaucoup de charme .\\r\\nAccueil très chaleureux de Ana et Gonçalo, ils ont pris du temps pour nous indiquer tout ce qu'il y avait à faire sur Porto et répondus  à toutes nos interrogations en terme de commodités.. Merci..\\r\\n\"},\n",
       "  {'_id': '77438107',\n",
       "   'date': datetime.datetime(2016, 5, 31, 4, 0),\n",
       "   'listing_id': '10006546',\n",
       "   'reviewer_id': '3673216',\n",
       "   'reviewer_name': 'Chris',\n",
       "   'comments': 'We had a great time in Porto. Ana’s & Goncalo’s apartment is located right in the heart of the Old Town and is great value for money. You really are at the centre of things and it’s the perfect place to get swept away in the hustle and bustle of Porto. Ana and Goncalo were great hosts.'},\n",
       "  {'_id': '89637734',\n",
       "   'date': datetime.datetime(2016, 7, 29, 4, 0),\n",
       "   'listing_id': '10006546',\n",
       "   'reviewer_id': '9172374',\n",
       "   'reviewer_name': 'Leslie',\n",
       "   'comments': \"Ana and Gonçalo were very welcoming and made a lot of information about Porto's sights available. It was very clean, very beautiful and the location was superb. It does have a lot of restaurants around it, so it could be a bit noisy for us at night but otherwise  great location. We would stay there again. \"},\n",
       "  {'_id': '96574146',\n",
       "   'date': datetime.datetime(2016, 8, 23, 4, 0),\n",
       "   'listing_id': '10006546',\n",
       "   'reviewer_id': '71985274',\n",
       "   'reviewer_name': 'Philippe',\n",
       "   'comments': \"Super appartement très bien placé, au cœur de l'animation de la Ribeira !\\r\\nNous avons passé un super séjour à Porto !\\r\\nToutes les informations données par Ana et les documents laissés nous ont bien aidé à organiser notre séjour.  Nous avons (presque) tout fait à pied ! Le parking Ribeira est proche et bien utile pour garer le véhicule.\\r\\nMerci !!!\\r\\nPhilippe\\r\\n\"},\n",
       "  {'_id': '108444999',\n",
       "   'date': datetime.datetime(2016, 10, 16, 4, 0),\n",
       "   'listing_id': '10006546',\n",
       "   'reviewer_id': '24960918',\n",
       "   'reviewer_name': 'Hanneke',\n",
       "   'comments': 'The appartment was great, it is really nice and cosy, and it is situated at a perfect location. Ana and Goncalo were very friendly, they were very helpfull during our stay. We had a great time during our stay in Porto!'},\n",
       "  {'_id': '111065376',\n",
       "   'date': datetime.datetime(2016, 10, 30, 4, 0),\n",
       "   'listing_id': '10006546',\n",
       "   'reviewer_id': '74079092',\n",
       "   'reviewer_name': 'Kati',\n",
       "   'comments': 'Kävimme majoittajan kanssa viestinvaihtoa ennen lomaa ja he antoivat mukavan vaikutelman. He olivatkin hyvin mukavia ihmisiä. He tulivat lentokentälle vastaan kahdella autolla mikä oli hyvin ystävällistä. He kertoivat myös kaupungista ja sen nähtävyyksistä. Asunnon sijainti oli täydellinen. Se oli myös erittäin romanttinen ja kaunis. Kokemus oli hyvin onnistunut.'},\n",
       "  {'_id': '111655209',\n",
       "   'date': datetime.datetime(2016, 11, 1, 4, 0),\n",
       "   'listing_id': '10006546',\n",
       "   'reviewer_id': '40413493',\n",
       "   'reviewer_name': 'Julia',\n",
       "   'comments': 'Hemos pasado unos días increíbles en Oporto. Llegamos más tarde de lo que habíamos pensado y Ana & Gonçalo nos esperaron pacientemente y nos facilitaron la llegada, además nos recibieron con un regalo de bienvenida!. Nos dieron todo tipo de indicaciones y consejos más que de sobra para disfrutar de los días que estuvimos allí. La ubicación de la casa es inmejorable!! la única pega fue que el soporte de la ducha estaba roto pero como eran pocos días no quisimos molestar a Ana & Gonçalo y no se lo comentamos. '},\n",
       "  {'_id': '132811625',\n",
       "   'date': datetime.datetime(2017, 2, 19, 5, 0),\n",
       "   'listing_id': '10006546',\n",
       "   'reviewer_id': '8986056',\n",
       "   'reviewer_name': 'Joshua',\n",
       "   'comments': 'Great location, comfortable place, responsive and friendly host! Highly recommended!'},\n",
       "  {'_id': '144627907',\n",
       "   'date': datetime.datetime(2017, 4, 16, 4, 0),\n",
       "   'listing_id': '10006546',\n",
       "   'reviewer_id': '113254568',\n",
       "   'reviewer_name': 'Tracey',\n",
       "   'comments': 'This house is in the heart of Porto, set back enough to be away from the hustle and bustle but only a few steps up from the river, bars and restaurants. A great place to stay.\\nThe house was clean and functional. Ana and Goncalo are perfect hosts with lots of information on places to visit and   eat.'},\n",
       "  {'_id': '149009243',\n",
       "   'date': datetime.datetime(2017, 5, 2, 4, 0),\n",
       "   'listing_id': '10006546',\n",
       "   'reviewer_id': '11263097',\n",
       "   'reviewer_name': 'Willem',\n",
       "   'comments': 'The location of the house is wonderful! You are in the heart of the old city and the Douro ist just a few meters away. Perfect for a first visit to Porto!\\nVery cosy and warm house with everything you need.\\nGonçalo gives a lot of good tips that will help you to have a perfect stay. Communication is very easy with him.'},\n",
       "  {'_id': '150518693',\n",
       "   'date': datetime.datetime(2017, 5, 8, 4, 0),\n",
       "   'listing_id': '10006546',\n",
       "   'reviewer_id': '108507776',\n",
       "   'reviewer_name': 'Fanny',\n",
       "   'comments': 'We spend a really good time in Porto, the flat is so well situated. The bridge is just next door, the view on the river is amazing, and plenty of restaurants and pubs, transport are just around.\\nGonzalo is very kind to wait for us, also lat, for the check in, thank you.\\n'},\n",
       "  {'_id': '155913947',\n",
       "   'date': datetime.datetime(2017, 5, 29, 4, 0),\n",
       "   'listing_id': '10006546',\n",
       "   'reviewer_id': '30254816',\n",
       "   'reviewer_name': 'Bridget',\n",
       "   'comments': 'Thanks for a great stay! 6 of us were in Porto for a long weekend and we had a blast. The apartment was perfect; location and size to accomodate us. The hosts were great, then even picked us up at the airport (for a fee but it was a great service). Thanks again! Bridget.'},\n",
       "  {'_id': '159692160',\n",
       "   'date': datetime.datetime(2017, 6, 11, 4, 0),\n",
       "   'listing_id': '10006546',\n",
       "   'reviewer_id': '124514204',\n",
       "   'reviewer_name': 'Oscar',\n",
       "   'comments': 'Superb location and very nice, big and overall pleasant apartment!'},\n",
       "  {'_id': '164881958',\n",
       "   'date': datetime.datetime(2017, 6, 29, 4, 0),\n",
       "   'listing_id': '10006546',\n",
       "   'reviewer_id': '105188418',\n",
       "   'reviewer_name': 'Steve',\n",
       "   'comments': 'The apartment provides basic facilities but is good value for money and very well positioned for easy access to restaurants and bars, the Ribeira district and the Port house in Gaia.'},\n",
       "  {'_id': '166990342',\n",
       "   'date': datetime.datetime(2017, 7, 5, 4, 0),\n",
       "   'listing_id': '10006546',\n",
       "   'reviewer_id': '52660694',\n",
       "   'reviewer_name': 'Tina',\n",
       "   'comments': \"Ana und Gonçalo sind sehr hilfsbereite liebe Leute, die  alles tun, damit man sich wohl fühlt. Wenn es etwas zu beanstanden gab, wird das sofort problemlos erledigt. Das Apartment ist charmant, die Möbel schon etwas mitgenommen, aber das passt insgesamt ins Bild von Porto und macht den Reiz aus. Die Lage ist super, genau am Duoro. Es gibt Strassenmusik bis in den späten Abend und auch morgens geht's früh los mit fröhlichen Lärm von der Flusspromenade. Nichts also für Leute, die es ruhig brauchen! Die Lage ist wirklich exklusiv und tröstet über den recht teuren Mietpreis. Im Umfeld gibt es typische Touri-Fallen, wo alles doppelt kostet, aber gleichzeitig findet man auch sehr nette kleine Bars, in der man chillig und günstig frühstücken oder generell lecker essen kann. Die Stadt ist klein genug, um sich schnell zurechtzufinden und groß genug, um immer wieder neues zu entdecken. Wir waren zu dritt (50, 25, 20 Jahre) und haben die Zeit wirklich genossen. \"},\n",
       "  {'_id': '180030365',\n",
       "   'date': datetime.datetime(2017, 8, 9, 4, 0),\n",
       "   'listing_id': '10006546',\n",
       "   'reviewer_id': '25469637',\n",
       "   'reviewer_name': 'Mathieu',\n",
       "   'comments': 'Very well located appartement ideal for a family of 5 who want to make the most of the city center.\\nIt may be a bit noisy at night but this is acceptable.\\nGlobally we recommend this place.'},\n",
       "  {'_id': '198679769',\n",
       "   'date': datetime.datetime(2017, 9, 30, 4, 0),\n",
       "   'listing_id': '10006546',\n",
       "   'reviewer_id': '21837853',\n",
       "   'reviewer_name': 'Ido',\n",
       "   'comments': 'Great location! The apartment is somewhat basic. We were family with 3 teenagers and had a good time. Also it’s a bit noisy until very late at night.'},\n",
       "  {'_id': '199885226',\n",
       "   'date': datetime.datetime(2017, 10, 3, 4, 0),\n",
       "   'listing_id': '10006546',\n",
       "   'reviewer_id': '56528632',\n",
       "   'reviewer_name': 'Amanda',\n",
       "   'comments': 'This apartment is in the perfect location for being in the middle of the action. There were tons of restaurants close to the apartment and it was a quick walk across the bridge to tour the Port wineries. Be forewarned; if you are looking for a very quiet location, this area may not be for you. However, if you are looking to step outside of your door and start enjoying what Porto has to offer, I recommend this location.'},\n",
       "  {'_id': '207942636',\n",
       "   'date': datetime.datetime(2017, 10, 30, 4, 0),\n",
       "   'listing_id': '10006546',\n",
       "   'reviewer_id': '102474818',\n",
       "   'reviewer_name': 'Geneviève',\n",
       "   'comments': 'Acceuil très très chaleureux de Gonçalo  et Ana lors de notre arrivée très tardive due à un changement d\"\\'horaire d\\'avion....appartement super bien situé dans Porto près du Douro, fidèle aux photos mises sur le site....Nous avons adoré ce quartier bien animé  .....Encore merci à Gonçalo et Ana. ....'},\n",
       "  {'_id': '209455775',\n",
       "   'date': datetime.datetime(2017, 11, 5, 4, 0),\n",
       "   'listing_id': '10006546',\n",
       "   'reviewer_id': '10371877',\n",
       "   'reviewer_name': 'Andrea',\n",
       "   'comments': 'Localização perfeita, muito aconchegante, Ana e Gonçalo são pessoas muito atenciosas e simpáticas!'},\n",
       "  {'_id': '223995518',\n",
       "   'date': datetime.datetime(2018, 1, 2, 5, 0),\n",
       "   'listing_id': '10006546',\n",
       "   'reviewer_id': '10184070',\n",
       "   'reviewer_name': 'Jennifer',\n",
       "   'comments': \"Perfect position to see everything that Porto has to offer. Ana and Gonçalo were great hosts quick to respond and welcoming. Couldn't recommend a better place to stay in Porto to be able to see the sights and be within walking distance to so many restaurants.\"},\n",
       "  {'_id': '225725834',\n",
       "   'date': datetime.datetime(2018, 1, 7, 5, 0),\n",
       "   'listing_id': '10006546',\n",
       "   'reviewer_id': '156411765',\n",
       "   'reviewer_name': 'Nathalie',\n",
       "   'comments': 'Great location!'},\n",
       "  {'_id': '230559180',\n",
       "   'date': datetime.datetime(2018, 1, 28, 5, 0),\n",
       "   'listing_id': '10006546',\n",
       "   'reviewer_id': '2524423',\n",
       "   'reviewer_name': 'Cayetana',\n",
       "   'comments': 'Probably Ana&Gonzalo´s place is great for summer but definitely not in winter. The house is NOT WARM and ready for a stay in cold and humit season. There is NO HEATING in any of the rooms and living room, only bed covers (not nordic duvet) and small heaters which you have to switch off during the night. Those were not enough during our stay in January even we had sunny days! Moreover we were 5 people in the house without NO HOT WATER enough for all of us. \\nThe pictures did not show the reality. Furniture was much older and WiFi signal is only available in the living room, not the rooms.\\nOn the other hand, location is great if you want to stay close to the river. Although think about that all restaurants, bars and main tourist attractions are close to Train Station and Clerigos Tower which means 15-20 min uphill walking distance from the house.'},\n",
       "  {'_id': '232271631',\n",
       "   'date': datetime.datetime(2018, 2, 4, 5, 0),\n",
       "   'listing_id': '10006546',\n",
       "   'reviewer_id': '167219338',\n",
       "   'reviewer_name': 'Mérex',\n",
       "   'comments': \"Appartement très cosy! Nous y avons été pour un court séjour à 7 et avons adoré. L'appartement est idéalement situé dans le quartier magnifique de la Ribeira. L'accueil a ete très chaleureux: Nous étions trompé d'adresse car le GPS avaient confondus les rues mais Ana a su nous retrouver pour nous amener à l'appartement.  L'appartement était très  propre et nous avons eu largement tout ce qu'il fallait en linge.\\nEncore un Grand merci à eux!\"},\n",
       "  {'_id': '234847900',\n",
       "   'date': datetime.datetime(2018, 2, 14, 5, 0),\n",
       "   'listing_id': '10006546',\n",
       "   'reviewer_id': '6735587',\n",
       "   'reviewer_name': 'Andrea',\n",
       "   'comments': 'ottima ospitalità, la posizione della casa è ottima, vicina ai mezzi di trasporto e alle principali attrazioni della città, torneremo sicuramente. Consigliato!!'},\n",
       "  {'_id': '235293831',\n",
       "   'date': datetime.datetime(2018, 2, 16, 5, 0),\n",
       "   'listing_id': '10006546',\n",
       "   'reviewer_id': '130170949',\n",
       "   'reviewer_name': 'Bogdan',\n",
       "   'comments': 'Nice apartment in Porto, we enjoy staying in it for a few days. The apartment is comfortable and has a very nice location. Thanks to Ana and Gonsalo for hospitality.'},\n",
       "  {'_id': '240252220',\n",
       "   'date': datetime.datetime(2018, 3, 4, 5, 0),\n",
       "   'listing_id': '10006546',\n",
       "   'reviewer_id': '153415353',\n",
       "   'reviewer_name': 'Alison',\n",
       "   'comments': 'Great location. Good value thanks for the stay'},\n",
       "  {'_id': '244738269',\n",
       "   'date': datetime.datetime(2018, 3, 19, 4, 0),\n",
       "   'listing_id': '10006546',\n",
       "   'reviewer_id': '59706237',\n",
       "   'reviewer_name': 'Marco',\n",
       "   'comments': 'Me and my friends (7 ppl tot) have booked Gonçalo and Ana’s apartment for our holidays and i think we cannot do a better choice like that.\\nThe apartment is situated near Oporto’s riverside, in Ribeira district, at 2 minutes walking to Sao Bento’s station, 10minutes to Lello’s library and clerics’s tower. In less than 10 minutes u’re in Vila Nova De Gaia where u can find the wineries of porto’s wine.\\nThe apartment is really spacious and comfortable, perfect for 7 italian people that want to have fun in Oporto.\\nSuggested!!!'},\n",
       "  {'_id': '246334180',\n",
       "   'date': datetime.datetime(2018, 3, 25, 4, 0),\n",
       "   'listing_id': '10006546',\n",
       "   'reviewer_id': '12047570',\n",
       "   'reviewer_name': 'Michel',\n",
       "   'comments': \"L'emplacement et vraiment au coeur de l'animation du vieux Porto. Au pied de l'appartement se trouvent de charmants café avec vue sur le Douro.\\nAna&Gonçalo ont été très attentionnés et à l'écoute de nos demandes\\nMichel\"},\n",
       "  {'_id': '259708770',\n",
       "   'date': datetime.datetime(2018, 5, 1, 4, 0),\n",
       "   'listing_id': '10006546',\n",
       "   'reviewer_id': '174003310',\n",
       "   'reviewer_name': 'Dariusz',\n",
       "   'comments': 'Great location right next to the Dom Luiz bridge and Douro river and plenty of restaurants. Enough room for about 6 people. Ana was very responsive to any concerns we had. Would stay again.'},\n",
       "  {'_id': '263239322',\n",
       "   'date': datetime.datetime(2018, 5, 11, 4, 0),\n",
       "   'listing_id': '10006546',\n",
       "   'reviewer_id': '31033799',\n",
       "   'reviewer_name': 'Margriet',\n",
       "   'comments': 'The house was supernice and located in the middle of the center. We really enjoyed our stay here!'},\n",
       "  {'_id': '264125733',\n",
       "   'date': datetime.datetime(2018, 5, 13, 4, 0),\n",
       "   'listing_id': '10006546',\n",
       "   'reviewer_id': '15554470',\n",
       "   'reviewer_name': 'Carlos',\n",
       "   'comments': 'Great Location. Ana & Gonzalo are very nice, flexible, and fast-responsive. Apartment is ok but only one toilet for 3 rooms + sofa-bed.'},\n",
       "  {'_id': '267283092',\n",
       "   'date': datetime.datetime(2018, 5, 21, 4, 0),\n",
       "   'listing_id': '10006546',\n",
       "   'reviewer_id': '39358900',\n",
       "   'reviewer_name': 'Gaspard',\n",
       "   'comments': \"Ana&Gonçalo's apartment was nice, comfy, clean and most of all really well located in the city center!!!\\nWe could easily move everywhere in Porto from there and it was perfect for discovering the city!\\nAlso, I'd like to mention that Gonçalo was nice and patient with us on the day of the arrival even if we were a bit late.\\nI strongly recommend this place!\"},\n",
       "  {'_id': '269853203',\n",
       "   'date': datetime.datetime(2018, 5, 28, 4, 0),\n",
       "   'listing_id': '10006546',\n",
       "   'reviewer_id': '42864948',\n",
       "   'reviewer_name': 'James',\n",
       "   'comments': 'Incredible location, beautiful house. Everything was very easy and we would highly recommend this accommodation. Excellent. '},\n",
       "  {'_id': '272277314',\n",
       "   'date': datetime.datetime(2018, 6, 3, 4, 0),\n",
       "   'listing_id': '10006546',\n",
       "   'reviewer_id': '45990306',\n",
       "   'reviewer_name': '紫仪',\n",
       "   'comments': 'good lication good experience'},\n",
       "  {'_id': '275044729',\n",
       "   'date': datetime.datetime(2018, 6, 10, 4, 0),\n",
       "   'listing_id': '10006546',\n",
       "   'reviewer_id': '176337667',\n",
       "   'reviewer_name': 'Sebastian',\n",
       "   'comments': 'We loved it'},\n",
       "  {'_id': '302971185',\n",
       "   'date': datetime.datetime(2018, 8, 6, 4, 0),\n",
       "   'listing_id': '10006546',\n",
       "   'reviewer_id': '52572680',\n",
       "   'reviewer_name': 'Robby',\n",
       "   'comments': 'Great location right on the river. Lots of tourists in the area. Easy to get to public transportation. Besides the hot weather, we had a good time. '},\n",
       "  {'_id': '320887590',\n",
       "   'date': datetime.datetime(2018, 9, 9, 4, 0),\n",
       "   'listing_id': '10006546',\n",
       "   'reviewer_id': '20965806',\n",
       "   'reviewer_name': 'Romain',\n",
       "   'comments': 'Merci à Ana & Gonçalo pour l’accueil !'},\n",
       "  {'_id': '325025167',\n",
       "   'date': datetime.datetime(2018, 9, 18, 4, 0),\n",
       "   'listing_id': '10006546',\n",
       "   'reviewer_id': '15097268',\n",
       "   'reviewer_name': 'Roula',\n",
       "   'comments': '-'},\n",
       "  {'_id': '331735682',\n",
       "   'date': datetime.datetime(2018, 10, 3, 4, 0),\n",
       "   'listing_id': '10006546',\n",
       "   'reviewer_id': '35313286',\n",
       "   'reviewer_name': 'Alexander',\n",
       "   'comments': 'Our stay in Ana and Gancalo’s apartment was lovely. The location was perfect and Gancalo graciously picked us up from the airport. It does get a little loud in the morning but that’s only because the apartment is perfectly located right on the river front. You do have to hold the shower wand when showering but the pressure is good. Overall I would definitely stay in the apartment again!'},\n",
       "  {'_id': '334789252',\n",
       "   'date': datetime.datetime(2018, 10, 10, 4, 0),\n",
       "   'listing_id': '10006546',\n",
       "   'reviewer_id': '206502919',\n",
       "   'reviewer_name': 'Mark',\n",
       "   'comments': 'It was a wonderful experience, the location is fantastic and the accommodations were outstanding.'},\n",
       "  {'_id': '347372623',\n",
       "   'date': datetime.datetime(2018, 11, 11, 5, 0),\n",
       "   'listing_id': '10006546',\n",
       "   'reviewer_id': '17503135',\n",
       "   'reviewer_name': 'Camille',\n",
       "   'comments': 'Ana’s place is very well located, at 2 min walking distance to the Douro, so that everything is close by! Ana communicated well regarding check in info, and was even flexible regarding check out timing. The description / pictures are relevant; only the bathroom  is not as recent. We appreciated the extra blanket as heaters have to be switched off once u leave the flat, but once they are switched on we had no problem afterwards regarding the temperature of the flat.'},\n",
       "  {'_id': '354708379',\n",
       "   'date': datetime.datetime(2018, 12, 2, 5, 0),\n",
       "   'listing_id': '10006546',\n",
       "   'reviewer_id': '34178931',\n",
       "   'reviewer_name': 'Pawel',\n",
       "   'comments': 'If you want to stay in the heart of Porto for reasonable price this is a good alternative. However, I’d selected again it for group of more than 6 people.'},\n",
       "  {'_id': '362865132',\n",
       "   'date': datetime.datetime(2018, 12, 27, 5, 0),\n",
       "   'listing_id': '10006546',\n",
       "   'reviewer_id': '208880077',\n",
       "   'reviewer_name': 'Thomas',\n",
       "   'comments': 'Very helpful hosts. Cooked traditional Portuguese Christmas dinner for 6. Location is perfect. Right off square that is on river right by famous bridge engineered by protege of Gustav Eifel. Looks like same type structure.'},\n",
       "  {'_id': '364728730',\n",
       "   'date': datetime.datetime(2018, 12, 31, 5, 0),\n",
       "   'listing_id': '10006546',\n",
       "   'reviewer_id': '91827533',\n",
       "   'reviewer_name': 'Mr',\n",
       "   'comments': \"Ana & Goncalo were great on communication, responding instantly to questions.\\n5 of us stayed in their home for 3 nights and found the location to be great and central to all the amazing sights Porto has to offer. \\nWe found the home to be difficult to heat on our first night, the rooms have heaters but took time to get the room to a comfortable temperature level. But in warmer months Im sure this isn't an issue.\\nThe beds are a little hard with one slightly out of shape,  and the shower is fairly basic (hand held) but does the job. Because of the central location some noise can be expected early in the mornings. \\nOverall the apartment suited our needs for our short stay and the price is more than reasonable for what we got.\"},\n",
       "  {'_id': '403055315',\n",
       "   'date': datetime.datetime(2019, 1, 20, 5, 0),\n",
       "   'listing_id': '10006546',\n",
       "   'reviewer_id': '15138940',\n",
       "   'reviewer_name': 'Milo',\n",
       "   'comments': \"The house was extremely well located and Ana was able to give us some really great tips on locations to have lunch and eat out. The house was perfectly clean and the easily able to accommodate 6 people despite only having one bathroom. The beds and living room were comfortable. \\n\\nHowever, we always felt somewhat on edge in the house due to the number of signs posted around the kitchen, bedrooms and bathroom about being charged 15€ for all sorts of extras like not washing up or using extra towels and bed linen. Not that this would be particularly unreasonable but it made us feel like we were walking on egg shells in and around the house. \\n\\nThe hosts were aware that we were a group of six yet one of the beds was not prepared and we ran out of toilet paper well before we were due to check out despite only being there 2 nights. It really wasn't the end of the world but the shower head does not have a wall fitting meaning you had to hold it yourself if you wanted to stand underneath it.\"}]}"
      ]
     },
     "execution_count": 72,
     "metadata": {},
     "output_type": "execute_result"
    }
   ],
   "source": [
    "reviews = db_airbnb.listingsAndReviews\n",
    "\n",
    "reviews.find_one()\n",
    "#reviews.find({ \"summary\": { $regex: /^UNESCO World Heritage Site/ } })"
   ]
  },
  {
   "cell_type": "code",
   "execution_count": 73,
   "metadata": {},
   "outputs": [
    {
     "data": {
      "text/plain": [
       "<pymongo.cursor.Cursor at 0x109c8f390>"
      ]
     },
     "execution_count": 73,
     "metadata": {},
     "output_type": "execute_result"
    }
   ],
   "source": [
    "reviews.find({'name' : \"Ribeira Charming Duplex\"})"
   ]
  },
  {
   "cell_type": "code",
   "execution_count": 74,
   "metadata": {},
   "outputs": [
    {
     "data": {
      "text/plain": [
       "<bound method Cursor.count of <pymongo.cursor.Cursor object at 0x109c8fb00>>"
      ]
     },
     "execution_count": 74,
     "metadata": {},
     "output_type": "execute_result"
    }
   ],
   "source": [
    "reviews.find({'name' : \"Ribeira Charming Duplex\"})"
   ]
  },
  {
   "cell_type": "code",
   "execution_count": 79,
   "metadata": {},
   "outputs": [
    {
     "name": "stderr",
     "output_type": "stream",
     "text": [
      "/Users/gateam/anaconda3/lib/python3.7/site-packages/ipykernel_launcher.py:1: DeprecationWarning: count is deprecated. Use Collection.count_documents instead.\n",
      "  \"\"\"Entry point for launching an IPython kernel.\n"
     ]
    },
    {
     "data": {
      "text/plain": [
       "1"
      ]
     },
     "execution_count": 79,
     "metadata": {},
     "output_type": "execute_result"
    }
   ],
   "source": [
    "reviews.find({\"name\" : \"Ribeira Charming Duplex\"}).count()"
   ]
  },
  {
   "cell_type": "code",
   "execution_count": 80,
   "metadata": {},
   "outputs": [
    {
     "name": "stderr",
     "output_type": "stream",
     "text": [
      "/Users/gateam/anaconda3/lib/python3.7/site-packages/ipykernel_launcher.py:1: DeprecationWarning: count is deprecated. Use estimated_document_count or count_documents instead. Please note that $where must be replaced by $expr, $near must be replaced by $geoWithin with $center, and $nearSphere must be replaced by $geoWithin with $centerSphere\n",
      "  \"\"\"Entry point for launching an IPython kernel.\n"
     ]
    },
    {
     "data": {
      "text/plain": [
       "5555"
      ]
     },
     "execution_count": 80,
     "metadata": {},
     "output_type": "execute_result"
    }
   ],
   "source": [
    "reviews.count()"
   ]
  },
  {
   "cell_type": "code",
   "execution_count": 84,
   "metadata": {},
   "outputs": [
    {
     "data": {
      "text/plain": [
       "<pymongo.cursor.Cursor at 0x10a3def28>"
      ]
     },
     "execution_count": 84,
     "metadata": {},
     "output_type": "execute_result"
    }
   ],
   "source": [
    "reviews.find( { \"_id\": \"10006546\" } )"
   ]
  },
  {
   "cell_type": "code",
   "execution_count": 91,
   "metadata": {},
   "outputs": [
    {
     "data": {
      "text/plain": [
       "14"
      ]
     },
     "execution_count": 91,
     "metadata": {},
     "output_type": "execute_result"
    }
   ],
   "source": [
    "len(list(reviews.find( { \"summary\": { \"$regex\": \"UNESCO.*\" } } )))"
   ]
  },
  {
   "cell_type": "code",
   "execution_count": null,
   "metadata": {},
   "outputs": [],
   "source": []
  }
 ],
 "metadata": {
  "kernelspec": {
   "display_name": "Python 3",
   "language": "python",
   "name": "python3"
  },
  "language_info": {
   "codemirror_mode": {
    "name": "ipython",
    "version": 3
   },
   "file_extension": ".py",
   "mimetype": "text/x-python",
   "name": "python",
   "nbconvert_exporter": "python",
   "pygments_lexer": "ipython3",
   "version": "3.7.3"
  }
 },
 "nbformat": 4,
 "nbformat_minor": 2
}
