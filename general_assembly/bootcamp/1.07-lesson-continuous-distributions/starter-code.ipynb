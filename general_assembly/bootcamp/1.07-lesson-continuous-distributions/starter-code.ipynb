{
 "cells": [
  {
   "cell_type": "markdown",
   "metadata": {},
   "source": [
    "<img src=\"https://ga-dash.s3.amazonaws.com/production/assets/logo-9f88ae6c9c3871690e33280fcf557f33.png\" style=\"float: left; margin: 15px;\">\n",
    "\n",
    "## Continuous Probability Distributions"
   ]
  },
  {
   "cell_type": "markdown",
   "metadata": {},
   "source": [
    "## LEARNING OBJECTIVES\n",
    "By the end of this lesson, students should be able to:\n",
    "- Give examples of the following distributions: Continuous Uniform, Exponential, Normal.\n",
    "- Describe why the Normal distribution is seen everywhere.\n",
    "- State the Central Limit Theorem."
   ]
  },
  {
   "cell_type": "markdown",
   "metadata": {},
   "source": [
    "## Recap\n",
    "\n",
    "> “Mathematics, a veritable sorcerer in our computerized society, while assisting the trier of fact in the search for truth, must not cast a spell over him.” – California Supreme Court, _People v. Collins_ (1968)"
   ]
  },
  {
   "cell_type": "markdown",
   "metadata": {},
   "source": [
    "**Check**: What is a distribution?\n",
    "<details><summary>Answer</summary>\n",
    "\n",
    "- A distribution is the set of all values of a variable and how frequently we observe each value.\n",
    "</details>"
   ]
  },
  {
   "cell_type": "markdown",
   "metadata": {},
   "source": [
    "**Check**: What is the difference between a continuous random variable and discrete random variable?\n",
    "<details><summary>Answer</summary>\n",
    "    \n",
    "- A continuous random variable takes on an uncountably infinite number of values. \n",
    "- A discrete random variable takes on a countable number of values.\n",
    "</details>"
   ]
  },
  {
   "cell_type": "markdown",
   "metadata": {},
   "source": [
    "**(BONUS) Check**: Describe these distributions:\n",
    "- Discrete Uniform\n",
    "- Bernoulli\n",
    "- Binomial\n",
    "- Poisson\n",
    "\n",
    "<details><summary>Answer</summary>\n",
    "\n",
    "- A discrete uniform distribution takes on a range of values that are all equally likely. \n",
    "    -  Example: the value from rolling one die.\n",
    "- A Bernoulli distribution has two outcomes, usually called \"success\" and \"failure.\" The only parameter is the probability of success $p$.\n",
    "    - Example: the number of heads flipped when flipping one coin.\n",
    "- A Binomial distribution counts the number of successes we observe in a fixed number of $n$ independent Bernoulli trials. \n",
    "    - Example: the number of heads flipped when flipping fifty coins.\n",
    "- A Poisson distribution counts the number of successes we observe in a fixed amount of time.\n",
    "    - Example: the number of cars that enter a toll road in an hour.\n",
    "</details>"
   ]
  },
  {
   "cell_type": "code",
   "execution_count": null,
   "metadata": {},
   "outputs": [],
   "source": [
    "import numpy as np\n",
    "import scipy.stats as stats\n",
    "import seaborn as sns\n",
    "import matplotlib.pyplot as plt\n",
    "\n",
    "sns.set_style('whitegrid')\n",
    "\n",
    "%config InlineBackend.figure_format = 'retina'\n",
    "%matplotlib inline"
   ]
  },
  {
   "cell_type": "markdown",
   "metadata": {},
   "source": [
    "Earlier, we spoke about the **discrete uniform** distribution, where each outcome is equally likely.\n",
    "\n",
    "This is the **probability mass function** of a discrete uniform.\n",
    "- Remember that a probability mass function shows us the probability that our random variable takes on a specific value.\n",
    "\n",
    "<img src=\"./images/discrete_uniform_pmf.png\" alt=\"discrete uniform pmf\" width=\"700\"/>\n",
    "\n",
    "This is the **cumulative distribution function** of a discrete uniform.\n",
    "- Remember that a cumulative distribution function shows us the probability that our random variable takes on any value less than or equal to a specific value.\n",
    "\n",
    "<img src=\"./images/discrete_uniform_cdf.png\" alt=\"discrete uniform cdf\" width=\"700\"/>\n",
    "\n",
    "$$\n",
    "\\begin{eqnarray*}\n",
    "\\text{probability mass function}: P(X = x) \\\\\n",
    "\\text{cumulative distribution function}: P(X \\le x)\n",
    "\\end{eqnarray*}\n",
    "$$\n",
    "\n",
    "---\n",
    "\n",
    "# Continuous Distributions!\n",
    "\n",
    "One small notation difference: when dealing with continuous distributions, we use **probability density functions**, not probability mass functions.\n",
    "- This has to do with how probability is defined.\n",
    "\n",
    "## The Continuous Uniform distribution\n",
    "\n",
    "When dealing with an uncountably infinite range of outcomes, we might use a **continuous uniform** instead of a discrete uniform distribution.\n",
    "\n",
    "Parameters of the distribution:\n",
    "\n",
    "- $a$, the minimum value of the distribution.\n",
    "- $b$, the maximum value of the distribution.\n",
    "\n",
    "#### Continuous Uniform pdf\n",
    "\n",
    "The Continuous Uniform pdf is defined as:\n",
    "\n",
    "$$ f(x|a,b) = \\frac{1}{b-a} $$\n",
    "\n",
    "One of the most common examples of this is where we want to randomly sample a number between 0 and 1.\n",
    "- This is incredibly valuable if we want to model some complex process through random simulations. (For example, you can estimate the value of $\\pi$ in this way!)"
   ]
  },
  {
   "cell_type": "markdown",
   "metadata": {},
   "source": [
    "**Check:**\n",
    "<details><summary> Since we know what a discrete uniform pmf looks like, what do you expect the shape of a continuous uniform pdf to look like?</summary>\n",
    "    \n",
    "- [Head to this site!](http://students.brown.edu/seeing-theory/probability-distributions/index.html#section2)\n",
    "</details>"
   ]
  },
  {
   "cell_type": "markdown",
   "metadata": {},
   "source": [
    "## The Exponential distribution\n",
    "\n",
    "When do we use the Exponential distribution?\n",
    "- We use the Exponential distribution when we are interested in modeling the **amount of time until a success occurs**.\n",
    "\n",
    "Since time is continuous, the Exponential distribution is a continuous distribution.\n",
    "\n",
    "Parameters of the distribution:\n",
    "\n",
    "- $\\beta$, the average time to an event."
   ]
  },
  {
   "cell_type": "markdown",
   "metadata": {},
   "source": [
    "<details><summary>Based on historical data, we see an average of 10 buses per hour. From this, how long do you think it will take on average for a new bus to arrive?</summary>\n",
    "\n",
    "- 6 minutes.\n",
    "\n",
    "$$\n",
    "\\begin{eqnarray*}\n",
    "\\frac{\\text{10 buses}}{\\text{1 hour}} = \\frac{\\text{10 buses}}{\\text{60 minutes}} = \\frac{\\text{1 bus}}{\\text{6 minutes}}\n",
    "\\end{eqnarray*}\n",
    "$$\n",
    "</details>"
   ]
  },
  {
   "cell_type": "markdown",
   "metadata": {},
   "source": [
    "#### Exponential pdf\n",
    "\n",
    "The Exponential pdf is defined as:\n",
    "\n",
    "$$ f(x|\\beta) = \\frac{1}{\\beta}  e^{-x/\\beta} $$\n",
    "\n",
    "In this case, $x$ is the time elapsed."
   ]
  },
  {
   "cell_type": "code",
   "execution_count": null,
   "metadata": {},
   "outputs": [],
   "source": [
    "# This code has been slightly adapted from code written by a former GA instructor.\n",
    "\n",
    "def plot_continuous_pdf(low, high, dist_name = 'Continuous', xlabel = 'Time', stats_dist = None, lw = 5):\n",
    "        \n",
    "    x = np.arange(low, high + 1)\n",
    "    \n",
    "    fig, ax = plt.subplots(1, 1, figsize=(10,5))\n",
    "    \n",
    "    ax.set_xlim(low - 1, high + 1)\n",
    "    ax.set_xlabel(xlabel, fontsize = 16)\n",
    "    ax.set_ylabel('Probability Density Function (pdf)', fontsize = 16)\n",
    "    ax.plot(x, stats_dist.pdf(x), color = 'darkred', lw = lw)\n",
    "    ax.set_ylim(0, np.max(stats_dist.pdf(x)) + 0.03)\n",
    "    \n",
    "    plt.title(f'{dist_name} \\n', fontsize = 20)\n",
    "\n",
    "    plt.show()"
   ]
  },
  {
   "cell_type": "code",
   "execution_count": null,
   "metadata": {},
   "outputs": [],
   "source": [
    "# This code has been slightly adapted from code written by a former GA instructor.\n",
    "\n",
    "plot_continuous_pdf(0, 60, dist_name='Probability of exactly X minutes until next bus', \n",
    "                    stats_dist=stats.expon(scale = 6), xlabel='Minutes')"
   ]
  },
  {
   "cell_type": "markdown",
   "metadata": {},
   "source": [
    "It's generally easier to use the cumulative distribution function to find specific probabilities. (e.g. \"What is the probability that the next bus takes at least 5 but less than 10 minutes to show up?\")"
   ]
  },
  {
   "cell_type": "markdown",
   "metadata": {},
   "source": [
    "#### Exponential cdf\n",
    "\n",
    "The cumulative distribution function is:\n",
    "\n",
    "$$ F(x|\\beta) = 1 -  e^{-x/\\beta} $$\n",
    "\n",
    "With the same example, our cumulative distribution function looks like:"
   ]
  },
  {
   "cell_type": "code",
   "execution_count": null,
   "metadata": {},
   "outputs": [],
   "source": [
    "# This code has been slightly adapted from code written by a former GA instructor.\n",
    "\n",
    "def plot_continuous_cdf(low, high, dist_name = 'Continuous', xlabel = 'Time', stats_dist = None):\n",
    "        \n",
    "    x = np.linspace(low, high + 1, 300)\n",
    "    \n",
    "    fig, ax = plt.subplots(1, 1, figsize=(10,5))\n",
    "\n",
    "    ax.set_ylim(0, 1.1)\n",
    "    ax.set_xlim(low - 1, high + 1)\n",
    "    ax.set_xlabel(xlabel, fontsize = 16)\n",
    "    ax.set_ylabel('Cumulative Distribution Function (cdf)', fontsize = 16)\n",
    "    \n",
    "    ax.plot(x, stats_dist.cdf(x), lw = 4, color = 'darkblue')\n",
    "\n",
    "    plt.title(f'{dist_name} \\n', fontsize = 20)\n",
    "\n",
    "    plt.show()"
   ]
  },
  {
   "cell_type": "code",
   "execution_count": null,
   "metadata": {},
   "outputs": [],
   "source": [
    "# This code has been slightly adapted from code written by a former GA instructor.\n",
    "\n",
    "plot_continuous_cdf(0, 60, dist_name='Probability of X or fewer minutes until next bus', \n",
    "                    stats_dist=stats.expon(scale=6), xlabel='Minutes')"
   ]
  },
  {
   "cell_type": "code",
   "execution_count": null,
   "metadata": {},
   "outputs": [],
   "source": [
    "# What is the probability that our next bus shows\n",
    "# up in 10 minutes or less?\n"
   ]
  },
  {
   "cell_type": "code",
   "execution_count": null,
   "metadata": {},
   "outputs": [],
   "source": [
    "# What is the probability that our next bus takes\n",
    "# more than 10 minutes to show up?\n"
   ]
  },
  {
   "cell_type": "code",
   "execution_count": null,
   "metadata": {},
   "outputs": [],
   "source": [
    "# What is the probability that our next bus shows\n",
    "# up in more than 5 minutes but less than 10 minutes?\n"
   ]
  },
  {
   "cell_type": "markdown",
   "metadata": {},
   "source": [
    "<a id='normal'></a>\n",
    "\n",
    "## The Normal distribution\n",
    "\n",
    "The Normal distribution is the most well known and most important distribution. **Many** real-world processes can be modeled using a Normal distribution.\n",
    "\n",
    "Parameters of the Normal distribution:\n",
    "\n",
    "- $\\mu$ is the mean.\n",
    "- $\\sigma$ is the standard deviation of the distribution. (You may also see this parameterized using variance, or $\\sigma^2$.)\n",
    "\n",
    "#### Normal pdf\n",
    "\n",
    "The probability density function of the Normal distribution is given by\n",
    "\n",
    "### $$ f(x \\; | \\; \\mu, \\sigma) = \\frac{1}{\\sqrt{2\\pi\\sigma^2} } \\; e^{ -\\frac{(x-\\mu)^2}{2\\sigma^2} } $$"
   ]
  },
  {
   "cell_type": "markdown",
   "metadata": {},
   "source": [
    "Let's assume that the number of visitors to our site in an hour has an average of 25 and standard deviation of 5."
   ]
  },
  {
   "cell_type": "code",
   "execution_count": null,
   "metadata": {},
   "outputs": [],
   "source": [
    "plot_continuous_pdf(10, 45, dist_name='Expected number of visitors to site in hour', \n",
    "                    stats_dist=stats.norm(25, 5), xlabel='Visitors')"
   ]
  },
  {
   "cell_type": "markdown",
   "metadata": {},
   "source": [
    "#### Normal cdf\n",
    "\n",
    "[The Normal cumulative distribution function has to be approximated.](https://en.wikipedia.org/wiki/Normal_distribution#Definition) If you want, see the Wikipedia page for the details on how it is calculated. \n",
    "\n",
    "We can plot it here, however, using SciPy."
   ]
  },
  {
   "cell_type": "code",
   "execution_count": null,
   "metadata": {},
   "outputs": [],
   "source": [
    "plot_continuous_cdf(10, 45, dist_name='Expected number of visitors to site in hour', \n",
    "                    stats_dist=stats.norm(25, 5), xlabel='Visitors')"
   ]
  },
  {
   "cell_type": "markdown",
   "metadata": {},
   "source": [
    "### Interview Question\n",
    "\n",
    "Your company maintains a piece of chat software. An engineer mentions that there were ten support calls yesterday. The engineer wants to use a Normal distribution to predict the number of calls they can expect in a given day so they can figure out how many call technicians are needed."
   ]
  },
  {
   "cell_type": "markdown",
   "metadata": {},
   "source": [
    "<details><summary>What are some of the downsides to using a Normal distribution to predict the maximum number of calls in a day?</summary>\n",
    "\n",
    "_(Answers may vary! This is not a complete list of all possible answers!)_\n",
    "- The number of calls you can expect in a day is a discrete variable, but the Normal distribution is continuous.\n",
    "- The number of calls in a day can't be negative, but the Normal distribution will include negative values!\n",
    "- The Normal distribution is symmetric, but if we plotted the number of calls each day, there's a good chance it won't be symmetric.\n",
    "</details>"
   ]
  },
  {
   "cell_type": "markdown",
   "metadata": {},
   "source": [
    "### (BONUS) Summary Statistics\n",
    "\n",
    "For these \"named\" distributions (distributions that have names), they have been studied well enough that we know some nice properties. \n",
    "\n",
    "For example:\n",
    "- The mean of the Continuous Uniform distribution is exactly $\\frac{b+a}{2}$.\n",
    "- The mean of the Exponential distribution is exactly $\\beta$.\n",
    "- The mean of the Normal distribution is exactly $\\mu$.\n",
    "- The mean of the Discrete Uniform distribution is exactly $\\frac{N+1}{2}$, assuming that your discrete bins are 1, 2, 3, $\\ldots$, $N$.\n",
    "- The mean of the Bernoulli distribution is exactly $p$.\n",
    "- The mean of the Binomial distribution is exactly $np$.\n",
    "- The mean of the Poisson distribution is exactly $\\lambda$.\n",
    "\n",
    "(You may also read the term \"expected value\" instead of mean.)\n",
    "\n",
    "For almost every \"named\" distribution, we can exactly calculate the mean... or the median, or the mode(s), or the likeliest 90%... using the parameter(s) of the distribution."
   ]
  },
  {
   "cell_type": "markdown",
   "metadata": {},
   "source": [
    "## Moving from Distributions to Data\n",
    "\n",
    "It's sometimes nice to use pdfs and cdfs. They can help us to answer many problems, like we've seen earlier."
   ]
  },
  {
   "cell_type": "markdown",
   "metadata": {},
   "source": [
    "<details><summary>However, in the real world, we might not have access to the pdf or the cdf. Why is that?</summary>\n",
    "    \n",
    "- We have to believe that our population perfectly follows a specific probability distribution. It's probably not often the case that our data does this.\n",
    "- However, there's a really special and important result in statistics that connects data with a common probability distribution that we rely on a lot.\n",
    "</details>"
   ]
  },
  {
   "cell_type": "markdown",
   "metadata": {},
   "source": [
    "Let's simulate two dice rolls and average the rolls."
   ]
  },
  {
   "cell_type": "code",
   "execution_count": null,
   "metadata": {},
   "outputs": [],
   "source": [
    "dice = [1, 2, 3, 4, 5, 6]"
   ]
  },
  {
   "cell_type": "code",
   "execution_count": null,
   "metadata": {},
   "outputs": [],
   "source": [
    "# Roll two dice.\n",
    "data = "
   ]
  },
  {
   "cell_type": "code",
   "execution_count": null,
   "metadata": {
    "scrolled": true
   },
   "outputs": [],
   "source": [
    "# Look at the mean of our data.\n"
   ]
  },
  {
   "cell_type": "markdown",
   "metadata": {},
   "source": [
    "<details><summary>Share the mean of your dice rolls in Slack. What do you notice about the class' rolls as a whole?</summary>\n",
    "    \n",
    "- We should be getting a Normal distribution.\n",
    "</details>"
   ]
  },
  {
   "cell_type": "markdown",
   "metadata": {},
   "source": [
    "**Check:** Note that *individual* dice rolls follow a discrete uniform distribution. But the means of multiple dice rolls might not! Take ninety seconds to use a list comprehension to simulate rolling two dice and calculating the mean, then repeating this process 10,000 times.\n",
    "- If you're stuck, ask a neighbor!\n",
    "- If you're finished, help a neighbor!"
   ]
  },
  {
   "cell_type": "code",
   "execution_count": null,
   "metadata": {},
   "outputs": [],
   "source": [
    "# Use a list comprehension to simulate rolling two dice\n",
    "# and calculating their mean 10,000 times.\n",
    "dice_rolls ="
   ]
  },
  {
   "cell_type": "markdown",
   "metadata": {},
   "source": [
    "Now let's plot these using a package called `seaborn`."
   ]
  },
  {
   "cell_type": "code",
   "execution_count": null,
   "metadata": {},
   "outputs": [],
   "source": [
    "# We import seaborn with the alias \"sns.\"\n"
   ]
  },
  {
   "cell_type": "code",
   "execution_count": null,
   "metadata": {},
   "outputs": [],
   "source": [
    "# Plot 10,000 dice rolls.\n"
   ]
  },
  {
   "cell_type": "code",
   "execution_count": null,
   "metadata": {},
   "outputs": [],
   "source": [
    "# Roll 5 dice, average them, repeat 10,000 \n",
    "# times, and plot results.\n"
   ]
  },
  {
   "cell_type": "code",
   "execution_count": null,
   "metadata": {},
   "outputs": [],
   "source": [
    "# Roll 50 dice, average them, repeat 10,000 \n",
    "# times, and plot results.\n"
   ]
  },
  {
   "cell_type": "markdown",
   "metadata": {},
   "source": [
    "<details><summary>As the number of dice we average increases, what happens to the shape of our distribution? </summary>\n",
    "    \n",
    "- Our distribution becomes more Normal!\n",
    "</details>"
   ]
  },
  {
   "cell_type": "markdown",
   "metadata": {},
   "source": [
    "### **This is the Central Limit Theorem at play!**"
   ]
  },
  {
   "cell_type": "markdown",
   "metadata": {},
   "source": [
    "### Central Limit Theorem\n",
    "\n",
    "If you average **any** independent random variables from **any** distribution... as long as you average enough of them, this will follow the Normal distribution!\n",
    "\n",
    "**Because we often deal with averages (or sums) of things, the Central Limit Theorem causes the Normal distribution to appear all over the place.** This is good! Normality is the most common assumption we'll make about the distribution of our data or our errors. Normality underlies many of the inferential techniques that we seek to use. It is important for us to determine when Normality is a condition we've met.\n",
    "\n",
    "### Visualizing the Central Limit Theorem\n",
    "Check out a fantastic resource [here](https://seeing-theory.brown.edu/probability-distributions/index.html#section3).\n",
    "\n",
    "### Stating the Central Limit Theorem\n",
    "**The Central Limit Theorem states that, as our sample size $n$ gets closer to $\\infty$, the distribution of all possible sample means approaches a Normal distribution with mean $\\mu$ and standard deviation $\\frac{\\sigma}{\\sqrt{n}}$.**\n",
    "\n",
    "#### Why do we care?\n",
    "In many cases, I want to use my data to learn about the mean of some population. If all possible sample means are Normally distributed, then we can use the Normal distribution with the sample mean to **conduct inference on** (learn about) the population mean!"
   ]
  },
  {
   "cell_type": "markdown",
   "metadata": {},
   "source": [
    "## LEARNING OBJECTIVES\n",
    "By the end of this lesson, students should be able to:\n",
    "- Give examples of the following distributions: Continuous Uniform, Exponential, Normal.\n",
    "- Describe why the Normal distribution is seen everywhere.\n",
    "- State the Central Limit Theorem."
   ]
  },
  {
   "cell_type": "markdown",
   "metadata": {},
   "source": [
    "<details><summary>What is the Continuous Uniform distribution?</summary>\n",
    "\n",
    "- The Continuous Uniform distribution is a distribution that takes on an uncountable number of values with equal probability.\n",
    "- An example of the Continuous Uniform might be to randomly generate a number between 0 and 1.\n",
    "</details>"
   ]
  },
  {
   "cell_type": "markdown",
   "metadata": {},
   "source": [
    "<details><summary>What is the Exponential distribution?</summary>\n",
    "\n",
    "- Just like the Poisson distribution is the Binomial distribution taken to the limit, the Exponential distribution is the Geometric distribution taken to the limit. The Exponential distribution models the amount of time until an event occurs. Examples of the Exponential distribution might be:\n",
    "    - The amount of time until a bus arrives at the stop.\n",
    "    - The amount of time until a light bulb stops working.\n",
    "    - The amount of time until a new visitor comes to my website.\n",
    "</details>"
   ]
  },
  {
   "cell_type": "markdown",
   "metadata": {},
   "source": [
    "<details><summary>What is the Normal distribution?</summary>\n",
    "\n",
    "- The Normal distribution is the most widely-known distribution. It is symmetric, bell-shaped, and is parameterized by its mean and variance/standard deviation. Examples of the Normal distribution might be:\n",
    "    - The intelligence quotient (IQ) of individuals.\n",
    "    - The average values of 1,000 dice rolls.\n",
    "</details>"
   ]
  },
  {
   "cell_type": "markdown",
   "metadata": {},
   "source": [
    "<details><summary>Why is the Normal distribution seen everywhere?</summary>\n",
    "\n",
    "- The Normal distribution naturally models a lot of real-world phenomena. However, the Normal distribution also models the average of **any** random variables, as long as there's enough. We often count or average things, so this will pop up frequently. In addition, some distributions naturally are means/sums of other random variables (Poisson, Binomial, and lots of others we haven't officially discussed) so we can use the Normal distribution in lots of cases!\n",
    "</details>"
   ]
  },
  {
   "cell_type": "markdown",
   "metadata": {},
   "source": [
    "<details><summary>State the Central Limit Theorem.</summary>\n",
    "\n",
    "- The Central Limit Theorem states that, as $n \\rightarrow \\infty$, the sampling distribution of $\\bar{X}$ will approach a Normal distribution with mean $\\mu$ and standard deviation $\\frac{\\sigma}{\\sqrt{n}}$.\n",
    "</details>"
   ]
  },
  {
   "cell_type": "markdown",
   "metadata": {},
   "source": [
    "### Resources\n",
    "- The [Kolmogorov-Smirnov test](https://docs.scipy.org/doc/scipy-0.14.0/reference/generated/scipy.stats.kstest.html) is a way for us to estimate whether two samples come from the same distribution or whether one sample comes from a particular distribution. (This will make more sense after you've covered hypothesis testing in inference.)"
   ]
  }
 ],
 "metadata": {
  "kernelspec": {
   "display_name": "Python 3",
   "language": "python",
   "name": "python3"
  },
  "language_info": {
   "codemirror_mode": {
    "name": "ipython",
    "version": 3
   },
   "file_extension": ".py",
   "mimetype": "text/x-python",
   "name": "python",
   "nbconvert_exporter": "python",
   "pygments_lexer": "ipython3",
   "version": "3.6.8"
  }
 },
 "nbformat": 4,
 "nbformat_minor": 1
}
