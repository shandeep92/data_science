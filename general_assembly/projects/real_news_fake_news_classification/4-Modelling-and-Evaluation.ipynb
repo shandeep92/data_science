{
 "cells": [
  {
   "cell_type": "markdown",
   "metadata": {},
   "source": [
    "<a name=\"top\"></a>\n",
    "# Predicting Real/Fake News\n",
    "\n",
    "## 4-Modelling-and-Evaluation\n",
    "---\n",
    "* [Problem Statement](#Problem-Statement)\n",
    "* [Executive Summary](#Executive-Summary)\n",
    "    * [Context](#Context)\n",
    "    * [Scope](#Scope)\n",
    "* [Data Dictionary](#Data-Dictionary)\n",
    "    * [News Topics based on Topic Modelling](#News-Topic-based-on-Topic-Modelling)\n",
    "* [Importing Libraries](#Importing-Libraries)\n",
    "    * [Loading Corpus](#Loading-Corpus)\n",
    "* [Text Preprocessing](#Text-Preprocessing)\n",
    "    * [Stopwords](#Stopwords)\n",
    "* [Modelling](#Modelling)\n",
    "    * [Title](#Title)\n",
    "        * [Logistic Regression](#Logistic-Regression)\n",
    "    * [Title >=5 words](#Title->=5-words)\n",
    "        * [Logistic Regression](#Logistic-Regression)\n",
    "    * [Text](#Text)\n",
    "        * [Logistic Regression](#Logistic-Regression)\n",
    "        * [Multinomial Naive Bayes](#Multinomial-Naive-Bayes)\n",
    "        * [Decision Trees](#Decision-Tress)\n",
    "    * [Title and Text](#Title-and-Text)\n",
    "        * [Decision Trees](#Decision-Trees)\n",
    "* [Conclusion and Recommendation](#Conclusion-and-Recommendation)\n"
   ]
  },
  {
   "cell_type": "markdown",
   "metadata": {},
   "source": [
    "## Problem Statement\n",
    "\n",
    "**To predict real/fake news** based on a kaggle dataset containing various news sources within the US."
   ]
  },
  {
   "cell_type": "markdown",
   "metadata": {},
   "source": [
    "## Executive Summary\n",
    "\n",
    "### Context\n",
    "\n",
    "Fake news has risen dramatically in popular consciousness over the last few years. According to a Pew Research Center study, Americans deem fake news to be a larger problem than racism, climate change or terrorism. With the advent of social media and the amount of information accessible to us, it is getting increasingly difficult to distinguish between real news and fake news. Therefore, this could have severe repercussions within society if the problem is not dealt with. \n",
    "\n",
    "### Scope\n",
    "\n",
    "The goal of this project was to come up with a model that distinguishes real and fake news using a kaggle data set that contains real news and fake news based on US news outlets. In order to tackle the problem of fake news, several classification models such as the Logistic Regression and Decision trees were applied. It is worth pointing out that the data set is limited in terms of its time frame where news was collated between 2015 and 2018 and also only based on US news outlets. However, the model that has been trained can certainly be helpful in other countries as well."
   ]
  },
  {
   "cell_type": "markdown",
   "metadata": {},
   "source": [
    "## Data Dictionary\n",
    "|Feature|Type|Dataset|Description|\n",
    "|---|---|---|---|\n",
    "|title|object|true/fake kaggle|title of news article| \n",
    "|text|object|true/fake kaggle|content of the news|\n",
    "|category|int|true/fake kaggle|\"1\" = true, \"0\" = fake (target variable)|\n",
    "|title_length|int|true/fake kaggle|number of words in title of news article| \n",
    "|text_length|int|true/fake kaggle|number of words in content of news|"
   ]
  },
  {
   "cell_type": "markdown",
   "metadata": {},
   "source": [
    "### News Topics based on Topic Modelling\n",
    "\n",
    "1. **Topic 0** - Military/War\n",
    "2. **Topic 1** - Elections/Presidential Campaigns\n",
    "3. **Topic 3** - Finance/Governmental Policies\n",
    "4. **Topic 4** - Media"
   ]
  },
  {
   "cell_type": "markdown",
   "metadata": {},
   "source": [
    "## Importing Libraries"
   ]
  },
  {
   "cell_type": "code",
   "execution_count": 1,
   "metadata": {},
   "outputs": [],
   "source": [
    "import pandas as pd\n",
    "import numpy as np\n",
    "import matplotlib.pyplot as plt\n",
    "from matplotlib_venn import venn2\n",
    "import seaborn as sns\n",
    "import scipy.stats as stats\n",
    "import warnings\n",
    "warnings.filterwarnings('ignore')\n",
    "\n",
    "from wordcloud import WordCloud, ImageColorGenerator, STOPWORDS\n",
    "from sklearn.feature_extraction import text\n",
    "from sklearn.preprocessing import StandardScaler\n",
    "from sklearn.feature_extraction.text import CountVectorizer, TfidfVectorizer,TfidfTransformer, ENGLISH_STOP_WORDS\n",
    "from sklearn.linear_model import LogisticRegression\n",
    "from sklearn.neighbors import KNeighborsClassifier\n",
    "from sklearn.naive_bayes import MultinomialNB\n",
    "from sklearn.metrics import confusion_matrix\n",
    "from sklearn.model_selection import train_test_split, GridSearchCV, KFold, cross_val_score\n",
    "from sklearn.feature_extraction.text import CountVectorizer\n",
    "from sklearn import feature_extraction, linear_model, model_selection, preprocessing\n",
    "from sklearn.metrics import accuracy_score, confusion_matrix,classification_report, roc_auc_score\n",
    "from sklearn.model_selection import train_test_split\n",
    "from sklearn.feature_extraction.text import TfidfTransformer\n",
    "from sklearn.pipeline import Pipeline\n",
    "from sklearn.svm import LinearSVC\n",
    "from sklearn.linear_model import LogisticRegression\n",
    "from sklearn.naive_bayes import GaussianNB\n",
    "from sklearn.naive_bayes import BernoulliNB\n",
    "from sklearn.naive_bayes import MultinomialNB\n",
    "from sklearn.preprocessing import FunctionTransformer, StandardScaler, RobustScaler, Binarizer\n",
    "from sklearn.feature_selection import SelectPercentile, mutual_info_classif, chi2\n",
    "from sklearn.model_selection import train_test_split, GridSearchCV, KFold, cross_val_score\n",
    "from sklearn.pipeline import Pipeline, FeatureUnion\n",
    "from sklearn.linear_model import LogisticRegression\n",
    "from sklearn.neighbors import KNeighborsClassifier\n",
    "from sklearn.decomposition import TruncatedSVD\n",
    "from sklearn.ensemble import GradientBoostingClassifier\n",
    "from sklearn.tree import DecisionTreeClassifier\n",
    "from sklearn.neighbors import KNeighborsClassifier\n",
    "from sklearn.linear_model import SGDClassifier\n",
    "from sklearn.ensemble import RandomForestClassifier\n",
    "from sklearn.preprocessing import LabelEncoder\n",
    "from sklearn.gaussian_process import GaussianProcessClassifier\n",
    "import spacy\n",
    "from spacy.lang.en import English\n",
    "from spacy.lang.en.stop_words import STOP_WORDS\n",
    "from spacy.tokens import Doc\n",
    "from nltk.corpus import stopwords\n",
    "nlp = spacy.load('en_core_web_sm')\n",
    "import pickle\n",
    "\n",
    "from spacy.lang.en import English\n",
    "from spacy.lang.en.stop_words import STOP_WORDS\n",
    "from spacy.tokens import Doc\n",
    "from bs4 import BeautifulSoup\n",
    "import re,string,unicodedata\n",
    "from pprint import pprint\n",
    "\n",
    "# NLTK Stop words\n",
    "from nltk.corpus import stopwords\n",
    "stop_words = stopwords.words('english')\n",
    "stop_words.extend(['trump', 'says', 'trumps','day','child','large', 'said', 'president', 'video', 'obama', 'people', 'house','state','from', 'subject', 're', 'edu', 'use', 'not', 'would', 'say', 'could', '_', 'be', 'know', 'good', 'go', 'get', 'do', 'done', 'try', 'many', 'some', 'nice', 'thank', 'think', 'see', 'rather', 'easy', 'easily', 'lot', 'lack', 'make', 'want', 'seem', 'run', 'need', 'even', 'right', 'line', 'even', 'also', 'may', 'take', 'come', 'new', 'still', 'year', 'work', 'continue', 'show', 'love', 'pass', 'socalle', 'passage', 'medium', 'claim', 'tell', 'evidence', 'watch', 'man','thing','become','give','way','call','include','student','time','call','woman','leave','today','look'])\n",
    "\n",
    "\n",
    "# Gensim\n",
    "import gensim, spacy, logging, warnings\n",
    "import gensim.corpora as corpora\n",
    "from gensim.utils import lemmatize, simple_preprocess\n",
    "from gensim.models import CoherenceModel\n",
    "warnings.filterwarnings('ignore')\n",
    "sns.set_style('ticks')\n",
    "pd.set_option('display.max_columns', None)\n",
    "pd.set_option('display.max_rows', None)\n",
    "%matplotlib inline\n",
    "pd.set_option('display.max_colwidth', None)\n",
    "\n",
    "%matplotlib inline\n",
    "warnings.filterwarnings(\"ignore\",category=DeprecationWarning)\n",
    "logging.basicConfig(format='%(asctime)s : %(levelname)s : %(message)s', level=logging.ERROR)"
   ]
  },
  {
   "cell_type": "markdown",
   "metadata": {},
   "source": [
    "### Loading Corpus"
   ]
  },
  {
   "cell_type": "code",
   "execution_count": 2,
   "metadata": {},
   "outputs": [
    {
     "data": {
      "text/html": [
       "<div>\n",
       "<style scoped>\n",
       "    .dataframe tbody tr th:only-of-type {\n",
       "        vertical-align: middle;\n",
       "    }\n",
       "\n",
       "    .dataframe tbody tr th {\n",
       "        vertical-align: top;\n",
       "    }\n",
       "\n",
       "    .dataframe thead th {\n",
       "        text-align: right;\n",
       "    }\n",
       "</style>\n",
       "<table border=\"1\" class=\"dataframe\">\n",
       "  <thead>\n",
       "    <tr style=\"text-align: right;\">\n",
       "      <th></th>\n",
       "      <th>title</th>\n",
       "      <th>text</th>\n",
       "      <th>category</th>\n",
       "      <th>title_length</th>\n",
       "      <th>text_length</th>\n",
       "    </tr>\n",
       "  </thead>\n",
       "  <tbody>\n",
       "    <tr>\n",
       "      <th>0</th>\n",
       "      <td>as us budget fight looms republicans flip their fiscal script</td>\n",
       "      <td>washington reuters  the head of a conservative republican faction in the us congress who voted this month for a huge expansion of the national debt to pay for tax cuts called himself a fiscal conservative on sunday and urged budget restraint in  in keeping with a sharp pivot under way among republicans us representative mark meadows speaking on cbs face the nation drew a hard line on federal spending which lawmakers are bracing to do battle over in january when they return from the holidays on wednesday lawmakers will begin trying to pass a federal budget in a fight likely to be linked to other issues such as immigration policy even as the november congressional election campaigns approach in which republicans will seek to keep control of congress president donald trump and his republicans want a big budget increase in military spending while democrats also want proportional increases for nondefense discretionary spending on programs that support education scientific research infrastructure public health and environmental protection the trump administration has already been willing to say were going to increase nondefense discretionary spending  by about  percent meadows chairman of the small but influential house freedom caucus said on the program now democrats are saying thats not enough we need to give the government a pay raise of  to  percent for a fiscal conservative i dont see where the rationale is  eventually you run out of other peoples money he said meadows was among republicans who voted in late december for their partys debtfinanced tax overhaul which is expected to balloon the federal budget deficit and add about  trillion over  years to the  trillion national debt its interesting to hear mark talk about fiscal responsibility democratic us representative joseph crowley said on cbs crowley said the republican tax bill would require the united states to borrow  trillion to be paid off by future generations to finance tax cuts for corporations and the rich this is one of the least  fiscally responsible bills weve ever seen passed in the history of the house of representatives i think were going to be paying for this for many many years to come crowley said republicans insist the tax package the biggest us tax overhaul in more than  years will boost the economy and job growth house speaker paul ryan who also supported the tax bill recently went further than meadows making clear in a radio interview that welfare or entitlement reform as the party often calls it would be a top republican priority in  in republican parlance entitlement programs mean food stamps housing assistance medicare and medicaid health insurance for the elderly poor and disabled as well as other programs created by washington to assist the needy democrats seized on ryans early december remarks saying they showed republicans would try to pay for their tax overhaul by seeking spending cuts for social programs but the goals of house republicans may have to take a back seat to the senate where the votes of some democrats will be needed to approve a budget and prevent a government shutdown democrats will use their leverage in the senate which republicans narrowly control to defend both discretionary nondefense programs and social spending while tackling the issue of the dreamers people brought illegally to the country as children trump in september put a march  expiration date on the deferred action for childhood arrivals or daca program which protects the young immigrants from deportation and provides them with work permits the president has said in recent twitter messages he wants funding for his proposed mexican border wall and other immigration law changes in exchange for agreeing to help the dreamers representative debbie dingell told cbs she did not favor linking that issue to other policy objectives such as wall funding we need to do daca clean she said on wednesday trump aides will meet with congressional leaders to discuss those issues that will be followed by a weekend of strategy sessions for trump and republican leaders on jan  and  the white house said trump was also scheduled to meet on sunday with florida republican governor rick scott who wants more emergency aid the house has passed an  billion aid package after hurricanes in florida texas and puerto rico and wildfires in california the package far exceeded the  billion requested by the trump administration the senate has not yet voted on the aid</td>\n",
       "      <td>1</td>\n",
       "      <td>10</td>\n",
       "      <td>730</td>\n",
       "    </tr>\n",
       "    <tr>\n",
       "      <th>1</th>\n",
       "      <td>us military to accept transgender recruits on monday pentagon</td>\n",
       "      <td>washington reuters  transgender people will be allowed for the first time to enlist in the us military starting on monday as ordered by federal courts the pentagon said on friday after president donald trumps administration decided not to appeal rulings that blocked his transgender ban two federal appeals courts one in washington and one in virginia last week rejected the administrations request to put on hold orders by lower court judges requiring the military to begin accepting transgender recruits on jan  a justice department official said the administration will not challenge those rulings the department of defense has announced that it will be releasing an independent study of these issues in the coming weeks so rather than litigate this interim appeal before that occurs the administration has decided to wait for dods study and will continue to defend the presidents lawful authority in district court in the meantime the official said speaking on condition of anonymity in september the pentagon said it had created a panel of senior officials to study how to implement a directive by trump to prohibit transgender individuals from serving the defense department has until feb  to submit a plan to trump lawyers representing currentlyserving transgender service members and aspiring recruits said they had expected the administration to appeal the rulings to the conservativemajority supreme court but were hoping that would not happen pentagon spokeswoman heather babb said in a statement as mandated by court order the department of defense is prepared to begin accessing transgender applicants for military service jan  all applicants must meet all accession standards jennifer levi a lawyer with gay lesbian and transgender advocacy group glad called the decision not to appeal great news im hoping it means the government has come to see that there is no way to justify a ban and that its not good for the military or our country levi said both glad and the american civil liberties union represent plaintiffs in the lawsuits filed against the administration in a move that appealed to his hardline conservative supporters trump announced in july that he would prohibit transgender people from serving in the military reversing democratic president barack obamas policy of accepting them trump said on twitter at the time that the military cannot be burdened with the tremendous medical costs and disruption that transgender in the military would entail four federal judges  in baltimore washington dc seattle and riverside california  have issued rulings blocking trumps ban while legal challenges to the republican presidents policy proceed the judges said the ban would likely violate the right under the us constitution to equal protection under the law the pentagon on dec  issued guidelines to recruitment personnel in order to enlist transgender applicants by jan  the memo outlined medical requirements and specified how the applicants sex would be identified and even which undergarments they would wear the trump administration previously said in legal papers that the armed forces were not prepared to train thousands of personnel on the medical standards needed to process transgender applicants and might have to accept some individuals who are not medically fit for service the obama administration had set a deadline of july   to begin accepting transgender recruits but trumps defense secretary james mattis postponed that date to jan   which the presidents ban then put off indefinitely trump has taken other steps aimed at rolling back transgender rights in october his administration said a federal law banning genderbased workplace discrimination does not protect transgender employees reversing another obamaera position in february trump rescinded guidance issued by the obama administration saying that public schools should allow transgender students to use the restroom that corresponds to their gender identity</td>\n",
       "      <td>1</td>\n",
       "      <td>9</td>\n",
       "      <td>612</td>\n",
       "    </tr>\n",
       "    <tr>\n",
       "      <th>2</th>\n",
       "      <td>senior us republican senator let mr mueller do his job</td>\n",
       "      <td>washington reuters  the special counsel investigation of links between russia and president trumps  election campaign should continue without interference in  despite calls from some trump administration allies and republican lawmakers to shut it down a prominent republican senator said on sunday lindsey graham who serves on the senate armed forces and judiciary committees said department of justice special counsel robert mueller needs to carry on with his russia investigation without political interference this investigation will go forward it will be an investigation conducted without political influence graham said on cbss face the nation news program and we all need to let mr mueller do his job i think hes the right guy at the right time the question of how russia may have interfered in the election and how trumps campaign may have had links with or coordinated any such effort has loomed over the white house since trump took office in january it shows no sign of receding as trump prepares for his second year in power despite intensified rhetoric from some trump allies in recent weeks accusing muellers team of bias against the republican president trump himself seemed to undercut his supporters in an interview last week with the new york times in which he said he expected mueller was going to be fair russias role in the election and the question of possible links to the trump campaign are the focus of multiple inquiries in washington three committees of the senate and the house of representatives are investigating as well as mueller whose team in may took over an earlier probe launched by the us federal bureau of investigation fbi several members of the trump campaign and administration have been convicted or indicted in the investigation trump and his allies deny any collusion with russia during the campaign and the kremlin has denied meddling in the election graham said he still wants an examination of the fbis use of a dossier on links between trump and russia that was compiled by a former british spy christopher steele which prompted trump allies and some republicans to question muellers inquiry on saturday the new york times reported that it was not that dossier that triggered an early fbi probe but a tip from former trump campaign foreign policy adviser george papadopoulos to an australian diplomat that russia had damaging information about former trump rival hillary clinton i want somebody to look at the way the department of justice used this dossier it bothers me greatly the way they used it and i want somebody to look at it graham said but he said the russia investigation must continue as a matter of fact it would hurt us if we ignored it he said</td>\n",
       "      <td>1</td>\n",
       "      <td>10</td>\n",
       "      <td>454</td>\n",
       "    </tr>\n",
       "    <tr>\n",
       "      <th>3</th>\n",
       "      <td>fbi russia probe helped by australian diplomat tipoff nyt</td>\n",
       "      <td>washington reuters  trump campaign adviser george papadopoulos told an australian diplomat in may  that russia had political dirt on democratic presidential candidate hillary clinton the new york times reported on saturday the conversation between papadopoulos and the diplomat alexander downer in london was a driving factor behind the fbis decision to open a counterintelligence investigation of moscows contacts with the trump campaign the times reported two months after the meeting australian officials passed the information that came from papadopoulos to their american counterparts when leaked democratic emails began appearing online according to the newspaper which cited four current and former us and foreign officials besides the information from the australians the probe by the federal bureau of investigation was also propelled by intelligence from other friendly governments including the british and dutch the times said papadopoulos a chicagobased international energy lawyer pleaded guilty on oct  to lying to fbi agents about contacts with people who claimed to have ties to top russian officials it was the first criminal charge alleging links between the trump campaign and russia the white house has played down the former aides campaign role saying it was extremely limited and that any actions he took would have been on his own the new york times however reported that papadopoulos helped set up a meeting between thencandidate donald trump and egyptian president abdel fattah alsisi and edited the outline of trumps first major foreign policy speech in april  the federal investigation which is now being led by special counsel robert mueller has hung over trumps white house since he took office almost a year ago some trump allies have recently accused muellers team of being biased against the republican president lawyers for papadopoulos did not immediately respond to requests by reuters for comment muellers office declined to comment trumps white house attorney ty cobb declined to comment on the new york times report out of respect for the special counsel and his process we are not commenting on matters such as this he said in a statement mueller has charged four trump associates including papadopoulos in his investigation russia has denied interfering in the us election and trump has said there was no collusion between his campaign and moscow</td>\n",
       "      <td>1</td>\n",
       "      <td>9</td>\n",
       "      <td>372</td>\n",
       "    </tr>\n",
       "    <tr>\n",
       "      <th>4</th>\n",
       "      <td>trump wants postal service to charge much more for amazon shipments</td>\n",
       "      <td>seattlewashington reuters  president donald trump called on the us postal service on friday to charge much more to ship packages for amazon amzno picking another fight with an online retail giant he has criticized in the past why is the united states post office which is losing many billions of dollars a year while charging amazon and others so little to deliver their packages making amazon richer and the post office dumber and poorer should be charging much more trump wrote on twitter the presidents tweet drew fresh attention to the fragile finances of the postal service at a time when tens of millions of parcels have just been shipped all over the country for the holiday season the us postal service which runs at a big loss is an independent agency within the federal government and does not receive tax dollars for operating expenses according to its website package delivery has become an increasingly important part of its business as the internet has led to a sharp decline in the amount of firstclass letters the president does not determine postal rates they are set by the postal regulatory commission an independent government agency with commissioners selected by the president from both political parties that panel raised prices on packages by almost  percent in november amazon was founded by jeff bezos who remains the chief executive officer of the retail company and is the richest person in the world according to bloomberg news bezos also owns the washington post a newspaper trump has repeatedly railed against in his criticisms of the news media in tweets over the past year trump has said the amazon washington post fabricated stories he has said amazon does not pay sales tax which is not true and so hurts other retailers part of a pattern by the former businessman and reality television host of periodically turning his ire on big american companies since he took office in january daniel ives a research analyst at gbh insights said trumps comment could be taken as a warning to the retail giant however he said he was not concerned for amazon we do not see any price hikes in the future however that is a risk that amazon is clearly aware of and it is building out its distribution system aggressively he said amazon has shown interest in the past in shifting into its own delivery service including testing drones for deliveries in  the company spent  billion on shipping  percent of its total operating expenses that year amazon shares were down  percent to  by early afternoon overall us stock prices were down slightly on friday satish jindel president of shipmatrix inc which analyzes shipping data disputed the idea that the postal service charges less than united parcel service inc upsn and fedex corp fdxn the other biggest players in the parcel delivery business in the united states many customers get lower rates from ups and fedex than they would get from the post office for comparable services he said the postal service delivers about  percent of amazon packages for about  to  million a day during the current peak yearend holiday shipping season jindel said the seattlebased company and the post office have an agreement in which mail carriers take amazon packages on the last leg of their journeys from post offices to customers doorsteps amazons no  carrier is ups at  percent and fedex is third with  percent or so according to jindel trumps comment tapped into a debate over whether postal service pricing has kept pace with the rise of ecommerce which has flooded the mail with small packagesprivate companies like ups have long claimed the current system unfairly undercuts their business steve gaut a spokesman for ups noted that the company values its productive relationship with the postal service but that it has filed with the postal regulatory commission its concerns about the postal services methods for covering costs representatives for amazon the white house the us postal service and fedex declined comment or were not immediately available for comment on trumps tweet according to its annual report the postal service lost  billion this year and its deficit has ballooned to  billion while the postal services revenue for first class mail marketing mail and periodicals is flat or declining revenue from package delivery is up  percent since  to  billion in the fiscal year ended sept   but it also lost about  billion in revenue when a temporary surcharge expired in april  according to a government accountability office report in february the service is facing growing personnel expenses particularly  billion in unfunded pension and benefits liabilities the postal service has not announced any plans to cut costs by law the postal service has to set prices for package delivery to cover the costs attributable to that service but the postal service allocates only  percent of its total costs to its business of shipping packages even though that line of business is  percent of its total revenue</td>\n",
       "      <td>1</td>\n",
       "      <td>11</td>\n",
       "      <td>827</td>\n",
       "    </tr>\n",
       "  </tbody>\n",
       "</table>\n",
       "</div>"
      ],
      "text/plain": [
       "                                                                 title  \\\n",
       "0        as us budget fight looms republicans flip their fiscal script   \n",
       "1        us military to accept transgender recruits on monday pentagon   \n",
       "2               senior us republican senator let mr mueller do his job   \n",
       "3            fbi russia probe helped by australian diplomat tipoff nyt   \n",
       "4  trump wants postal service to charge much more for amazon shipments   \n",
       "\n",
       "                                                                                                                                                                                                                                                                                                                                                                                                                                                                                                                                                                                                                                                                                                                                                                                                                                                                                                                                                                                                                                                                                                                                                                                                                                                                                                                                                                                                                                                                                                                                                                                                                                                                                                                                                                                                                                                                                                                                                                                                                                                                                                                                                                                                                                                                                                                                                                                                                                                                                                                                                                                                                                                                                                                                                                                                                                                                                                                                                                                                                                                                                                                                                                                                                                                                                                                                                                                                                                                                                                                                                                                                                                                                                                                                                                                                                                                                                                                                                                                                                                                                                                                                                                                                                                                                                                                                                                                                                                                                                                                                                                                                                                                                                                                                                                                                                                                                                                                                                                                                                                                                                                                                                                                text  \\\n",
       "0                                                                                                                                                                                                                                                                                                                                                                                                                                                                                                                            washington reuters  the head of a conservative republican faction in the us congress who voted this month for a huge expansion of the national debt to pay for tax cuts called himself a fiscal conservative on sunday and urged budget restraint in  in keeping with a sharp pivot under way among republicans us representative mark meadows speaking on cbs face the nation drew a hard line on federal spending which lawmakers are bracing to do battle over in january when they return from the holidays on wednesday lawmakers will begin trying to pass a federal budget in a fight likely to be linked to other issues such as immigration policy even as the november congressional election campaigns approach in which republicans will seek to keep control of congress president donald trump and his republicans want a big budget increase in military spending while democrats also want proportional increases for nondefense discretionary spending on programs that support education scientific research infrastructure public health and environmental protection the trump administration has already been willing to say were going to increase nondefense discretionary spending  by about  percent meadows chairman of the small but influential house freedom caucus said on the program now democrats are saying thats not enough we need to give the government a pay raise of  to  percent for a fiscal conservative i dont see where the rationale is  eventually you run out of other peoples money he said meadows was among republicans who voted in late december for their partys debtfinanced tax overhaul which is expected to balloon the federal budget deficit and add about  trillion over  years to the  trillion national debt its interesting to hear mark talk about fiscal responsibility democratic us representative joseph crowley said on cbs crowley said the republican tax bill would require the united states to borrow  trillion to be paid off by future generations to finance tax cuts for corporations and the rich this is one of the least  fiscally responsible bills weve ever seen passed in the history of the house of representatives i think were going to be paying for this for many many years to come crowley said republicans insist the tax package the biggest us tax overhaul in more than  years will boost the economy and job growth house speaker paul ryan who also supported the tax bill recently went further than meadows making clear in a radio interview that welfare or entitlement reform as the party often calls it would be a top republican priority in  in republican parlance entitlement programs mean food stamps housing assistance medicare and medicaid health insurance for the elderly poor and disabled as well as other programs created by washington to assist the needy democrats seized on ryans early december remarks saying they showed republicans would try to pay for their tax overhaul by seeking spending cuts for social programs but the goals of house republicans may have to take a back seat to the senate where the votes of some democrats will be needed to approve a budget and prevent a government shutdown democrats will use their leverage in the senate which republicans narrowly control to defend both discretionary nondefense programs and social spending while tackling the issue of the dreamers people brought illegally to the country as children trump in september put a march  expiration date on the deferred action for childhood arrivals or daca program which protects the young immigrants from deportation and provides them with work permits the president has said in recent twitter messages he wants funding for his proposed mexican border wall and other immigration law changes in exchange for agreeing to help the dreamers representative debbie dingell told cbs she did not favor linking that issue to other policy objectives such as wall funding we need to do daca clean she said on wednesday trump aides will meet with congressional leaders to discuss those issues that will be followed by a weekend of strategy sessions for trump and republican leaders on jan  and  the white house said trump was also scheduled to meet on sunday with florida republican governor rick scott who wants more emergency aid the house has passed an  billion aid package after hurricanes in florida texas and puerto rico and wildfires in california the package far exceeded the  billion requested by the trump administration the senate has not yet voted on the aid    \n",
       "1                                                                                                                                                                                                                                                                                                                                                                                                                                                                                                                                                                                                                                                                                                                                                                                                                                                                                                                                                                                                                                                           washington reuters  transgender people will be allowed for the first time to enlist in the us military starting on monday as ordered by federal courts the pentagon said on friday after president donald trumps administration decided not to appeal rulings that blocked his transgender ban two federal appeals courts one in washington and one in virginia last week rejected the administrations request to put on hold orders by lower court judges requiring the military to begin accepting transgender recruits on jan  a justice department official said the administration will not challenge those rulings the department of defense has announced that it will be releasing an independent study of these issues in the coming weeks so rather than litigate this interim appeal before that occurs the administration has decided to wait for dods study and will continue to defend the presidents lawful authority in district court in the meantime the official said speaking on condition of anonymity in september the pentagon said it had created a panel of senior officials to study how to implement a directive by trump to prohibit transgender individuals from serving the defense department has until feb  to submit a plan to trump lawyers representing currentlyserving transgender service members and aspiring recruits said they had expected the administration to appeal the rulings to the conservativemajority supreme court but were hoping that would not happen pentagon spokeswoman heather babb said in a statement as mandated by court order the department of defense is prepared to begin accessing transgender applicants for military service jan  all applicants must meet all accession standards jennifer levi a lawyer with gay lesbian and transgender advocacy group glad called the decision not to appeal great news im hoping it means the government has come to see that there is no way to justify a ban and that its not good for the military or our country levi said both glad and the american civil liberties union represent plaintiffs in the lawsuits filed against the administration in a move that appealed to his hardline conservative supporters trump announced in july that he would prohibit transgender people from serving in the military reversing democratic president barack obamas policy of accepting them trump said on twitter at the time that the military cannot be burdened with the tremendous medical costs and disruption that transgender in the military would entail four federal judges  in baltimore washington dc seattle and riverside california  have issued rulings blocking trumps ban while legal challenges to the republican presidents policy proceed the judges said the ban would likely violate the right under the us constitution to equal protection under the law the pentagon on dec  issued guidelines to recruitment personnel in order to enlist transgender applicants by jan  the memo outlined medical requirements and specified how the applicants sex would be identified and even which undergarments they would wear the trump administration previously said in legal papers that the armed forces were not prepared to train thousands of personnel on the medical standards needed to process transgender applicants and might have to accept some individuals who are not medically fit for service the obama administration had set a deadline of july   to begin accepting transgender recruits but trumps defense secretary james mattis postponed that date to jan   which the presidents ban then put off indefinitely trump has taken other steps aimed at rolling back transgender rights in october his administration said a federal law banning genderbased workplace discrimination does not protect transgender employees reversing another obamaera position in february trump rescinded guidance issued by the obama administration saying that public schools should allow transgender students to use the restroom that corresponds to their gender identity    \n",
       "2                                                                                                                                                                                                                                                                                                                                                                                                                                                                                                                                                                                                                                                                                                                                                                                                                                                                                                                                                                                                                                                                                                                                                                                                                                                                                                                                                                                                                                                                                                                                                                                                                                                                                                                                                                                                                                                                                                                                                                                                                                                                                                                                                                                                                                                                                                                                                               washington reuters  the special counsel investigation of links between russia and president trumps  election campaign should continue without interference in  despite calls from some trump administration allies and republican lawmakers to shut it down a prominent republican senator said on sunday lindsey graham who serves on the senate armed forces and judiciary committees said department of justice special counsel robert mueller needs to carry on with his russia investigation without political interference this investigation will go forward it will be an investigation conducted without political influence graham said on cbss face the nation news program and we all need to let mr mueller do his job i think hes the right guy at the right time the question of how russia may have interfered in the election and how trumps campaign may have had links with or coordinated any such effort has loomed over the white house since trump took office in january it shows no sign of receding as trump prepares for his second year in power despite intensified rhetoric from some trump allies in recent weeks accusing muellers team of bias against the republican president trump himself seemed to undercut his supporters in an interview last week with the new york times in which he said he expected mueller was going to be fair russias role in the election and the question of possible links to the trump campaign are the focus of multiple inquiries in washington three committees of the senate and the house of representatives are investigating as well as mueller whose team in may took over an earlier probe launched by the us federal bureau of investigation fbi several members of the trump campaign and administration have been convicted or indicted in the investigation trump and his allies deny any collusion with russia during the campaign and the kremlin has denied meddling in the election graham said he still wants an examination of the fbis use of a dossier on links between trump and russia that was compiled by a former british spy christopher steele which prompted trump allies and some republicans to question muellers inquiry on saturday the new york times reported that it was not that dossier that triggered an early fbi probe but a tip from former trump campaign foreign policy adviser george papadopoulos to an australian diplomat that russia had damaging information about former trump rival hillary clinton i want somebody to look at the way the department of justice used this dossier it bothers me greatly the way they used it and i want somebody to look at it graham said but he said the russia investigation must continue as a matter of fact it would hurt us if we ignored it he said    \n",
       "3                                                                                                                                                                                                                                                                                                                                                                                                                                                                                                                                                                                                                                                                                                                                                                                                                                                                                                                                                                                                                                                                                                                                                                                                                                                                                                                                                                                                                                                                                                                                                                                                                                                                                                                                                                                                                                                                                                                                                                                                                                                                                                                                                                                                                                                                                                                                                                                                                                                                                                                                                                                                                                                                                               washington reuters  trump campaign adviser george papadopoulos told an australian diplomat in may  that russia had political dirt on democratic presidential candidate hillary clinton the new york times reported on saturday the conversation between papadopoulos and the diplomat alexander downer in london was a driving factor behind the fbis decision to open a counterintelligence investigation of moscows contacts with the trump campaign the times reported two months after the meeting australian officials passed the information that came from papadopoulos to their american counterparts when leaked democratic emails began appearing online according to the newspaper which cited four current and former us and foreign officials besides the information from the australians the probe by the federal bureau of investigation was also propelled by intelligence from other friendly governments including the british and dutch the times said papadopoulos a chicagobased international energy lawyer pleaded guilty on oct  to lying to fbi agents about contacts with people who claimed to have ties to top russian officials it was the first criminal charge alleging links between the trump campaign and russia the white house has played down the former aides campaign role saying it was extremely limited and that any actions he took would have been on his own the new york times however reported that papadopoulos helped set up a meeting between thencandidate donald trump and egyptian president abdel fattah alsisi and edited the outline of trumps first major foreign policy speech in april  the federal investigation which is now being led by special counsel robert mueller has hung over trumps white house since he took office almost a year ago some trump allies have recently accused muellers team of being biased against the republican president lawyers for papadopoulos did not immediately respond to requests by reuters for comment muellers office declined to comment trumps white house attorney ty cobb declined to comment on the new york times report out of respect for the special counsel and his process we are not commenting on matters such as this he said in a statement mueller has charged four trump associates including papadopoulos in his investigation russia has denied interfering in the us election and trump has said there was no collusion between his campaign and moscow    \n",
       "4  seattlewashington reuters  president donald trump called on the us postal service on friday to charge much more to ship packages for amazon amzno picking another fight with an online retail giant he has criticized in the past why is the united states post office which is losing many billions of dollars a year while charging amazon and others so little to deliver their packages making amazon richer and the post office dumber and poorer should be charging much more trump wrote on twitter the presidents tweet drew fresh attention to the fragile finances of the postal service at a time when tens of millions of parcels have just been shipped all over the country for the holiday season the us postal service which runs at a big loss is an independent agency within the federal government and does not receive tax dollars for operating expenses according to its website package delivery has become an increasingly important part of its business as the internet has led to a sharp decline in the amount of firstclass letters the president does not determine postal rates they are set by the postal regulatory commission an independent government agency with commissioners selected by the president from both political parties that panel raised prices on packages by almost  percent in november amazon was founded by jeff bezos who remains the chief executive officer of the retail company and is the richest person in the world according to bloomberg news bezos also owns the washington post a newspaper trump has repeatedly railed against in his criticisms of the news media in tweets over the past year trump has said the amazon washington post fabricated stories he has said amazon does not pay sales tax which is not true and so hurts other retailers part of a pattern by the former businessman and reality television host of periodically turning his ire on big american companies since he took office in january daniel ives a research analyst at gbh insights said trumps comment could be taken as a warning to the retail giant however he said he was not concerned for amazon we do not see any price hikes in the future however that is a risk that amazon is clearly aware of and it is building out its distribution system aggressively he said amazon has shown interest in the past in shifting into its own delivery service including testing drones for deliveries in  the company spent  billion on shipping  percent of its total operating expenses that year amazon shares were down  percent to  by early afternoon overall us stock prices were down slightly on friday satish jindel president of shipmatrix inc which analyzes shipping data disputed the idea that the postal service charges less than united parcel service inc upsn and fedex corp fdxn the other biggest players in the parcel delivery business in the united states many customers get lower rates from ups and fedex than they would get from the post office for comparable services he said the postal service delivers about  percent of amazon packages for about  to  million a day during the current peak yearend holiday shipping season jindel said the seattlebased company and the post office have an agreement in which mail carriers take amazon packages on the last leg of their journeys from post offices to customers doorsteps amazons no  carrier is ups at  percent and fedex is third with  percent or so according to jindel trumps comment tapped into a debate over whether postal service pricing has kept pace with the rise of ecommerce which has flooded the mail with small packagesprivate companies like ups have long claimed the current system unfairly undercuts their business steve gaut a spokesman for ups noted that the company values its productive relationship with the postal service but that it has filed with the postal regulatory commission its concerns about the postal services methods for covering costs representatives for amazon the white house the us postal service and fedex declined comment or were not immediately available for comment on trumps tweet according to its annual report the postal service lost  billion this year and its deficit has ballooned to  billion while the postal services revenue for first class mail marketing mail and periodicals is flat or declining revenue from package delivery is up  percent since  to  billion in the fiscal year ended sept   but it also lost about  billion in revenue when a temporary surcharge expired in april  according to a government accountability office report in february the service is facing growing personnel expenses particularly  billion in unfunded pension and benefits liabilities the postal service has not announced any plans to cut costs by law the postal service has to set prices for package delivery to cover the costs attributable to that service but the postal service allocates only  percent of its total costs to its business of shipping packages even though that line of business is  percent of its total revenue    \n",
       "\n",
       "   category  title_length  text_length  \n",
       "0         1            10          730  \n",
       "1         1             9          612  \n",
       "2         1            10          454  \n",
       "3         1             9          372  \n",
       "4         1            11          827  "
      ]
     },
     "metadata": {},
     "output_type": "display_data"
    }
   ],
   "source": [
    "df = pd.read_pickle(\"corpuseda.pkl\")\n",
    "display(df.head())"
   ]
  },
  {
   "cell_type": "code",
   "execution_count": 3,
   "metadata": {},
   "outputs": [
    {
     "data": {
      "text/plain": [
       "(39080, 5)"
      ]
     },
     "execution_count": 3,
     "metadata": {},
     "output_type": "execute_result"
    }
   ],
   "source": [
    "df.shape"
   ]
  },
  {
   "cell_type": "markdown",
   "metadata": {},
   "source": [
    "## Text Preprocessing"
   ]
  },
  {
   "cell_type": "markdown",
   "metadata": {},
   "source": [
    "### Stop Words"
   ]
  },
  {
   "cell_type": "code",
   "execution_count": 4,
   "metadata": {},
   "outputs": [],
   "source": [
    "# the default NLTK stopword list\n",
    "stop_words = set(stopwords.words('english'))  \n",
    "\n",
    "# add additional stopwords\n",
    "additional_stopwords = (['trump', 'says', 'trumps','day','child','large', 'said', 'president', 'video', 'obama', 'people', 'house','state','from', 'subject', 're', 'edu', 'use', 'not', 'would', 'say', 'could', '_', 'be', 'know', 'good', 'go', 'get', 'do', 'done', 'try', 'many', 'some', 'nice', 'thank', 'think', 'see', 'rather', 'easy', 'easily', 'lot', 'lack', 'make', 'want', 'seem', 'run', 'need', 'even', 'right', 'line', 'even', 'also', 'may', 'take', 'come', 'new', 'still', 'year', 'work', 'continue', 'show', 'love', 'pass', 'socalle', 'passage', 'medium', 'claim', 'tell', 'evidence', 'watch', 'man','thing','become','give','way','call','include','student','time','call','woman','leave','today','look'])\n",
    "stop_words = stop_words.union(additional_stopwords)"
   ]
  },
  {
   "cell_type": "markdown",
   "metadata": {},
   "source": [
    "## Modelling"
   ]
  },
  {
   "cell_type": "markdown",
   "metadata": {},
   "source": [
    "#### Baseline Accuracy\n",
    "\n",
    "The baseline model would predict class 1 (Real news) about 54% of the time."
   ]
  },
  {
   "cell_type": "code",
   "execution_count": 169,
   "metadata": {},
   "outputs": [
    {
     "data": {
      "text/plain": [
       "1    0.541965\n",
       "0    0.458035\n",
       "Name: category, dtype: float64"
      ]
     },
     "execution_count": 169,
     "metadata": {},
     "output_type": "execute_result"
    }
   ],
   "source": [
    "df.category.value_counts(normalize=True)"
   ]
  },
  {
   "cell_type": "markdown",
   "metadata": {},
   "source": [
    "### `Title`"
   ]
  },
  {
   "cell_type": "markdown",
   "metadata": {},
   "source": [
    "#### Train-Test-Split"
   ]
  },
  {
   "cell_type": "code",
   "execution_count": 5,
   "metadata": {},
   "outputs": [],
   "source": [
    "X = df['title']\n",
    "y = df[['category']]"
   ]
  },
  {
   "cell_type": "code",
   "execution_count": 6,
   "metadata": {},
   "outputs": [
    {
     "name": "stdout",
     "output_type": "stream",
     "text": [
      "(31264,)\n",
      "(31264, 1)\n",
      "(7816,)\n",
      "(7816, 1)\n"
     ]
    }
   ],
   "source": [
    "X_train, X_val, y_train, y_val = train_test_split(X, y, test_size=0.2, stratify=y)\n",
    "\n",
    "print(X_train.shape)\n",
    "print(y_train.shape)\n",
    "print(X_val.shape)\n",
    "print(y_val.shape)"
   ]
  },
  {
   "cell_type": "markdown",
   "metadata": {},
   "source": [
    "### Logistic Regression"
   ]
  },
  {
   "cell_type": "code",
   "execution_count": 7,
   "metadata": {},
   "outputs": [
    {
     "name": "stdout",
     "output_type": "stream",
     "text": [
      "Train accuracy: 0.964335977482088\n",
      "Validation accuracy: 0.9411463664278403\n",
      "{'vect__min_df': 5, 'vect__ngram_range': (1, 3), 'vect__stop_words': None}\n"
     ]
    }
   ],
   "source": [
    "#Creates pipeline to handle vectorization and logistic regression steps\n",
    "pipe = Pipeline([\n",
    "    ('vect', CountVectorizer()),\n",
    "    ('tfidf', TfidfTransformer()),\n",
    "    ('model', LogisticRegression())\n",
    "     ])\n",
    "\n",
    "#Specifies different hyperparameter values that we want to test across\n",
    "params = {\n",
    "    'vect__ngram_range':[(1,3)],\n",
    "    'vect__min_df':[2,5],\n",
    "    'vect__stop_words':[None,'stop_words'],\n",
    "}\n",
    "\n",
    "#Executes GridSearch\n",
    "gs = GridSearchCV(pipe, params, cv=10)\n",
    "gs.fit(X_train, y_train)\n",
    "\n",
    "\n",
    "print('Train accuracy:', gs.score(X_train, y_train))\n",
    "print('Validation accuracy:', gs.score(X_val, y_val))\n",
    "print(gs.best_params_)"
   ]
  },
  {
   "cell_type": "code",
   "execution_count": 8,
   "metadata": {},
   "outputs": [
    {
     "name": "stdout",
     "output_type": "stream",
     "text": [
      "[[3301  279]\n",
      " [ 181 4055]]\n",
      "              precision    recall  f1-score   support\n",
      "\n",
      "           0       0.95      0.92      0.93      3580\n",
      "           1       0.94      0.96      0.95      4236\n",
      "\n",
      "    accuracy                           0.94      7816\n",
      "   macro avg       0.94      0.94      0.94      7816\n",
      "weighted avg       0.94      0.94      0.94      7816\n",
      "\n"
     ]
    }
   ],
   "source": [
    "prediction = gs.predict(X_val)\n",
    "print(confusion_matrix(y_val, prediction))\n",
    "print(classification_report(y_val, prediction))"
   ]
  },
  {
   "cell_type": "code",
   "execution_count": 9,
   "metadata": {},
   "outputs": [],
   "source": [
    "# Generating a confusion matrix.\n",
    "\n",
    "tn, fp, fn, tp = confusion_matrix(y_val, prediction).ravel()"
   ]
  },
  {
   "cell_type": "code",
   "execution_count": 10,
   "metadata": {},
   "outputs": [
    {
     "data": {
      "text/html": [
       "<div>\n",
       "<style scoped>\n",
       "    .dataframe tbody tr th:only-of-type {\n",
       "        vertical-align: middle;\n",
       "    }\n",
       "\n",
       "    .dataframe tbody tr th {\n",
       "        vertical-align: top;\n",
       "    }\n",
       "\n",
       "    .dataframe thead th {\n",
       "        text-align: right;\n",
       "    }\n",
       "</style>\n",
       "<table border=\"1\" class=\"dataframe\">\n",
       "  <thead>\n",
       "    <tr style=\"text-align: right;\">\n",
       "      <th></th>\n",
       "      <th>Actual True=1</th>\n",
       "      <th>Actual Fake=0</th>\n",
       "    </tr>\n",
       "  </thead>\n",
       "  <tbody>\n",
       "    <tr>\n",
       "      <th>Predicted True=1</th>\n",
       "      <td>4055 (True Pos)</td>\n",
       "      <td>279 (False Pos)</td>\n",
       "    </tr>\n",
       "    <tr>\n",
       "      <th>Predicted Fake=0</th>\n",
       "      <td>181 (False Neg)</td>\n",
       "      <td>3301 (True Neg)</td>\n",
       "    </tr>\n",
       "  </tbody>\n",
       "</table>\n",
       "</div>"
      ],
      "text/plain": [
       "                    Actual True=1    Actual Fake=0\n",
       "Predicted True=1  4055 (True Pos)  279 (False Pos)\n",
       "Predicted Fake=0  181 (False Neg)  3301 (True Neg)"
      ]
     },
     "execution_count": 10,
     "metadata": {},
     "output_type": "execute_result"
    }
   ],
   "source": [
    "conf_mat = pd.DataFrame(columns=['Actual True=1', 'Actual Fake=0'], \n",
    "                         index=['Predicted True=1', 'Predicted Fake=0'],\n",
    "                         data=[[f'{tp} (True Pos)', f'{fp} (False Pos)'], [f'{fn} (False Neg)', f'{tn} (True Neg)']]\n",
    "                        )\n",
    "conf_mat"
   ]
  },
  {
   "cell_type": "code",
   "execution_count": 11,
   "metadata": {},
   "outputs": [
    {
     "name": "stdout",
     "output_type": "stream",
     "text": [
      "0.9572710103871577\n",
      "0.9220670391061453\n",
      "0.9356252884171666\n"
     ]
    }
   ],
   "source": [
    "sensitivity = tp/(tp+fn)\n",
    "specificity = tn/(tn+fp)\n",
    "precision = tp/(tp+fp)\n",
    "print(sensitivity)\n",
    "print(specificity)\n",
    "print(precision)"
   ]
  },
  {
   "cell_type": "code",
   "execution_count": null,
   "metadata": {},
   "outputs": [],
   "source": []
  },
  {
   "cell_type": "code",
   "execution_count": null,
   "metadata": {},
   "outputs": [],
   "source": []
  },
  {
   "cell_type": "markdown",
   "metadata": {},
   "source": [
    "### `Title >=5 words`"
   ]
  },
  {
   "cell_type": "markdown",
   "metadata": {},
   "source": [
    "#### Train-Test-Split"
   ]
  },
  {
   "cell_type": "code",
   "execution_count": 12,
   "metadata": {},
   "outputs": [],
   "source": [
    "df_long = df[df['title_length']>=5]\n",
    "X = df_long['title']\n",
    "y = df_long[['category']]"
   ]
  },
  {
   "cell_type": "code",
   "execution_count": 13,
   "metadata": {},
   "outputs": [
    {
     "name": "stdout",
     "output_type": "stream",
     "text": [
      "(31244,)\n",
      "(31244, 1)\n",
      "(7811,)\n",
      "(7811, 1)\n"
     ]
    }
   ],
   "source": [
    "X_train, X_val, y_train, y_val = train_test_split(X, y, test_size=0.2, stratify=y)\n",
    "\n",
    "print(X_train.shape)\n",
    "print(y_train.shape)\n",
    "print(X_val.shape)\n",
    "print(y_val.shape)"
   ]
  },
  {
   "cell_type": "markdown",
   "metadata": {},
   "source": [
    "### Logistic Regression"
   ]
  },
  {
   "cell_type": "code",
   "execution_count": 14,
   "metadata": {},
   "outputs": [
    {
     "name": "stdout",
     "output_type": "stream",
     "text": [
      "Train accuracy: 0.9651453078991167\n",
      "Validation accuracy: 0.9411086928690309\n",
      "{'vect__min_df': 5, 'vect__ngram_range': (1, 3), 'vect__stop_words': None}\n"
     ]
    }
   ],
   "source": [
    "#Creates pipeline to handle vectorization and logistic regression steps\n",
    "pipe = Pipeline([\n",
    "    ('vect', CountVectorizer()),\n",
    "    ('tfidf', TfidfTransformer()),\n",
    "    ('model', LogisticRegression())\n",
    "     ])\n",
    "\n",
    "#Specifies different hyperparameter values that we want to test across\n",
    "params = {\n",
    "    'vect__ngram_range':[(1,3)],\n",
    "    'vect__min_df':[2,5],\n",
    "    'vect__stop_words':[None,'stop_words'],\n",
    "}\n",
    "\n",
    "#Executes GridSearch\n",
    "gs = GridSearchCV(pipe, params, cv=10)\n",
    "gs.fit(X_train, y_train)\n",
    "\n",
    "\n",
    "print('Train accuracy:', gs.score(X_train, y_train))\n",
    "print('Validation accuracy:', gs.score(X_val, y_val))\n",
    "print(gs.best_params_)"
   ]
  },
  {
   "cell_type": "code",
   "execution_count": 15,
   "metadata": {},
   "outputs": [
    {
     "name": "stdout",
     "output_type": "stream",
     "text": [
      "[[3298  278]\n",
      " [ 182 4053]]\n",
      "              precision    recall  f1-score   support\n",
      "\n",
      "           0       0.95      0.92      0.93      3576\n",
      "           1       0.94      0.96      0.95      4235\n",
      "\n",
      "    accuracy                           0.94      7811\n",
      "   macro avg       0.94      0.94      0.94      7811\n",
      "weighted avg       0.94      0.94      0.94      7811\n",
      "\n"
     ]
    }
   ],
   "source": [
    "prediction = gs.predict(X_val)\n",
    "print(confusion_matrix(y_val, prediction))\n",
    "print(classification_report(y_val, prediction))"
   ]
  },
  {
   "cell_type": "code",
   "execution_count": 16,
   "metadata": {},
   "outputs": [],
   "source": [
    "# Generating a confusion matrix.\n",
    "\n",
    "tn, fp, fn, tp = confusion_matrix(y_val, prediction).ravel()"
   ]
  },
  {
   "cell_type": "code",
   "execution_count": 17,
   "metadata": {},
   "outputs": [
    {
     "data": {
      "text/html": [
       "<div>\n",
       "<style scoped>\n",
       "    .dataframe tbody tr th:only-of-type {\n",
       "        vertical-align: middle;\n",
       "    }\n",
       "\n",
       "    .dataframe tbody tr th {\n",
       "        vertical-align: top;\n",
       "    }\n",
       "\n",
       "    .dataframe thead th {\n",
       "        text-align: right;\n",
       "    }\n",
       "</style>\n",
       "<table border=\"1\" class=\"dataframe\">\n",
       "  <thead>\n",
       "    <tr style=\"text-align: right;\">\n",
       "      <th></th>\n",
       "      <th>Actual True=1</th>\n",
       "      <th>Actual Fake=0</th>\n",
       "    </tr>\n",
       "  </thead>\n",
       "  <tbody>\n",
       "    <tr>\n",
       "      <th>Predicted True=1</th>\n",
       "      <td>4053 (True Pos)</td>\n",
       "      <td>278 (False Pos)</td>\n",
       "    </tr>\n",
       "    <tr>\n",
       "      <th>Predicted Fake=0</th>\n",
       "      <td>182 (False Neg)</td>\n",
       "      <td>3298 (True Neg)</td>\n",
       "    </tr>\n",
       "  </tbody>\n",
       "</table>\n",
       "</div>"
      ],
      "text/plain": [
       "                    Actual True=1    Actual Fake=0\n",
       "Predicted True=1  4053 (True Pos)  278 (False Pos)\n",
       "Predicted Fake=0  182 (False Neg)  3298 (True Neg)"
      ]
     },
     "execution_count": 17,
     "metadata": {},
     "output_type": "execute_result"
    }
   ],
   "source": [
    "conf_mat = pd.DataFrame(columns=['Actual True=1', 'Actual Fake=0'], \n",
    "                         index=['Predicted True=1', 'Predicted Fake=0'],\n",
    "                         data=[[f'{tp} (True Pos)', f'{fp} (False Pos)'], [f'{fn} (False Neg)', f'{tn} (True Neg)']]\n",
    "                        )\n",
    "conf_mat"
   ]
  },
  {
   "cell_type": "code",
   "execution_count": 18,
   "metadata": {},
   "outputs": [
    {
     "name": "stdout",
     "output_type": "stream",
     "text": [
      "0.9570247933884297\n",
      "0.9222595078299777\n",
      "0.9358115908566151\n"
     ]
    }
   ],
   "source": [
    "sensitivity = tp/(tp+fn)\n",
    "specificity = tn/(tn+fp)\n",
    "precision = tp/(tp+fp)\n",
    "print(sensitivity)\n",
    "print(specificity)\n",
    "print(precision)"
   ]
  },
  {
   "cell_type": "code",
   "execution_count": null,
   "metadata": {},
   "outputs": [],
   "source": []
  },
  {
   "cell_type": "markdown",
   "metadata": {},
   "source": [
    "### `Text`"
   ]
  },
  {
   "cell_type": "markdown",
   "metadata": {},
   "source": [
    "#### Train-Test-Split"
   ]
  },
  {
   "cell_type": "code",
   "execution_count": 19,
   "metadata": {},
   "outputs": [],
   "source": [
    "X = df['text']\n",
    "y = df[['category']]"
   ]
  },
  {
   "cell_type": "code",
   "execution_count": 20,
   "metadata": {},
   "outputs": [
    {
     "name": "stdout",
     "output_type": "stream",
     "text": [
      "(31264,)\n",
      "(31264, 1)\n",
      "(7816,)\n",
      "(7816, 1)\n"
     ]
    }
   ],
   "source": [
    "X_train, X_val, y_train, y_val = train_test_split(X, y, test_size=0.2, stratify=y)\n",
    "\n",
    "print(X_train.shape)\n",
    "print(y_train.shape)\n",
    "print(X_val.shape)\n",
    "print(y_val.shape)"
   ]
  },
  {
   "cell_type": "markdown",
   "metadata": {},
   "source": [
    "### Logistic Regression"
   ]
  },
  {
   "cell_type": "code",
   "execution_count": 21,
   "metadata": {},
   "outputs": [
    {
     "name": "stdout",
     "output_type": "stream",
     "text": [
      "Train accuracy: 0.9930910951893551\n",
      "Validation accuracy: 0.9878454452405322\n",
      "{'vect__min_df': 5, 'vect__ngram_range': (1, 3), 'vect__stop_words': None}\n"
     ]
    }
   ],
   "source": [
    "#Creates pipeline to handle vectorization and logistic regression steps\n",
    "pipe = Pipeline([\n",
    "    ('vect', CountVectorizer()),\n",
    "    ('tfidf', TfidfTransformer()),\n",
    "    ('model', LogisticRegression())\n",
    "     ])\n",
    "\n",
    "#Specifies different hyperparameter values that we want to test across\n",
    "params = {\n",
    "    'vect__ngram_range':[(1,3)],\n",
    "    'vect__min_df':[2,5],\n",
    "    'vect__stop_words':[None,'stop_words'],\n",
    "}\n",
    "\n",
    "#Executes GridSearch\n",
    "gs = GridSearchCV(pipe, params, cv=10)\n",
    "gs.fit(X_train, y_train)\n",
    "\n",
    "\n",
    "print('Train accuracy:', gs.score(X_train, y_train))\n",
    "print('Validation accuracy:', gs.score(X_val, y_val))\n",
    "print(gs.best_params_)"
   ]
  },
  {
   "cell_type": "code",
   "execution_count": 22,
   "metadata": {},
   "outputs": [
    {
     "name": "stdout",
     "output_type": "stream",
     "text": [
      "[[3512   68]\n",
      " [  27 4209]]\n",
      "              precision    recall  f1-score   support\n",
      "\n",
      "           0       0.99      0.98      0.99      3580\n",
      "           1       0.98      0.99      0.99      4236\n",
      "\n",
      "    accuracy                           0.99      7816\n",
      "   macro avg       0.99      0.99      0.99      7816\n",
      "weighted avg       0.99      0.99      0.99      7816\n",
      "\n"
     ]
    }
   ],
   "source": [
    "prediction = gs.predict(X_val)\n",
    "print(confusion_matrix(y_val, prediction))\n",
    "print(classification_report(y_val, prediction))"
   ]
  },
  {
   "cell_type": "code",
   "execution_count": 23,
   "metadata": {},
   "outputs": [],
   "source": [
    "# Generating a confusion matrix.\n",
    "\n",
    "tn, fp, fn, tp = confusion_matrix(y_val, prediction).ravel()"
   ]
  },
  {
   "cell_type": "code",
   "execution_count": 24,
   "metadata": {},
   "outputs": [
    {
     "data": {
      "text/html": [
       "<div>\n",
       "<style scoped>\n",
       "    .dataframe tbody tr th:only-of-type {\n",
       "        vertical-align: middle;\n",
       "    }\n",
       "\n",
       "    .dataframe tbody tr th {\n",
       "        vertical-align: top;\n",
       "    }\n",
       "\n",
       "    .dataframe thead th {\n",
       "        text-align: right;\n",
       "    }\n",
       "</style>\n",
       "<table border=\"1\" class=\"dataframe\">\n",
       "  <thead>\n",
       "    <tr style=\"text-align: right;\">\n",
       "      <th></th>\n",
       "      <th>Actual True=1</th>\n",
       "      <th>Actual Fake=0</th>\n",
       "    </tr>\n",
       "  </thead>\n",
       "  <tbody>\n",
       "    <tr>\n",
       "      <th>Predicted True=1</th>\n",
       "      <td>4209 (True Pos)</td>\n",
       "      <td>68 (False Pos)</td>\n",
       "    </tr>\n",
       "    <tr>\n",
       "      <th>Predicted Fake=0</th>\n",
       "      <td>27 (False Neg)</td>\n",
       "      <td>3512 (True Neg)</td>\n",
       "    </tr>\n",
       "  </tbody>\n",
       "</table>\n",
       "</div>"
      ],
      "text/plain": [
       "                    Actual True=1    Actual Fake=0\n",
       "Predicted True=1  4209 (True Pos)   68 (False Pos)\n",
       "Predicted Fake=0   27 (False Neg)  3512 (True Neg)"
      ]
     },
     "execution_count": 24,
     "metadata": {},
     "output_type": "execute_result"
    }
   ],
   "source": [
    "conf_mat = pd.DataFrame(columns=['Actual True=1', 'Actual Fake=0'], \n",
    "                         index=['Predicted True=1', 'Predicted Fake=0'],\n",
    "                         data=[[f'{tp} (True Pos)', f'{fp} (False Pos)'], [f'{fn} (False Neg)', f'{tn} (True Neg)']]\n",
    "                        )\n",
    "conf_mat"
   ]
  },
  {
   "cell_type": "code",
   "execution_count": 25,
   "metadata": {},
   "outputs": [
    {
     "name": "stdout",
     "output_type": "stream",
     "text": [
      "0.9936260623229461\n",
      "0.9810055865921787\n",
      "0.9841010053776011\n"
     ]
    }
   ],
   "source": [
    "sensitivity = tp/(tp+fn)\n",
    "specificity = tn/(tn+fp)\n",
    "precision = tp/(tp+fp)\n",
    "print(sensitivity)\n",
    "print(specificity)\n",
    "print(precision)"
   ]
  },
  {
   "cell_type": "code",
   "execution_count": null,
   "metadata": {},
   "outputs": [],
   "source": []
  },
  {
   "cell_type": "code",
   "execution_count": null,
   "metadata": {},
   "outputs": [],
   "source": []
  },
  {
   "cell_type": "markdown",
   "metadata": {},
   "source": [
    "### Multinomial Naive Bayes"
   ]
  },
  {
   "cell_type": "code",
   "execution_count": 31,
   "metadata": {},
   "outputs": [
    {
     "name": "stdout",
     "output_type": "stream",
     "text": [
      "Train accuracy: 0.9584186284544524\n",
      "Validation accuracy: 0.9524053224155579\n",
      "{'vect__min_df': 5, 'vect__ngram_range': (1, 3), 'vect__stop_words': None}\n"
     ]
    }
   ],
   "source": [
    "#Creates pipeline to handle vectorization and logistic regression steps\n",
    "pipe = Pipeline([\n",
    "    ('vect', CountVectorizer()),\n",
    "    ('tfidf', TfidfTransformer()),\n",
    "    ('model', MultinomialNB())\n",
    "     ])\n",
    "\n",
    "#Specifies different hyperparameter values that we want to test across\n",
    "params = {\n",
    "    'vect__ngram_range':[(1,3)],\n",
    "    'vect__min_df':[2,5],\n",
    "    'vect__stop_words':[None,'stop_words'],\n",
    "}\n",
    "\n",
    "#Executes GridSearch\n",
    "gs = GridSearchCV(pipe, params, cv=10)\n",
    "gs.fit(X_train, y_train)\n",
    "\n",
    "\n",
    "print('Train accuracy:', gs.score(X_train, y_train))\n",
    "print('Validation accuracy:', gs.score(X_val, y_val))\n",
    "print(gs.best_params_)"
   ]
  },
  {
   "cell_type": "code",
   "execution_count": 32,
   "metadata": {},
   "outputs": [
    {
     "name": "stdout",
     "output_type": "stream",
     "text": [
      "[[3282  298]\n",
      " [  74 4162]]\n",
      "              precision    recall  f1-score   support\n",
      "\n",
      "           0       0.98      0.92      0.95      3580\n",
      "           1       0.93      0.98      0.96      4236\n",
      "\n",
      "    accuracy                           0.95      7816\n",
      "   macro avg       0.96      0.95      0.95      7816\n",
      "weighted avg       0.95      0.95      0.95      7816\n",
      "\n"
     ]
    }
   ],
   "source": [
    "prediction = gs.predict(X_val)\n",
    "print(confusion_matrix(y_val, prediction))\n",
    "print(classification_report(y_val, prediction))"
   ]
  },
  {
   "cell_type": "code",
   "execution_count": 33,
   "metadata": {},
   "outputs": [],
   "source": [
    "# Generating a confusion matrix.\n",
    "\n",
    "tn, fp, fn, tp = confusion_matrix(y_val, prediction).ravel()"
   ]
  },
  {
   "cell_type": "code",
   "execution_count": 34,
   "metadata": {},
   "outputs": [
    {
     "data": {
      "text/html": [
       "<div>\n",
       "<style scoped>\n",
       "    .dataframe tbody tr th:only-of-type {\n",
       "        vertical-align: middle;\n",
       "    }\n",
       "\n",
       "    .dataframe tbody tr th {\n",
       "        vertical-align: top;\n",
       "    }\n",
       "\n",
       "    .dataframe thead th {\n",
       "        text-align: right;\n",
       "    }\n",
       "</style>\n",
       "<table border=\"1\" class=\"dataframe\">\n",
       "  <thead>\n",
       "    <tr style=\"text-align: right;\">\n",
       "      <th></th>\n",
       "      <th>Actual True=1</th>\n",
       "      <th>Actual Fake=0</th>\n",
       "    </tr>\n",
       "  </thead>\n",
       "  <tbody>\n",
       "    <tr>\n",
       "      <th>Predicted True=1</th>\n",
       "      <td>4162 (True Pos)</td>\n",
       "      <td>298 (False Pos)</td>\n",
       "    </tr>\n",
       "    <tr>\n",
       "      <th>Predicted Fake=0</th>\n",
       "      <td>74 (False Neg)</td>\n",
       "      <td>3282 (True Neg)</td>\n",
       "    </tr>\n",
       "  </tbody>\n",
       "</table>\n",
       "</div>"
      ],
      "text/plain": [
       "                    Actual True=1    Actual Fake=0\n",
       "Predicted True=1  4162 (True Pos)  298 (False Pos)\n",
       "Predicted Fake=0   74 (False Neg)  3282 (True Neg)"
      ]
     },
     "execution_count": 34,
     "metadata": {},
     "output_type": "execute_result"
    }
   ],
   "source": [
    "conf_mat = pd.DataFrame(columns=['Actual True=1', 'Actual Fake=0'], \n",
    "                         index=['Predicted True=1', 'Predicted Fake=0'],\n",
    "                         data=[[f'{tp} (True Pos)', f'{fp} (False Pos)'], [f'{fn} (False Neg)', f'{tn} (True Neg)']]\n",
    "                        )\n",
    "conf_mat"
   ]
  },
  {
   "cell_type": "code",
   "execution_count": 35,
   "metadata": {},
   "outputs": [
    {
     "name": "stdout",
     "output_type": "stream",
     "text": [
      "0.9825306893295562\n",
      "0.9167597765363128\n",
      "0.9331838565022421\n"
     ]
    }
   ],
   "source": [
    "sensitivity = tp/(tp+fn)\n",
    "specificity = tn/(tn+fp)\n",
    "precision = tp/(tp+fp)\n",
    "print(sensitivity)\n",
    "print(specificity)\n",
    "print(precision)"
   ]
  },
  {
   "cell_type": "markdown",
   "metadata": {},
   "source": [
    "### Decision Trees"
   ]
  },
  {
   "cell_type": "code",
   "execution_count": 42,
   "metadata": {},
   "outputs": [
    {
     "name": "stdout",
     "output_type": "stream",
     "text": [
      "Train accuracy: 0.9992963152507677\n",
      "Validation accuracy: 0.9961617195496417\n",
      "{'vect__min_df': 2, 'vect__ngram_range': (1, 3), 'vect__stop_words': None}\n"
     ]
    }
   ],
   "source": [
    "#Creates pipeline to handle vectorization and logistic regression steps\n",
    "pipe = Pipeline([\n",
    "    ('vect', CountVectorizer()),\n",
    "    ('tfidf', TfidfTransformer()),\n",
    "    ('model', DecisionTreeClassifier(criterion= 'entropy',\n",
    "                                     max_depth = 10, \n",
    "                                     splitter='best', \n",
    "                                     random_state=2020))])\n",
    "\n",
    "#Specifies different hyperparameter values that we want to test across\n",
    "params = {\n",
    "    'vect__ngram_range':[(1,3)],\n",
    "    'vect__min_df':[2,5],\n",
    "    'vect__stop_words':[None,'stop_words'],\n",
    "}\n",
    "\n",
    "#Executes GridSearch\n",
    "gs = GridSearchCV(pipe, params, cv=10)\n",
    "gs.fit(X_train, y_train)\n",
    "\n",
    "\n",
    "print('Train accuracy:', gs.score(X_train, y_train))\n",
    "print('Validation accuracy:', gs.score(X_val, y_val))\n",
    "print(gs.best_params_)"
   ]
  },
  {
   "cell_type": "code",
   "execution_count": 43,
   "metadata": {},
   "outputs": [],
   "source": [
    "train_acc = gs.score(X_train,y_train)\n",
    "test_acc = gs.score(X_val,y_val)"
   ]
  },
  {
   "cell_type": "code",
   "execution_count": 44,
   "metadata": {},
   "outputs": [
    {
     "data": {
      "text/plain": [
       "0.9992963152507677"
      ]
     },
     "execution_count": 44,
     "metadata": {},
     "output_type": "execute_result"
    }
   ],
   "source": [
    "train_acc"
   ]
  },
  {
   "cell_type": "code",
   "execution_count": 45,
   "metadata": {},
   "outputs": [
    {
     "data": {
      "text/plain": [
       "0.9961617195496417"
      ]
     },
     "execution_count": 45,
     "metadata": {},
     "output_type": "execute_result"
    }
   ],
   "source": [
    "test_acc"
   ]
  },
  {
   "cell_type": "code",
   "execution_count": 46,
   "metadata": {},
   "outputs": [
    {
     "name": "stdout",
     "output_type": "stream",
     "text": [
      "[[3564   16]\n",
      " [  14 4222]]\n",
      "              precision    recall  f1-score   support\n",
      "\n",
      "        Fake       1.00      1.00      1.00      3580\n",
      "        True       1.00      1.00      1.00      4236\n",
      "\n",
      "    accuracy                           1.00      7816\n",
      "   macro avg       1.00      1.00      1.00      7816\n",
      "weighted avg       1.00      1.00      1.00      7816\n",
      "\n"
     ]
    }
   ],
   "source": [
    "prediction = gs.predict(X_val)\n",
    "prediction_proba = gs.predict_proba(X_val)\n",
    "print(confusion_matrix(y_val, prediction))\n",
    "print(classification_report(y_val, prediction,target_names = ['Fake','True'] ))"
   ]
  },
  {
   "cell_type": "code",
   "execution_count": 47,
   "metadata": {},
   "outputs": [],
   "source": [
    "# Generating a confusion matrix.\n",
    "\n",
    "tn, fp, fn, tp = confusion_matrix(y_val, prediction).ravel()"
   ]
  },
  {
   "cell_type": "code",
   "execution_count": 48,
   "metadata": {},
   "outputs": [
    {
     "data": {
      "text/html": [
       "<div>\n",
       "<style scoped>\n",
       "    .dataframe tbody tr th:only-of-type {\n",
       "        vertical-align: middle;\n",
       "    }\n",
       "\n",
       "    .dataframe tbody tr th {\n",
       "        vertical-align: top;\n",
       "    }\n",
       "\n",
       "    .dataframe thead th {\n",
       "        text-align: right;\n",
       "    }\n",
       "</style>\n",
       "<table border=\"1\" class=\"dataframe\">\n",
       "  <thead>\n",
       "    <tr style=\"text-align: right;\">\n",
       "      <th></th>\n",
       "      <th>Actual True=1</th>\n",
       "      <th>Actual Fake=0</th>\n",
       "    </tr>\n",
       "  </thead>\n",
       "  <tbody>\n",
       "    <tr>\n",
       "      <th>Predicted True=1</th>\n",
       "      <td>4222 (True Pos)</td>\n",
       "      <td>16 (False Pos)</td>\n",
       "    </tr>\n",
       "    <tr>\n",
       "      <th>Predicted Fake=0</th>\n",
       "      <td>14 (False Neg)</td>\n",
       "      <td>3564 (True Neg)</td>\n",
       "    </tr>\n",
       "  </tbody>\n",
       "</table>\n",
       "</div>"
      ],
      "text/plain": [
       "                    Actual True=1    Actual Fake=0\n",
       "Predicted True=1  4222 (True Pos)   16 (False Pos)\n",
       "Predicted Fake=0   14 (False Neg)  3564 (True Neg)"
      ]
     },
     "execution_count": 48,
     "metadata": {},
     "output_type": "execute_result"
    }
   ],
   "source": [
    "conf_mat = pd.DataFrame(columns=['Actual True=1', 'Actual Fake=0'], \n",
    "                         index=['Predicted True=1', 'Predicted Fake=0'],\n",
    "                         data=[[f'{tp} (True Pos)', f'{fp} (False Pos)'], [f'{fn} (False Neg)', f'{tn} (True Neg)']]\n",
    "                        )\n",
    "conf_mat"
   ]
  },
  {
   "cell_type": "code",
   "execution_count": 49,
   "metadata": {},
   "outputs": [
    {
     "name": "stdout",
     "output_type": "stream",
     "text": [
      "0.9966949952785646\n",
      "0.9955307262569832\n",
      "0.996224634261444\n"
     ]
    }
   ],
   "source": [
    "sensitivity = tp/(tp+fn)\n",
    "specificity = tn/(tn+fp)\n",
    "precision = tp/(tp+fp)\n",
    "print(sensitivity)\n",
    "print(specificity)\n",
    "print(precision)"
   ]
  },
  {
   "cell_type": "markdown",
   "metadata": {},
   "source": [
    "The **confusion matrix** gives a lot of information but it would be helpful to get a more concise metric. For instance, one could get the accuracy of the positive predictions. This could be calculated by the **precision**. This metric is usually used alongside **sensitivy/recall (true positive rate)**, which, in essence is the ration of positive instances that are correctly detected by the classifier. Finally it is also common practice to combine both **Precision** and **Recall** into a common metric called the **F1 Score**. It is a harmonic mean of precision and recall. As a result, the classifier will only get a high **F1 Score** if both precision and recall are high.\n",
    "\n",
    "**Precision**: True positives/(True posistives + False positives)\n",
    "\n",
    "**Recall/Sensitivity**: True positives/(True Positives + False Negatives)\n",
    "\n",
    "**F1 Score**: 2/((1/precision) + (1/recall))"
   ]
  },
  {
   "cell_type": "markdown",
   "metadata": {},
   "source": [
    "#### Sensitivity/Recall\n",
    "\n",
    "Ratio of positive instances that are correctly detected by the classifier."
   ]
  },
  {
   "cell_type": "markdown",
   "metadata": {},
   "source": [
    "#### Specificity\n",
    "\n",
    "Ratio of negative instances that are correctly detected by the classifier."
   ]
  },
  {
   "cell_type": "markdown",
   "metadata": {},
   "source": [
    "#### Precision\n",
    "\n",
    "Accuracy of the positive predictions. i.e Accuracy of Real News predictions."
   ]
  },
  {
   "cell_type": "code",
   "execution_count": null,
   "metadata": {},
   "outputs": [],
   "source": []
  },
  {
   "cell_type": "code",
   "execution_count": 18,
   "metadata": {},
   "outputs": [],
   "source": [
    "import pickle\n",
    "import os\n",
    "with open('model.pickle','wb') as handle:\n",
    "    pickle.dump(gs, handle, protocol=pickle.HIGHEST_PROTOCOL)"
   ]
  },
  {
   "cell_type": "code",
   "execution_count": 19,
   "metadata": {},
   "outputs": [],
   "source": [
    "with open('model.pickle','rb') as handle:\n",
    "    model = pickle.load(handle)"
   ]
  },
  {
   "cell_type": "code",
   "execution_count": 20,
   "metadata": {},
   "outputs": [
    {
     "data": {
      "text/plain": [
       "GridSearchCV(cv=10,\n",
       "             estimator=Pipeline(steps=[('vect', CountVectorizer()),\n",
       "                                       ('tfidf', TfidfTransformer()),\n",
       "                                       ('model',\n",
       "                                        DecisionTreeClassifier(criterion='entropy',\n",
       "                                                               max_depth=10,\n",
       "                                                               random_state=2020))]),\n",
       "             param_grid={'vect__min_df': [2, 5], 'vect__ngram_range': [(1, 3)],\n",
       "                         'vect__stop_words': [None, 'stop_words']})"
      ]
     },
     "execution_count": 20,
     "metadata": {},
     "output_type": "execute_result"
    }
   ],
   "source": [
    "model"
   ]
  },
  {
   "cell_type": "markdown",
   "metadata": {},
   "source": [
    "### `Title and Text`"
   ]
  },
  {
   "cell_type": "markdown",
   "metadata": {},
   "source": [
    "#### Train-Test-Split"
   ]
  },
  {
   "cell_type": "code",
   "execution_count": 50,
   "metadata": {},
   "outputs": [
    {
     "data": {
      "text/html": [
       "<div>\n",
       "<style scoped>\n",
       "    .dataframe tbody tr th:only-of-type {\n",
       "        vertical-align: middle;\n",
       "    }\n",
       "\n",
       "    .dataframe tbody tr th {\n",
       "        vertical-align: top;\n",
       "    }\n",
       "\n",
       "    .dataframe thead th {\n",
       "        text-align: right;\n",
       "    }\n",
       "</style>\n",
       "<table border=\"1\" class=\"dataframe\">\n",
       "  <thead>\n",
       "    <tr style=\"text-align: right;\">\n",
       "      <th></th>\n",
       "      <th>text</th>\n",
       "      <th>category</th>\n",
       "      <th>title_length</th>\n",
       "      <th>text_length</th>\n",
       "    </tr>\n",
       "  </thead>\n",
       "  <tbody>\n",
       "    <tr>\n",
       "      <th>0</th>\n",
       "      <td>as us budget fight looms republicans flip their fiscal script washington reuters  the head of a conservative republican faction in the us congress who voted this month for a huge expansion of the national debt to pay for tax cuts called himself a fiscal conservative on sunday and urged budget restraint in  in keeping with a sharp pivot under way among republicans us representative mark meadows speaking on cbs face the nation drew a hard line on federal spending which lawmakers are bracing to do battle over in january when they return from the holidays on wednesday lawmakers will begin trying to pass a federal budget in a fight likely to be linked to other issues such as immigration policy even as the november congressional election campaigns approach in which republicans will seek to keep control of congress president donald trump and his republicans want a big budget increase in military spending while democrats also want proportional increases for nondefense discretionary spending on programs that support education scientific research infrastructure public health and environmental protection the trump administration has already been willing to say were going to increase nondefense discretionary spending  by about  percent meadows chairman of the small but influential house freedom caucus said on the program now democrats are saying thats not enough we need to give the government a pay raise of  to  percent for a fiscal conservative i dont see where the rationale is  eventually you run out of other peoples money he said meadows was among republicans who voted in late december for their partys debtfinanced tax overhaul which is expected to balloon the federal budget deficit and add about  trillion over  years to the  trillion national debt its interesting to hear mark talk about fiscal responsibility democratic us representative joseph crowley said on cbs crowley said the republican tax bill would require the united states to borrow  trillion to be paid off by future generations to finance tax cuts for corporations and the rich this is one of the least  fiscally responsible bills weve ever seen passed in the history of the house of representatives i think were going to be paying for this for many many years to come crowley said republicans insist the tax package the biggest us tax overhaul in more than  years will boost the economy and job growth house speaker paul ryan who also supported the tax bill recently went further than meadows making clear in a radio interview that welfare or entitlement reform as the party often calls it would be a top republican priority in  in republican parlance entitlement programs mean food stamps housing assistance medicare and medicaid health insurance for the elderly poor and disabled as well as other programs created by washington to assist the needy democrats seized on ryans early december remarks saying they showed republicans would try to pay for their tax overhaul by seeking spending cuts for social programs but the goals of house republicans may have to take a back seat to the senate where the votes of some democrats will be needed to approve a budget and prevent a government shutdown democrats will use their leverage in the senate which republicans narrowly control to defend both discretionary nondefense programs and social spending while tackling the issue of the dreamers people brought illegally to the country as children trump in september put a march  expiration date on the deferred action for childhood arrivals or daca program which protects the young immigrants from deportation and provides them with work permits the president has said in recent twitter messages he wants funding for his proposed mexican border wall and other immigration law changes in exchange for agreeing to help the dreamers representative debbie dingell told cbs she did not favor linking that issue to other policy objectives such as wall funding we need to do daca clean she said on wednesday trump aides will meet with congressional leaders to discuss those issues that will be followed by a weekend of strategy sessions for trump and republican leaders on jan  and  the white house said trump was also scheduled to meet on sunday with florida republican governor rick scott who wants more emergency aid the house has passed an  billion aid package after hurricanes in florida texas and puerto rico and wildfires in california the package far exceeded the  billion requested by the trump administration the senate has not yet voted on the aid</td>\n",
       "      <td>1</td>\n",
       "      <td>10</td>\n",
       "      <td>730</td>\n",
       "    </tr>\n",
       "    <tr>\n",
       "      <th>1</th>\n",
       "      <td>us military to accept transgender recruits on monday pentagon washington reuters  transgender people will be allowed for the first time to enlist in the us military starting on monday as ordered by federal courts the pentagon said on friday after president donald trumps administration decided not to appeal rulings that blocked his transgender ban two federal appeals courts one in washington and one in virginia last week rejected the administrations request to put on hold orders by lower court judges requiring the military to begin accepting transgender recruits on jan  a justice department official said the administration will not challenge those rulings the department of defense has announced that it will be releasing an independent study of these issues in the coming weeks so rather than litigate this interim appeal before that occurs the administration has decided to wait for dods study and will continue to defend the presidents lawful authority in district court in the meantime the official said speaking on condition of anonymity in september the pentagon said it had created a panel of senior officials to study how to implement a directive by trump to prohibit transgender individuals from serving the defense department has until feb  to submit a plan to trump lawyers representing currentlyserving transgender service members and aspiring recruits said they had expected the administration to appeal the rulings to the conservativemajority supreme court but were hoping that would not happen pentagon spokeswoman heather babb said in a statement as mandated by court order the department of defense is prepared to begin accessing transgender applicants for military service jan  all applicants must meet all accession standards jennifer levi a lawyer with gay lesbian and transgender advocacy group glad called the decision not to appeal great news im hoping it means the government has come to see that there is no way to justify a ban and that its not good for the military or our country levi said both glad and the american civil liberties union represent plaintiffs in the lawsuits filed against the administration in a move that appealed to his hardline conservative supporters trump announced in july that he would prohibit transgender people from serving in the military reversing democratic president barack obamas policy of accepting them trump said on twitter at the time that the military cannot be burdened with the tremendous medical costs and disruption that transgender in the military would entail four federal judges  in baltimore washington dc seattle and riverside california  have issued rulings blocking trumps ban while legal challenges to the republican presidents policy proceed the judges said the ban would likely violate the right under the us constitution to equal protection under the law the pentagon on dec  issued guidelines to recruitment personnel in order to enlist transgender applicants by jan  the memo outlined medical requirements and specified how the applicants sex would be identified and even which undergarments they would wear the trump administration previously said in legal papers that the armed forces were not prepared to train thousands of personnel on the medical standards needed to process transgender applicants and might have to accept some individuals who are not medically fit for service the obama administration had set a deadline of july   to begin accepting transgender recruits but trumps defense secretary james mattis postponed that date to jan   which the presidents ban then put off indefinitely trump has taken other steps aimed at rolling back transgender rights in october his administration said a federal law banning genderbased workplace discrimination does not protect transgender employees reversing another obamaera position in february trump rescinded guidance issued by the obama administration saying that public schools should allow transgender students to use the restroom that corresponds to their gender identity</td>\n",
       "      <td>1</td>\n",
       "      <td>9</td>\n",
       "      <td>612</td>\n",
       "    </tr>\n",
       "    <tr>\n",
       "      <th>2</th>\n",
       "      <td>senior us republican senator let mr mueller do his job washington reuters  the special counsel investigation of links between russia and president trumps  election campaign should continue without interference in  despite calls from some trump administration allies and republican lawmakers to shut it down a prominent republican senator said on sunday lindsey graham who serves on the senate armed forces and judiciary committees said department of justice special counsel robert mueller needs to carry on with his russia investigation without political interference this investigation will go forward it will be an investigation conducted without political influence graham said on cbss face the nation news program and we all need to let mr mueller do his job i think hes the right guy at the right time the question of how russia may have interfered in the election and how trumps campaign may have had links with or coordinated any such effort has loomed over the white house since trump took office in january it shows no sign of receding as trump prepares for his second year in power despite intensified rhetoric from some trump allies in recent weeks accusing muellers team of bias against the republican president trump himself seemed to undercut his supporters in an interview last week with the new york times in which he said he expected mueller was going to be fair russias role in the election and the question of possible links to the trump campaign are the focus of multiple inquiries in washington three committees of the senate and the house of representatives are investigating as well as mueller whose team in may took over an earlier probe launched by the us federal bureau of investigation fbi several members of the trump campaign and administration have been convicted or indicted in the investigation trump and his allies deny any collusion with russia during the campaign and the kremlin has denied meddling in the election graham said he still wants an examination of the fbis use of a dossier on links between trump and russia that was compiled by a former british spy christopher steele which prompted trump allies and some republicans to question muellers inquiry on saturday the new york times reported that it was not that dossier that triggered an early fbi probe but a tip from former trump campaign foreign policy adviser george papadopoulos to an australian diplomat that russia had damaging information about former trump rival hillary clinton i want somebody to look at the way the department of justice used this dossier it bothers me greatly the way they used it and i want somebody to look at it graham said but he said the russia investigation must continue as a matter of fact it would hurt us if we ignored it he said</td>\n",
       "      <td>1</td>\n",
       "      <td>10</td>\n",
       "      <td>454</td>\n",
       "    </tr>\n",
       "    <tr>\n",
       "      <th>3</th>\n",
       "      <td>fbi russia probe helped by australian diplomat tipoff nyt washington reuters  trump campaign adviser george papadopoulos told an australian diplomat in may  that russia had political dirt on democratic presidential candidate hillary clinton the new york times reported on saturday the conversation between papadopoulos and the diplomat alexander downer in london was a driving factor behind the fbis decision to open a counterintelligence investigation of moscows contacts with the trump campaign the times reported two months after the meeting australian officials passed the information that came from papadopoulos to their american counterparts when leaked democratic emails began appearing online according to the newspaper which cited four current and former us and foreign officials besides the information from the australians the probe by the federal bureau of investigation was also propelled by intelligence from other friendly governments including the british and dutch the times said papadopoulos a chicagobased international energy lawyer pleaded guilty on oct  to lying to fbi agents about contacts with people who claimed to have ties to top russian officials it was the first criminal charge alleging links between the trump campaign and russia the white house has played down the former aides campaign role saying it was extremely limited and that any actions he took would have been on his own the new york times however reported that papadopoulos helped set up a meeting between thencandidate donald trump and egyptian president abdel fattah alsisi and edited the outline of trumps first major foreign policy speech in april  the federal investigation which is now being led by special counsel robert mueller has hung over trumps white house since he took office almost a year ago some trump allies have recently accused muellers team of being biased against the republican president lawyers for papadopoulos did not immediately respond to requests by reuters for comment muellers office declined to comment trumps white house attorney ty cobb declined to comment on the new york times report out of respect for the special counsel and his process we are not commenting on matters such as this he said in a statement mueller has charged four trump associates including papadopoulos in his investigation russia has denied interfering in the us election and trump has said there was no collusion between his campaign and moscow</td>\n",
       "      <td>1</td>\n",
       "      <td>9</td>\n",
       "      <td>372</td>\n",
       "    </tr>\n",
       "    <tr>\n",
       "      <th>4</th>\n",
       "      <td>trump wants postal service to charge much more for amazon shipments seattlewashington reuters  president donald trump called on the us postal service on friday to charge much more to ship packages for amazon amzno picking another fight with an online retail giant he has criticized in the past why is the united states post office which is losing many billions of dollars a year while charging amazon and others so little to deliver their packages making amazon richer and the post office dumber and poorer should be charging much more trump wrote on twitter the presidents tweet drew fresh attention to the fragile finances of the postal service at a time when tens of millions of parcels have just been shipped all over the country for the holiday season the us postal service which runs at a big loss is an independent agency within the federal government and does not receive tax dollars for operating expenses according to its website package delivery has become an increasingly important part of its business as the internet has led to a sharp decline in the amount of firstclass letters the president does not determine postal rates they are set by the postal regulatory commission an independent government agency with commissioners selected by the president from both political parties that panel raised prices on packages by almost  percent in november amazon was founded by jeff bezos who remains the chief executive officer of the retail company and is the richest person in the world according to bloomberg news bezos also owns the washington post a newspaper trump has repeatedly railed against in his criticisms of the news media in tweets over the past year trump has said the amazon washington post fabricated stories he has said amazon does not pay sales tax which is not true and so hurts other retailers part of a pattern by the former businessman and reality television host of periodically turning his ire on big american companies since he took office in january daniel ives a research analyst at gbh insights said trumps comment could be taken as a warning to the retail giant however he said he was not concerned for amazon we do not see any price hikes in the future however that is a risk that amazon is clearly aware of and it is building out its distribution system aggressively he said amazon has shown interest in the past in shifting into its own delivery service including testing drones for deliveries in  the company spent  billion on shipping  percent of its total operating expenses that year amazon shares were down  percent to  by early afternoon overall us stock prices were down slightly on friday satish jindel president of shipmatrix inc which analyzes shipping data disputed the idea that the postal service charges less than united parcel service inc upsn and fedex corp fdxn the other biggest players in the parcel delivery business in the united states many customers get lower rates from ups and fedex than they would get from the post office for comparable services he said the postal service delivers about  percent of amazon packages for about  to  million a day during the current peak yearend holiday shipping season jindel said the seattlebased company and the post office have an agreement in which mail carriers take amazon packages on the last leg of their journeys from post offices to customers doorsteps amazons no  carrier is ups at  percent and fedex is third with  percent or so according to jindel trumps comment tapped into a debate over whether postal service pricing has kept pace with the rise of ecommerce which has flooded the mail with small packagesprivate companies like ups have long claimed the current system unfairly undercuts their business steve gaut a spokesman for ups noted that the company values its productive relationship with the postal service but that it has filed with the postal regulatory commission its concerns about the postal services methods for covering costs representatives for amazon the white house the us postal service and fedex declined comment or were not immediately available for comment on trumps tweet according to its annual report the postal service lost  billion this year and its deficit has ballooned to  billion while the postal services revenue for first class mail marketing mail and periodicals is flat or declining revenue from package delivery is up  percent since  to  billion in the fiscal year ended sept   but it also lost about  billion in revenue when a temporary surcharge expired in april  according to a government accountability office report in february the service is facing growing personnel expenses particularly  billion in unfunded pension and benefits liabilities the postal service has not announced any plans to cut costs by law the postal service has to set prices for package delivery to cover the costs attributable to that service but the postal service allocates only  percent of its total costs to its business of shipping packages even though that line of business is  percent of its total revenue</td>\n",
       "      <td>1</td>\n",
       "      <td>11</td>\n",
       "      <td>827</td>\n",
       "    </tr>\n",
       "  </tbody>\n",
       "</table>\n",
       "</div>"
      ],
      "text/plain": [
       "                                                                                                                                                                                                                                                                                                                                                                                                                                                                                                                                                                                                                                                                                                                                                                                                                                                                                                                                                                                                                                                                                                                                                                                                                                                                                                                                                                                                                                                                                                                                                                                                                                                                                                                                                                                                                                                                                                                                                                                                                                                                                                                                                                                                                                                                                                                                                                                                                                                                                                                                                                                                                                                                                                                                                                                                                                                                                                                                                                                                                                                                                                                                                                                                                                                                                                                                                                                                                                                                                                                                                                                                                                                                                                                                                                                                                                                                                                                                                                                                                                                                                                                                                                                                                                                                                                                                                                                                                                                                                                                                                                                                                                                                                                                                                                                                                                                                                                                                                                                                                                                                                                                                                                                                                                                    text  \\\n",
       "0                                                                                                                                                                                                                                                                                                                                                                                                                                                                                                                                  as us budget fight looms republicans flip their fiscal script washington reuters  the head of a conservative republican faction in the us congress who voted this month for a huge expansion of the national debt to pay for tax cuts called himself a fiscal conservative on sunday and urged budget restraint in  in keeping with a sharp pivot under way among republicans us representative mark meadows speaking on cbs face the nation drew a hard line on federal spending which lawmakers are bracing to do battle over in january when they return from the holidays on wednesday lawmakers will begin trying to pass a federal budget in a fight likely to be linked to other issues such as immigration policy even as the november congressional election campaigns approach in which republicans will seek to keep control of congress president donald trump and his republicans want a big budget increase in military spending while democrats also want proportional increases for nondefense discretionary spending on programs that support education scientific research infrastructure public health and environmental protection the trump administration has already been willing to say were going to increase nondefense discretionary spending  by about  percent meadows chairman of the small but influential house freedom caucus said on the program now democrats are saying thats not enough we need to give the government a pay raise of  to  percent for a fiscal conservative i dont see where the rationale is  eventually you run out of other peoples money he said meadows was among republicans who voted in late december for their partys debtfinanced tax overhaul which is expected to balloon the federal budget deficit and add about  trillion over  years to the  trillion national debt its interesting to hear mark talk about fiscal responsibility democratic us representative joseph crowley said on cbs crowley said the republican tax bill would require the united states to borrow  trillion to be paid off by future generations to finance tax cuts for corporations and the rich this is one of the least  fiscally responsible bills weve ever seen passed in the history of the house of representatives i think were going to be paying for this for many many years to come crowley said republicans insist the tax package the biggest us tax overhaul in more than  years will boost the economy and job growth house speaker paul ryan who also supported the tax bill recently went further than meadows making clear in a radio interview that welfare or entitlement reform as the party often calls it would be a top republican priority in  in republican parlance entitlement programs mean food stamps housing assistance medicare and medicaid health insurance for the elderly poor and disabled as well as other programs created by washington to assist the needy democrats seized on ryans early december remarks saying they showed republicans would try to pay for their tax overhaul by seeking spending cuts for social programs but the goals of house republicans may have to take a back seat to the senate where the votes of some democrats will be needed to approve a budget and prevent a government shutdown democrats will use their leverage in the senate which republicans narrowly control to defend both discretionary nondefense programs and social spending while tackling the issue of the dreamers people brought illegally to the country as children trump in september put a march  expiration date on the deferred action for childhood arrivals or daca program which protects the young immigrants from deportation and provides them with work permits the president has said in recent twitter messages he wants funding for his proposed mexican border wall and other immigration law changes in exchange for agreeing to help the dreamers representative debbie dingell told cbs she did not favor linking that issue to other policy objectives such as wall funding we need to do daca clean she said on wednesday trump aides will meet with congressional leaders to discuss those issues that will be followed by a weekend of strategy sessions for trump and republican leaders on jan  and  the white house said trump was also scheduled to meet on sunday with florida republican governor rick scott who wants more emergency aid the house has passed an  billion aid package after hurricanes in florida texas and puerto rico and wildfires in california the package far exceeded the  billion requested by the trump administration the senate has not yet voted on the aid    \n",
       "1                                                                                                                                                                                                                                                                                                                                                                                                                                                                                                                                                                                                                                                                                                                                                                                                                                                                                                                                                                                                                                                                 us military to accept transgender recruits on monday pentagon washington reuters  transgender people will be allowed for the first time to enlist in the us military starting on monday as ordered by federal courts the pentagon said on friday after president donald trumps administration decided not to appeal rulings that blocked his transgender ban two federal appeals courts one in washington and one in virginia last week rejected the administrations request to put on hold orders by lower court judges requiring the military to begin accepting transgender recruits on jan  a justice department official said the administration will not challenge those rulings the department of defense has announced that it will be releasing an independent study of these issues in the coming weeks so rather than litigate this interim appeal before that occurs the administration has decided to wait for dods study and will continue to defend the presidents lawful authority in district court in the meantime the official said speaking on condition of anonymity in september the pentagon said it had created a panel of senior officials to study how to implement a directive by trump to prohibit transgender individuals from serving the defense department has until feb  to submit a plan to trump lawyers representing currentlyserving transgender service members and aspiring recruits said they had expected the administration to appeal the rulings to the conservativemajority supreme court but were hoping that would not happen pentagon spokeswoman heather babb said in a statement as mandated by court order the department of defense is prepared to begin accessing transgender applicants for military service jan  all applicants must meet all accession standards jennifer levi a lawyer with gay lesbian and transgender advocacy group glad called the decision not to appeal great news im hoping it means the government has come to see that there is no way to justify a ban and that its not good for the military or our country levi said both glad and the american civil liberties union represent plaintiffs in the lawsuits filed against the administration in a move that appealed to his hardline conservative supporters trump announced in july that he would prohibit transgender people from serving in the military reversing democratic president barack obamas policy of accepting them trump said on twitter at the time that the military cannot be burdened with the tremendous medical costs and disruption that transgender in the military would entail four federal judges  in baltimore washington dc seattle and riverside california  have issued rulings blocking trumps ban while legal challenges to the republican presidents policy proceed the judges said the ban would likely violate the right under the us constitution to equal protection under the law the pentagon on dec  issued guidelines to recruitment personnel in order to enlist transgender applicants by jan  the memo outlined medical requirements and specified how the applicants sex would be identified and even which undergarments they would wear the trump administration previously said in legal papers that the armed forces were not prepared to train thousands of personnel on the medical standards needed to process transgender applicants and might have to accept some individuals who are not medically fit for service the obama administration had set a deadline of july   to begin accepting transgender recruits but trumps defense secretary james mattis postponed that date to jan   which the presidents ban then put off indefinitely trump has taken other steps aimed at rolling back transgender rights in october his administration said a federal law banning genderbased workplace discrimination does not protect transgender employees reversing another obamaera position in february trump rescinded guidance issued by the obama administration saying that public schools should allow transgender students to use the restroom that corresponds to their gender identity    \n",
       "2                                                                                                                                                                                                                                                                                                                                                                                                                                                                                                                                                                                                                                                                                                                                                                                                                                                                                                                                                                                                                                                                                                                                                                                                                                                                                                                                                                                                                                                                                                                                                                                                                                                                                                                                                                                                                                                                                                                                                                                                                                                                                                                                                                                                                                                                                                                                                                            senior us republican senator let mr mueller do his job washington reuters  the special counsel investigation of links between russia and president trumps  election campaign should continue without interference in  despite calls from some trump administration allies and republican lawmakers to shut it down a prominent republican senator said on sunday lindsey graham who serves on the senate armed forces and judiciary committees said department of justice special counsel robert mueller needs to carry on with his russia investigation without political interference this investigation will go forward it will be an investigation conducted without political influence graham said on cbss face the nation news program and we all need to let mr mueller do his job i think hes the right guy at the right time the question of how russia may have interfered in the election and how trumps campaign may have had links with or coordinated any such effort has loomed over the white house since trump took office in january it shows no sign of receding as trump prepares for his second year in power despite intensified rhetoric from some trump allies in recent weeks accusing muellers team of bias against the republican president trump himself seemed to undercut his supporters in an interview last week with the new york times in which he said he expected mueller was going to be fair russias role in the election and the question of possible links to the trump campaign are the focus of multiple inquiries in washington three committees of the senate and the house of representatives are investigating as well as mueller whose team in may took over an earlier probe launched by the us federal bureau of investigation fbi several members of the trump campaign and administration have been convicted or indicted in the investigation trump and his allies deny any collusion with russia during the campaign and the kremlin has denied meddling in the election graham said he still wants an examination of the fbis use of a dossier on links between trump and russia that was compiled by a former british spy christopher steele which prompted trump allies and some republicans to question muellers inquiry on saturday the new york times reported that it was not that dossier that triggered an early fbi probe but a tip from former trump campaign foreign policy adviser george papadopoulos to an australian diplomat that russia had damaging information about former trump rival hillary clinton i want somebody to look at the way the department of justice used this dossier it bothers me greatly the way they used it and i want somebody to look at it graham said but he said the russia investigation must continue as a matter of fact it would hurt us if we ignored it he said    \n",
       "3                                                                                                                                                                                                                                                                                                                                                                                                                                                                                                                                                                                                                                                                                                                                                                                                                                                                                                                                                                                                                                                                                                                                                                                                                                                                                                                                                                                                                                                                                                                                                                                                                                                                                                                                                                                                                                                                                                                                                                                                                                                                                                                                                                                                                                                                                                                                                                                                                                                                                                                                                                                                                                                                                                         fbi russia probe helped by australian diplomat tipoff nyt washington reuters  trump campaign adviser george papadopoulos told an australian diplomat in may  that russia had political dirt on democratic presidential candidate hillary clinton the new york times reported on saturday the conversation between papadopoulos and the diplomat alexander downer in london was a driving factor behind the fbis decision to open a counterintelligence investigation of moscows contacts with the trump campaign the times reported two months after the meeting australian officials passed the information that came from papadopoulos to their american counterparts when leaked democratic emails began appearing online according to the newspaper which cited four current and former us and foreign officials besides the information from the australians the probe by the federal bureau of investigation was also propelled by intelligence from other friendly governments including the british and dutch the times said papadopoulos a chicagobased international energy lawyer pleaded guilty on oct  to lying to fbi agents about contacts with people who claimed to have ties to top russian officials it was the first criminal charge alleging links between the trump campaign and russia the white house has played down the former aides campaign role saying it was extremely limited and that any actions he took would have been on his own the new york times however reported that papadopoulos helped set up a meeting between thencandidate donald trump and egyptian president abdel fattah alsisi and edited the outline of trumps first major foreign policy speech in april  the federal investigation which is now being led by special counsel robert mueller has hung over trumps white house since he took office almost a year ago some trump allies have recently accused muellers team of being biased against the republican president lawyers for papadopoulos did not immediately respond to requests by reuters for comment muellers office declined to comment trumps white house attorney ty cobb declined to comment on the new york times report out of respect for the special counsel and his process we are not commenting on matters such as this he said in a statement mueller has charged four trump associates including papadopoulos in his investigation russia has denied interfering in the us election and trump has said there was no collusion between his campaign and moscow    \n",
       "4  trump wants postal service to charge much more for amazon shipments seattlewashington reuters  president donald trump called on the us postal service on friday to charge much more to ship packages for amazon amzno picking another fight with an online retail giant he has criticized in the past why is the united states post office which is losing many billions of dollars a year while charging amazon and others so little to deliver their packages making amazon richer and the post office dumber and poorer should be charging much more trump wrote on twitter the presidents tweet drew fresh attention to the fragile finances of the postal service at a time when tens of millions of parcels have just been shipped all over the country for the holiday season the us postal service which runs at a big loss is an independent agency within the federal government and does not receive tax dollars for operating expenses according to its website package delivery has become an increasingly important part of its business as the internet has led to a sharp decline in the amount of firstclass letters the president does not determine postal rates they are set by the postal regulatory commission an independent government agency with commissioners selected by the president from both political parties that panel raised prices on packages by almost  percent in november amazon was founded by jeff bezos who remains the chief executive officer of the retail company and is the richest person in the world according to bloomberg news bezos also owns the washington post a newspaper trump has repeatedly railed against in his criticisms of the news media in tweets over the past year trump has said the amazon washington post fabricated stories he has said amazon does not pay sales tax which is not true and so hurts other retailers part of a pattern by the former businessman and reality television host of periodically turning his ire on big american companies since he took office in january daniel ives a research analyst at gbh insights said trumps comment could be taken as a warning to the retail giant however he said he was not concerned for amazon we do not see any price hikes in the future however that is a risk that amazon is clearly aware of and it is building out its distribution system aggressively he said amazon has shown interest in the past in shifting into its own delivery service including testing drones for deliveries in  the company spent  billion on shipping  percent of its total operating expenses that year amazon shares were down  percent to  by early afternoon overall us stock prices were down slightly on friday satish jindel president of shipmatrix inc which analyzes shipping data disputed the idea that the postal service charges less than united parcel service inc upsn and fedex corp fdxn the other biggest players in the parcel delivery business in the united states many customers get lower rates from ups and fedex than they would get from the post office for comparable services he said the postal service delivers about  percent of amazon packages for about  to  million a day during the current peak yearend holiday shipping season jindel said the seattlebased company and the post office have an agreement in which mail carriers take amazon packages on the last leg of their journeys from post offices to customers doorsteps amazons no  carrier is ups at  percent and fedex is third with  percent or so according to jindel trumps comment tapped into a debate over whether postal service pricing has kept pace with the rise of ecommerce which has flooded the mail with small packagesprivate companies like ups have long claimed the current system unfairly undercuts their business steve gaut a spokesman for ups noted that the company values its productive relationship with the postal service but that it has filed with the postal regulatory commission its concerns about the postal services methods for covering costs representatives for amazon the white house the us postal service and fedex declined comment or were not immediately available for comment on trumps tweet according to its annual report the postal service lost  billion this year and its deficit has ballooned to  billion while the postal services revenue for first class mail marketing mail and periodicals is flat or declining revenue from package delivery is up  percent since  to  billion in the fiscal year ended sept   but it also lost about  billion in revenue when a temporary surcharge expired in april  according to a government accountability office report in february the service is facing growing personnel expenses particularly  billion in unfunded pension and benefits liabilities the postal service has not announced any plans to cut costs by law the postal service has to set prices for package delivery to cover the costs attributable to that service but the postal service allocates only  percent of its total costs to its business of shipping packages even though that line of business is  percent of its total revenue    \n",
       "\n",
       "   category  title_length  text_length  \n",
       "0         1            10          730  \n",
       "1         1             9          612  \n",
       "2         1            10          454  \n",
       "3         1             9          372  \n",
       "4         1            11          827  "
      ]
     },
     "execution_count": 50,
     "metadata": {},
     "output_type": "execute_result"
    }
   ],
   "source": [
    "df['text'] = df['title'] + \" \" + df['text']\n",
    "del df['title']\n",
    "df.head()"
   ]
  },
  {
   "cell_type": "code",
   "execution_count": 51,
   "metadata": {},
   "outputs": [],
   "source": [
    "X = df['text']\n",
    "y = df[['category']]"
   ]
  },
  {
   "cell_type": "code",
   "execution_count": 52,
   "metadata": {},
   "outputs": [
    {
     "name": "stdout",
     "output_type": "stream",
     "text": [
      "(31264,)\n",
      "(31264, 1)\n",
      "(7816,)\n",
      "(7816, 1)\n"
     ]
    }
   ],
   "source": [
    "X_train, X_val, y_train, y_val = train_test_split(X, y, test_size=0.2, stratify=y)\n",
    "\n",
    "print(X_train.shape)\n",
    "print(y_train.shape)\n",
    "print(X_val.shape)\n",
    "print(y_val.shape)"
   ]
  },
  {
   "cell_type": "markdown",
   "metadata": {},
   "source": [
    "### Decision Trees"
   ]
  },
  {
   "cell_type": "code",
   "execution_count": 53,
   "metadata": {},
   "outputs": [
    {
     "name": "stdout",
     "output_type": "stream",
     "text": [
      "Train accuracy: 0.9992003582395087\n",
      "Validation accuracy: 0.9962896622313203\n",
      "{'vect__min_df': 2, 'vect__ngram_range': (1, 3), 'vect__stop_words': None}\n"
     ]
    }
   ],
   "source": [
    "#Creates pipeline to handle vectorization and logistic regression steps\n",
    "pipe = Pipeline([\n",
    "    ('vect', CountVectorizer()),\n",
    "    ('tfidf', TfidfTransformer()),\n",
    "    ('model', DecisionTreeClassifier(criterion= 'entropy',\n",
    "                                     max_depth = 10, \n",
    "                                     splitter='best', \n",
    "                                     random_state=2020))])\n",
    "\n",
    "#Specifies different hyperparameter values that we want to test across\n",
    "params = {\n",
    "    'vect__ngram_range':[(1,3)],\n",
    "    'vect__min_df':[2,5],\n",
    "    'vect__stop_words':[None,'stop_words'],\n",
    "}\n",
    "\n",
    "#Executes GridSearch\n",
    "gs = GridSearchCV(pipe, params, cv=10)\n",
    "gs.fit(X_train, y_train)\n",
    "\n",
    "\n",
    "print('Train accuracy:', gs.score(X_train, y_train))\n",
    "print('Validation accuracy:', gs.score(X_val, y_val))\n",
    "print(gs.best_params_)"
   ]
  },
  {
   "cell_type": "code",
   "execution_count": 54,
   "metadata": {},
   "outputs": [
    {
     "name": "stdout",
     "output_type": "stream",
     "text": [
      "[[3560   20]\n",
      " [   9 4227]]\n",
      "              precision    recall  f1-score   support\n",
      "\n",
      "           0       1.00      0.99      1.00      3580\n",
      "           1       1.00      1.00      1.00      4236\n",
      "\n",
      "    accuracy                           1.00      7816\n",
      "   macro avg       1.00      1.00      1.00      7816\n",
      "weighted avg       1.00      1.00      1.00      7816\n",
      "\n"
     ]
    }
   ],
   "source": [
    "prediction = gs.predict(X_val)\n",
    "print(confusion_matrix(y_val, prediction))\n",
    "print(classification_report(y_val, prediction))"
   ]
  },
  {
   "cell_type": "code",
   "execution_count": 55,
   "metadata": {},
   "outputs": [],
   "source": [
    "# Generating a confusion matrix.\n",
    "\n",
    "tn, fp, fn, tp = confusion_matrix(y_val, prediction).ravel()"
   ]
  },
  {
   "cell_type": "code",
   "execution_count": 56,
   "metadata": {},
   "outputs": [
    {
     "data": {
      "text/html": [
       "<div>\n",
       "<style scoped>\n",
       "    .dataframe tbody tr th:only-of-type {\n",
       "        vertical-align: middle;\n",
       "    }\n",
       "\n",
       "    .dataframe tbody tr th {\n",
       "        vertical-align: top;\n",
       "    }\n",
       "\n",
       "    .dataframe thead th {\n",
       "        text-align: right;\n",
       "    }\n",
       "</style>\n",
       "<table border=\"1\" class=\"dataframe\">\n",
       "  <thead>\n",
       "    <tr style=\"text-align: right;\">\n",
       "      <th></th>\n",
       "      <th>Actual True=1</th>\n",
       "      <th>Actual Fake=0</th>\n",
       "    </tr>\n",
       "  </thead>\n",
       "  <tbody>\n",
       "    <tr>\n",
       "      <th>Predicted True=1</th>\n",
       "      <td>4227 (True Pos)</td>\n",
       "      <td>20 (False Pos)</td>\n",
       "    </tr>\n",
       "    <tr>\n",
       "      <th>Predicted Fake=0</th>\n",
       "      <td>9 (False Neg)</td>\n",
       "      <td>3560 (True Neg)</td>\n",
       "    </tr>\n",
       "  </tbody>\n",
       "</table>\n",
       "</div>"
      ],
      "text/plain": [
       "                    Actual True=1    Actual Fake=0\n",
       "Predicted True=1  4227 (True Pos)   20 (False Pos)\n",
       "Predicted Fake=0    9 (False Neg)  3560 (True Neg)"
      ]
     },
     "execution_count": 56,
     "metadata": {},
     "output_type": "execute_result"
    }
   ],
   "source": [
    "conf_mat = pd.DataFrame(columns=['Actual True=1', 'Actual Fake=0'], \n",
    "                         index=['Predicted True=1', 'Predicted Fake=0'],\n",
    "                         data=[[f'{tp} (True Pos)', f'{fp} (False Pos)'], [f'{fn} (False Neg)', f'{tn} (True Neg)']]\n",
    "                        )\n",
    "conf_mat"
   ]
  },
  {
   "cell_type": "code",
   "execution_count": 57,
   "metadata": {},
   "outputs": [
    {
     "name": "stdout",
     "output_type": "stream",
     "text": [
      "0.9978753541076487\n",
      "0.994413407821229\n",
      "0.995290793501295\n"
     ]
    }
   ],
   "source": [
    "sensitivity = tp/(tp+fn)\n",
    "specificity = tn/(tn+fp)\n",
    "precision = tp/(tp+fp)\n",
    "print(sensitivity)\n",
    "print(specificity)\n",
    "print(precision)"
   ]
  },
  {
   "cell_type": "markdown",
   "metadata": {},
   "source": [
    "## Conclusion and Recommendation"
   ]
  },
  {
   "cell_type": "markdown",
   "metadata": {},
   "source": [
    "Decision Tree model performed the best out of all the models attaining an accuracy of **99.5%**. As baseline model was around **50%** for both classes, this represents a significant improvement. However, having said that, the model is still slightly overfitted. The model that produced the best result is **CountVectorizer and Decision Trees** with **Text** of the news as the explanatory variable. In addition, the confusion matrix indicates that only 19 documents were classified as false positives (wrongly predicting news is true when it is fake) and  17 documents were classified as false negatives (wrongly predicting news is false when it is true). Overall, this model will enable people to better distinguish between the real and fake news. "
   ]
  },
  {
   "cell_type": "code",
   "execution_count": 59,
   "metadata": {},
   "outputs": [
    {
     "data": {
      "image/png": "[encoded data removed]",
      "text/plain": [
       "<Figure size 720x504 with 2 Axes>"
      ]
     },
     "metadata": {
      "needs_background": "light"
     },
     "output_type": "display_data"
    }
   ],
   "source": [
    "# put accuracy scores of different models into dataframe\n",
    "model_results = pd.DataFrame([[0.507,0.964,0.965,0.993,0.958, 0.999,0.999],\n",
    "                              [0.507,0.941,0.941,0.987,0.952, 0.996,0.996]],\n",
    "                            index = ['train_accuracy','val_accuracy'],\n",
    "                            columns = ['baseline',\n",
    "                                       'title [Logistic Regression]',\n",
    "                                       'title (>=5 words)[Logistic Regression]',\n",
    "                                       'text [Logistic Regression]',\n",
    "                                       'text [Multinomial Naive Bayes]',\n",
    "                                       'text [Decision Trees]',\n",
    "                                       'title + text [Decision Trees]']).T\n",
    "\n",
    "# plot results\n",
    "fig, ax = plt.subplots(nrows = 2, figsize=(10,7), sharex = True, gridspec_kw={'height_ratios': [6, 1]})\n",
    "\n",
    "sns.barplot(y = model_results.index, x = model_results.val_accuracy, color='skyblue',orient='h', ax = ax[0])\n",
    "ax[0].tick_params(axis='x', labelsize=12)\n",
    "ax[0].tick_params(axis='y', labelsize=14)\n",
    "ax[0].set_xlim(0,1)\n",
    "ax[0].set_title('Validation set accuracies of models', fontsize = 15)\n",
    "# label with accuracy values\n",
    "for index, val in enumerate([0.507,0.941,0.941,0.987,0.952, 0.996,0.996]):\n",
    "    ax[0].text(val+0.01, index, str(val), fontweight='bold', fontsize=13)\n",
    "ax[0].axvline(x=0.507,linestyle='dotted',color='red',label='baseline accuracy')\n",
    "ax[0].legend(loc='upper right',facecolor='white',fontsize=11)\n",
    "ax[0].set_xlabel('')\n",
    "\n",
    "sns.barplot(x = 0.996, y = ['text [Decision Trees]'], color='orange',orient='h',ax=ax[1])\n",
    "ax[1].set_title('Validation accuracy of best model', fontsize=14)\n",
    "ax[1].tick_params(axis='y', labelsize=14)\n",
    "# label with accuracy value\n",
    "ax[1].text(0.996+0.01, 0, str(0.996), fontweight='bold', fontsize=13)\n",
    "ax[1].axvline(x=0.507,linestyle='dotted',color='red',label='baseline accuracy')\n",
    "ax[1].set_xlabel('accuracy', fontsize = 14)\n",
    "\n",
    "plt.tight_layout()"
   ]
  },
  {
   "cell_type": "markdown",
   "metadata": {},
   "source": [
    "The model was then deployed on unseen data but did not perform as well as it did on the validation set. The data set leaned very heavily towards US news and they were from a small sample of news sources such as CNN. Therefore, it makes sense that the model didn't perform well when the BBC or Al Jazeera was used as unseen data. Another factor to consider is that the time period was very short (2015-2018) and typically, news content is dynamic in nature. Suppose if an article covers covid-19 related article today, it is very likely that the model would predict it as fake news. Therefore, one has to be aware of its limitations. However, that being said, this approach could prove to be useful if a much larger corpus of various news outlets and an extended time frame is factored into the equation. \n",
    "\n",
    "For future research, one could also explore deep learning techniques such as word2vec which could provide better results. "
   ]
  },
  {
   "cell_type": "code",
   "execution_count": null,
   "metadata": {},
   "outputs": [],
   "source": []
  }
 ],
 "metadata": {
  "kernelspec": {
   "display_name": "Python 3",
   "language": "python",
   "name": "python3"
  },
  "language_info": {
   "codemirror_mode": {
    "name": "ipython",
    "version": 3
   },
   "file_extension": ".py",
   "mimetype": "text/x-python",
   "name": "python",
   "nbconvert_exporter": "python",
   "pygments_lexer": "ipython3",
   "version": "3.7.6"
  }
 },
 "nbformat": 4,
 "nbformat_minor": 4
}
