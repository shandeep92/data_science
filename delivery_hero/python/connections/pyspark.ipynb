{
 "cells": [
  {
   "cell_type": "markdown",
   "id": "aa177b1c",
   "metadata": {},
   "source": [
    "## Check System Version & Import Libraries"
   ]
  },
  {
   "cell_type": "code",
   "execution_count": 1,
   "id": "eab7d4ae",
   "metadata": {},
   "outputs": [
    {
     "name": "stdout",
     "output_type": "stream",
     "text": [
      "/usr/local/opt/python@3.9/bin/python3.9\n"
     ]
    }
   ],
   "source": [
    "import sys\n",
    "import os\n",
    "os.environ['PYSPARK_PYTHON'] = sys.executable\n",
    "os.environ['PYSPARK_DRIVER_PYTHON'] = sys.executable\n",
    "print(sys.executable)"
   ]
  },
  {
   "cell_type": "code",
   "execution_count": 2,
   "id": "206a24a6",
   "metadata": {},
   "outputs": [
    {
     "name": "stdout",
     "output_type": "stream",
     "text": [
      "My python version is: 3.9.7\n"
     ]
    }
   ],
   "source": [
    "# Jupyer Notebook Theme: jt -t monokai -f fira -fs 10 -nf ptsans -nfs 11 -N -kl -cursw 2 -cursc r -cellw 95% -T\n",
    "# Check python version\n",
    "cdPyVer = 0x600\n",
    "cdSysVer = sys.version[:5]\n",
    "print(\"%s%s\" %(\"My python version is: \", cdSysVer)) # strangely it works only on 3.7.4 and not 3.7.6\n",
    "from tqdm.auto import tqdm\n",
    "\n",
    "# Import libraries\n",
    "import pandas as pd\n",
    "import numpy as np\n",
    "import warnings\n",
    "\n",
    "import matplotlib.pyplot as plt\n",
    "from matplotlib import style\n",
    "plt.style.use('seaborn-dark') # use this theme as you are using dark theme in the notebook\n",
    "import seaborn as sns\n",
    "\n",
    "pd.set_option('display.max_columns', None)\n",
    "pd.set_option('display.max_rows', None)\n",
    "warnings.filterwarnings('ignore')"
   ]
  },
  {
   "cell_type": "markdown",
   "id": "8c758e34",
   "metadata": {},
   "source": [
    "## Acquire Data"
   ]
  },
  {
   "cell_type": "markdown",
   "id": "f8dcbc09",
   "metadata": {},
   "source": [
    "#### Ingest data from Bigquery using Pandas"
   ]
  },
  {
   "cell_type": "code",
   "execution_count": 3,
   "id": "73bb1820",
   "metadata": {},
   "outputs": [
    {
     "name": "stdout",
     "output_type": "stream",
     "text": [
      "connected to BigQuery, project: dh-darkstores-live on version 1.24.0\n"
     ]
    }
   ],
   "source": [
    "# Filters in Query\n",
    "sys.path.append('/Users/Shandeep/qc_data_insights/utils/') # git clone this repository qc_data_insights\n",
    "import utils as u \n",
    "import os\n",
    "from google.oauth2 import service_account\n",
    "# pip install google-cloud-bigquery==1.24.0 # requires this version.. current version is bugged with pandas\n",
    "from google.cloud import bigquery\n",
    "\n",
    "google_credentials_path = os.path.expanduser('~')+'/Documents/google_cloud_data-insights-team.json' # make sure add json file credentials in documents folder\n",
    "credentials = service_account.Credentials.from_service_account_file(google_credentials_path)\n",
    "bqclient = bigquery.Client(credentials=credentials, project=credentials.project_id)\n",
    "print(f'connected to BigQuery, project: {bqclient.project} on version {bigquery.__version__}')"
   ]
  },
  {
   "cell_type": "code",
   "execution_count": 29,
   "id": "74af69be",
   "metadata": {},
   "outputs": [
    {
     "name": "stdout",
     "output_type": "stream",
     "text": [
      "Which global_entity_id do you want to filter for?\n",
      "running query... job done, downloading... "
     ]
    },
    {
     "data": {
      "application/vnd.jupyter.widget-view+json": {
       "model_id": "c9c30528ae4d4d558705f97d04c30037",
       "version_major": 2,
       "version_minor": 0
      },
      "text/plain": [
       "Downloading:   0%|          | 0/1202034 [00:00<?, ?rows/s]"
      ]
     },
     "metadata": {},
     "output_type": "display_data"
    },
    {
     "name": "stdout",
     "output_type": "stream",
     "text": [
      "done with shape (1202034, 8)\n"
     ]
    },
    {
     "data": {
      "text/html": [
       "<div>\n",
       "<style scoped>\n",
       "    .dataframe tbody tr th:only-of-type {\n",
       "        vertical-align: middle;\n",
       "    }\n",
       "\n",
       "    .dataframe tbody tr th {\n",
       "        vertical-align: top;\n",
       "    }\n",
       "\n",
       "    .dataframe thead th {\n",
       "        text-align: right;\n",
       "    }\n",
       "</style>\n",
       "<table border=\"1\" class=\"dataframe\">\n",
       "  <thead>\n",
       "    <tr style=\"text-align: right;\">\n",
       "      <th></th>\n",
       "      <th>global_entity_id</th>\n",
       "      <th>order_date</th>\n",
       "      <th>order_id</th>\n",
       "      <th>customer_id</th>\n",
       "      <th>sku</th>\n",
       "      <th>product</th>\n",
       "      <th>qty_sold</th>\n",
       "      <th>unit_price</th>\n",
       "    </tr>\n",
       "  </thead>\n",
       "  <tbody>\n",
       "    <tr>\n",
       "      <th>0</th>\n",
       "      <td>FP_SG</td>\n",
       "      <td>2021-10-13</td>\n",
       "      <td>n7no-etyp</td>\n",
       "      <td>dpiF5eG6VfqQtWyFx5XjDg</td>\n",
       "      <td>5654Q1</td>\n",
       "      <td>Suntory Strong Zero 9% Alcohol (Peach) | 350 ml</td>\n",
       "      <td>6.000000000</td>\n",
       "      <td>3.834804</td>\n",
       "    </tr>\n",
       "    <tr>\n",
       "      <th>1</th>\n",
       "      <td>FP_SG</td>\n",
       "      <td>2021-10-13</td>\n",
       "      <td>n7no-x9ce</td>\n",
       "      <td>8lV2KegXXrKqNDY7OST32A</td>\n",
       "      <td>CM0WJ7</td>\n",
       "      <td>Anchor Strong 490ml</td>\n",
       "      <td>6.000000000</td>\n",
       "      <td>2.556536</td>\n",
       "    </tr>\n",
       "    <tr>\n",
       "      <th>2</th>\n",
       "      <td>FP_SG</td>\n",
       "      <td>2021-10-13</td>\n",
       "      <td>n7no-vd9i</td>\n",
       "      <td>aoGa6NVvVqC4XqDcMtGcjQ</td>\n",
       "      <td>L4MGB1</td>\n",
       "      <td>Kingfisher Premium Extra Strong Lager Beer Can...</td>\n",
       "      <td>5.000000000</td>\n",
       "      <td>2.556536</td>\n",
       "    </tr>\n",
       "    <tr>\n",
       "      <th>3</th>\n",
       "      <td>FP_SG</td>\n",
       "      <td>2021-10-13</td>\n",
       "      <td>n7no-p9bj</td>\n",
       "      <td>znWNHJ85X-ud7g8B0oS2WQ</td>\n",
       "      <td>L4MGB1</td>\n",
       "      <td>Kingfisher Premium Extra Strong Lager Beer Can...</td>\n",
       "      <td>5.000000000</td>\n",
       "      <td>2.556536</td>\n",
       "    </tr>\n",
       "    <tr>\n",
       "      <th>4</th>\n",
       "      <td>FP_SG</td>\n",
       "      <td>2021-10-13</td>\n",
       "      <td>n7no-erqs</td>\n",
       "      <td>KRk2eqMAUMya62_W04kleA</td>\n",
       "      <td>P6P5B6</td>\n",
       "      <td>Dasani 1.5L</td>\n",
       "      <td>12.000000000</td>\n",
       "      <td>0.575221</td>\n",
       "    </tr>\n",
       "  </tbody>\n",
       "</table>\n",
       "</div>"
      ],
      "text/plain": [
       "  global_entity_id  order_date   order_id             customer_id     sku  \\\n",
       "0            FP_SG  2021-10-13  n7no-etyp  dpiF5eG6VfqQtWyFx5XjDg  5654Q1   \n",
       "1            FP_SG  2021-10-13  n7no-x9ce  8lV2KegXXrKqNDY7OST32A  CM0WJ7   \n",
       "2            FP_SG  2021-10-13  n7no-vd9i  aoGa6NVvVqC4XqDcMtGcjQ  L4MGB1   \n",
       "3            FP_SG  2021-10-13  n7no-p9bj  znWNHJ85X-ud7g8B0oS2WQ  L4MGB1   \n",
       "4            FP_SG  2021-10-13  n7no-erqs  KRk2eqMAUMya62_W04kleA  P6P5B6   \n",
       "\n",
       "                                             product      qty_sold  unit_price  \n",
       "0    Suntory Strong Zero 9% Alcohol (Peach) | 350 ml   6.000000000    3.834804  \n",
       "1                                Anchor Strong 490ml   6.000000000    2.556536  \n",
       "2  Kingfisher Premium Extra Strong Lager Beer Can...   5.000000000    2.556536  \n",
       "3  Kingfisher Premium Extra Strong Lager Beer Can...   5.000000000    2.556536  \n",
       "4                                        Dasani 1.5L  12.000000000    0.575221  "
      ]
     },
     "execution_count": 29,
     "metadata": {},
     "output_type": "execute_result"
    }
   ],
   "source": [
    "print(\"Which global_entity_id do you want to filter for?\")\n",
    "global_entity_id = 'FP_SG' # press 'shift' and 'enter' on cell to re-enter global_entity_id\n",
    "\n",
    "\n",
    "# Write query \n",
    "query =f\"\"\"\n",
    "SELECT global_entity_id\n",
    ",   DATE(order_placed_localtime_at) AS order_date\n",
    ",   order_id\n",
    ",   analytical_customer_id AS customer_id\n",
    ",   items.sku\n",
    ",   items.product.product_name AS product\n",
    ",   items.qty_sold\n",
    ",   items.value_euro.unit_price_paid_eur AS unit_price\n",
    "FROM `fulfillment-dwh-production.cl_dmart.customer_orders`, UNNEST(items) AS items\n",
    "WHERE DATE(order_placed_localtime_at) < CURRENT_DATE()\n",
    "AND global_entity_id = '{global_entity_id}'\n",
    "AND is_dmart \n",
    "AND is_failed = FALSE \n",
    "AND is_cancelled = FALSE\n",
    "AND analytical_customer_id IS NOT NULL \n",
    "AND order_id IS NOT NULL\n",
    "AND DATE_TRUNC(order_placed_localtime_at, MONTH) > DATE_SUB(CURRENT_DATE(), INTERVAL 1 MONTH)\n",
    "AND DATE_TRUNC(order_placed_localtime_at, MONTH) <= CURRENT_DATE()\n",
    "\"\"\"\n",
    "\n",
    "# Read query and display in the form of a pandas dataframe\n",
    "df = u.read_bigquery(query, bqclient, parse_dates=[], verbose=True)\n",
    "df.head()"
   ]
  },
  {
   "cell_type": "markdown",
   "id": "f60a8d2b",
   "metadata": {},
   "source": [
    "#### Pandas dataframe to Spark dataframe"
   ]
  },
  {
   "cell_type": "markdown",
   "id": "f973b408",
   "metadata": {},
   "source": [
    "### Using Spark in Python\n",
    "---\n",
    "The first step in using Spark is connecting to a cluster.\n",
    "\n",
    "In practice, the cluster will be hosted on a remote machine that's connected to all other nodes. There will be one computer, called the master that manages splitting up the data and the computations. The master is connected to the rest of the computers in the cluster, which are called worker. The master sends the workers data and calculations to run, and they send their results back to the master.\n",
    "\n",
    "\n",
    "Creating the connection is as simple as creating an instance of the SparkContext class. The class constructor takes a few optional arguments that allow you to specify the attributes of the cluster you're connecting to.\n",
    "\n",
    "An object holding all these attributes can be created with the SparkConf() constructor. Take a look at the documentation for all the details!"
   ]
  },
  {
   "cell_type": "code",
   "execution_count": 40,
   "id": "a4c35609",
   "metadata": {},
   "outputs": [
    {
     "name": "stdout",
     "output_type": "stream",
     "text": [
      "<pyspark.sql.session.SparkSession object at 0x12e881af0>\n",
      "\n",
      "3.1.2\n",
      "+----------------+----------+---------+--------------------+------+--------------------+--------------------+------------------+\n",
      "|global_entity_id|order_date| order_id|         customer_id|   sku|             product|            qty_sold|        unit_price|\n",
      "+----------------+----------+---------+--------------------+------+--------------------+--------------------+------------------+\n",
      "|           FP_SG|2021-10-13|n7no-etyp|dpiF5eG6VfqQtWyFx...|5654Q1|Suntory Strong Ze...|6.000000000000000000|3.8348043003495427|\n",
      "|           FP_SG|2021-10-13|n7no-x9ce|8lV2KegXXrKqNDY7O...|CM0WJ7| Anchor Strong 490ml|6.000000000000000000|2.5565362002330283|\n",
      "+----------------+----------+---------+--------------------+------+--------------------+--------------------+------------------+\n",
      "only showing top 2 rows\n",
      "\n"
     ]
    },
    {
     "name": "stderr",
     "output_type": "stream",
     "text": [
      "21/10/19 18:22:01 WARN TaskSetManager: Stage 38 contains a task of very large size (25702 KiB). The maximum recommended task size is 1000 KiB.\n"
     ]
    }
   ],
   "source": [
    "# from  pyspark library import \n",
    "# SparkSession\n",
    "from pyspark.sql import SparkSession\n",
    "  \n",
    "# Building the SparkSession and name\n",
    "# it :'pandas to spark'\n",
    "spark = SparkSession.builder.appName(\n",
    "  \"pandas to spark\").getOrCreate()\n",
    "\n",
    "# Verify Spark Context\n",
    "print(spark)\n",
    "print()\n",
    "# Print Spark version\n",
    "print(spark.version)\n",
    "  \n",
    "# create DataFrame\n",
    "df = spark.createDataFrame(df)\n",
    "  \n",
    "df.show(2)"
   ]
  },
  {
   "cell_type": "code",
   "execution_count": 41,
   "id": "cd85ece0",
   "metadata": {},
   "outputs": [
    {
     "name": "stderr",
     "output_type": "stream",
     "text": [
      "21/10/19 18:22:01 WARN TaskSetManager: Stage 39 contains a task of very large size (25702 KiB). The maximum recommended task size is 1000 KiB.\n",
      "[Stage 39:>                                                         (0 + 4) / 4]\r"
     ]
    },
    {
     "name": "stdout",
     "output_type": "stream",
     "text": [
      "Total Records in dataset 1202034\n"
     ]
    },
    {
     "name": "stderr",
     "output_type": "stream",
     "text": [
      "\r",
      "                                                                                \r"
     ]
    }
   ],
   "source": [
    "print(\"Total Records in dataset\", df.count())"
   ]
  },
  {
   "cell_type": "code",
   "execution_count": 42,
   "id": "22517c95",
   "metadata": {},
   "outputs": [
    {
     "name": "stdout",
     "output_type": "stream",
     "text": [
      "Data overview\n",
      "root\n",
      " |-- global_entity_id: string (nullable = true)\n",
      " |-- order_date: date (nullable = true)\n",
      " |-- order_id: string (nullable = true)\n",
      " |-- customer_id: string (nullable = true)\n",
      " |-- sku: string (nullable = true)\n",
      " |-- product: string (nullable = true)\n",
      " |-- qty_sold: decimal(38,18) (nullable = true)\n",
      " |-- unit_price: double (nullable = true)\n",
      "\n",
      "Columns overview\n"
     ]
    },
    {
     "data": {
      "text/html": [
       "<div>\n",
       "<style scoped>\n",
       "    .dataframe tbody tr th:only-of-type {\n",
       "        vertical-align: middle;\n",
       "    }\n",
       "\n",
       "    .dataframe tbody tr th {\n",
       "        vertical-align: top;\n",
       "    }\n",
       "\n",
       "    .dataframe thead th {\n",
       "        text-align: right;\n",
       "    }\n",
       "</style>\n",
       "<table border=\"1\" class=\"dataframe\">\n",
       "  <thead>\n",
       "    <tr style=\"text-align: right;\">\n",
       "      <th></th>\n",
       "      <th>Column Name</th>\n",
       "      <th>Data type</th>\n",
       "    </tr>\n",
       "  </thead>\n",
       "  <tbody>\n",
       "    <tr>\n",
       "      <th>0</th>\n",
       "      <td>global_entity_id</td>\n",
       "      <td>string</td>\n",
       "    </tr>\n",
       "    <tr>\n",
       "      <th>1</th>\n",
       "      <td>order_date</td>\n",
       "      <td>date</td>\n",
       "    </tr>\n",
       "    <tr>\n",
       "      <th>2</th>\n",
       "      <td>order_id</td>\n",
       "      <td>string</td>\n",
       "    </tr>\n",
       "    <tr>\n",
       "      <th>3</th>\n",
       "      <td>customer_id</td>\n",
       "      <td>string</td>\n",
       "    </tr>\n",
       "    <tr>\n",
       "      <th>4</th>\n",
       "      <td>sku</td>\n",
       "      <td>string</td>\n",
       "    </tr>\n",
       "    <tr>\n",
       "      <th>5</th>\n",
       "      <td>product</td>\n",
       "      <td>string</td>\n",
       "    </tr>\n",
       "    <tr>\n",
       "      <th>6</th>\n",
       "      <td>qty_sold</td>\n",
       "      <td>decimal(38,18)</td>\n",
       "    </tr>\n",
       "    <tr>\n",
       "      <th>7</th>\n",
       "      <td>unit_price</td>\n",
       "      <td>double</td>\n",
       "    </tr>\n",
       "  </tbody>\n",
       "</table>\n",
       "</div>"
      ],
      "text/plain": [
       "        Column Name       Data type\n",
       "0  global_entity_id          string\n",
       "1        order_date            date\n",
       "2          order_id          string\n",
       "3       customer_id          string\n",
       "4               sku          string\n",
       "5           product          string\n",
       "6          qty_sold  decimal(38,18)\n",
       "7        unit_price          double"
      ]
     },
     "execution_count": 42,
     "metadata": {},
     "output_type": "execute_result"
    }
   ],
   "source": [
    "print('Data overview')\n",
    "df.printSchema()\n",
    "print('Columns overview')\n",
    "pd.DataFrame(df.dtypes, columns = ['Column Name','Data type'])"
   ]
  },
  {
   "cell_type": "markdown",
   "id": "4becfe62",
   "metadata": {},
   "source": [
    "Put some Spark in your data\n",
    "In the last exercise, you saw how to move data from Spark to pandas. However, maybe you want to go the other direction, and put a pandas DataFrame into a Spark cluster! The SparkSession class has a method for this as well.\n",
    "\n",
    "The `.createDataFrame()` method takes a pandas DataFrame and returns a Spark DataFrame.\n",
    "\n",
    "The output of this method is stored locally, not in the SparkSession catalog. This means that you can use all the Spark DataFrame methods on it, but you can't access the data in other contexts.\n",
    "\n",
    "For example, a SQL query (using the `.sql()` method) that references your DataFrame will throw an error. To access the data in this way, you have to save it as a temporary table.\n",
    "\n",
    "You can do this using the `.createTempView()` Spark DataFrame method, which takes as its only argument the name of the temporary table you'd like to register. This method registers the DataFrame as a table in the catalog, but as this table is temporary, it can only be accessed from the specific SparkSession used to create the Spark DataFrame.\n",
    "\n",
    "There is also the method .createOrReplaceTempView(). This safely creates a new temporary table if nothing was there before, or updates an existing table if one was already defined. You'll use this method to avoid running into problems with duplicate tables."
   ]
  },
  {
   "cell_type": "code",
   "execution_count": 43,
   "id": "bb4937af",
   "metadata": {},
   "outputs": [
    {
     "name": "stdout",
     "output_type": "stream",
     "text": [
      "[Table(name='df_spark', database=None, description=None, tableType='TEMPORARY', isTemporary=True), Table(name='temp', database=None, description=None, tableType='TEMPORARY', isTemporary=True)]\n",
      "[Table(name='df', database=None, description=None, tableType='TEMPORARY', isTemporary=True), Table(name='df_spark', database=None, description=None, tableType='TEMPORARY', isTemporary=True), Table(name='temp', database=None, description=None, tableType='TEMPORARY', isTemporary=True)]\n"
     ]
    }
   ],
   "source": [
    "# Examine tables in the catalog\n",
    "print(spark.catalog.listTables())\n",
    "\n",
    "# Add df_spark to the catalog\n",
    "df.createOrReplaceTempView(\"df\")\n",
    "print(spark.catalog.listTables())"
   ]
  },
  {
   "cell_type": "markdown",
   "id": "c8265f51",
   "metadata": {},
   "source": [
    "### Spark SQL"
   ]
  },
  {
   "cell_type": "code",
   "execution_count": 44,
   "id": "ac080101",
   "metadata": {},
   "outputs": [
    {
     "name": "stdout",
     "output_type": "stream",
     "text": [
      "+---------+\n",
      "| order_id|\n",
      "+---------+\n",
      "|n7no-etyp|\n",
      "|n7no-x9ce|\n",
      "|n7no-erqs|\n",
      "|n7no-exnx|\n",
      "|n7no-tr7x|\n",
      "|n7no-ya8d|\n",
      "|n7no-qn3q|\n",
      "|n7no-jc94|\n",
      "|n7no-mmek|\n",
      "|n7no-mmek|\n",
      "+---------+\n",
      "only showing top 10 rows\n",
      "\n"
     ]
    },
    {
     "name": "stderr",
     "output_type": "stream",
     "text": [
      "21/10/19 18:22:03 WARN TaskSetManager: Stage 46 contains a task of very large size (25702 KiB). The maximum recommended task size is 1000 KiB.\n"
     ]
    }
   ],
   "source": [
    "spark.sql(\"SELECT order_id FROM df WHERE qty_sold > 5\").show(10)"
   ]
  },
  {
   "cell_type": "code",
   "execution_count": null,
   "id": "ffc7d7b9",
   "metadata": {},
   "outputs": [],
   "source": []
  },
  {
   "cell_type": "code",
   "execution_count": null,
   "id": "1d6f21c9",
   "metadata": {},
   "outputs": [],
   "source": []
  },
  {
   "cell_type": "code",
   "execution_count": null,
   "id": "3332b0ee",
   "metadata": {},
   "outputs": [],
   "source": []
  },
  {
   "cell_type": "code",
   "execution_count": 46,
   "id": "93b20c2a",
   "metadata": {},
   "outputs": [
    {
     "name": "stdout",
     "output_type": "stream",
     "text": [
      "+----------------+----------+---------+--------------------+------+--------------------+--------------------+------------------+------------------+\n",
      "|global_entity_id|order_date| order_id|         customer_id|   sku|             product|            qty_sold|        unit_price|         total_sum|\n",
      "+----------------+----------+---------+--------------------+------+--------------------+--------------------+------------------+------------------+\n",
      "|           FP_SG|2021-10-13|n7no-etyp|dpiF5eG6VfqQtWyFx...|5654Q1|Suntory Strong Ze...|6.000000000000000000|3.8348043003495427|23.008825802097256|\n",
      "|           FP_SG|2021-10-13|n7no-x9ce|8lV2KegXXrKqNDY7O...|CM0WJ7| Anchor Strong 490ml|6.000000000000000000|2.5565362002330283| 15.33921720139817|\n",
      "+----------------+----------+---------+--------------------+------+--------------------+--------------------+------------------+------------------+\n",
      "only showing top 2 rows\n",
      "\n"
     ]
    },
    {
     "name": "stderr",
     "output_type": "stream",
     "text": [
      "21/10/19 18:22:33 WARN TaskSetManager: Stage 47 contains a task of very large size (25702 KiB). The maximum recommended task size is 1000 KiB.\n"
     ]
    }
   ],
   "source": [
    "# Create column called \"total sum\"\n",
    "df = df.withColumn(\"total_sum\", df.qty_sold * df.unit_price)\n",
    "df.show(2)"
   ]
  },
  {
   "cell_type": "code",
   "execution_count": null,
   "id": "0fd8ae18",
   "metadata": {},
   "outputs": [],
   "source": []
  },
  {
   "cell_type": "code",
   "execution_count": null,
   "id": "06cb6990",
   "metadata": {},
   "outputs": [],
   "source": []
  },
  {
   "cell_type": "code",
   "execution_count": null,
   "id": "4495234e",
   "metadata": {},
   "outputs": [],
   "source": []
  },
  {
   "cell_type": "code",
   "execution_count": 47,
   "id": "4823700d",
   "metadata": {},
   "outputs": [
    {
     "name": "stdout",
     "output_type": "stream",
     "text": [
      "+----------------+----------+---------+--------------------+------+--------------------+--------------------+------------------+------------------+\n",
      "|global_entity_id|order_date| order_id|         customer_id|   sku|             product|            qty_sold|        unit_price|         total_sum|\n",
      "+----------------+----------+---------+--------------------+------+--------------------+--------------------+------------------+------------------+\n",
      "|           FP_SG|2021-10-13|n7no-etyp|dpiF5eG6VfqQtWyFx...|5654Q1|Suntory Strong Ze...|6.000000000000000000|3.8348043003495427|23.008825802097256|\n",
      "|           FP_SG|2021-10-13|n7no-x9ce|8lV2KegXXrKqNDY7O...|CM0WJ7| Anchor Strong 490ml|6.000000000000000000|2.5565362002330283| 15.33921720139817|\n",
      "|           FP_SG|2021-10-13|n7no-erqs|KRk2eqMAUMya62_W0...|P6P5B6|         Dasani 1.5L|12.00000000000000...|0.5752206450524314|6.9026477406291775|\n",
      "|           FP_SG|2021-10-13|n7no-exnx|p-9Fu7viXzGXAB0iM...|L4MGB1|Kingfisher Premiu...|6.000000000000000000|2.5565362002330283| 15.33921720139817|\n",
      "|           FP_SG|2021-10-13|n7no-tr7x|XJgJER0eVcWwpSHxS...|CM0WJ7| Anchor Strong 490ml|8.000000000000000000|2.5565362002330283|20.452289601864226|\n",
      "|           FP_SG|2021-10-13|n7no-ya8d|vxb2qa0TV0aR71APq...|Y28E70|Asahi Super Dry C...|12.00000000000000...| 2.550144859732446| 30.60173831678935|\n",
      "|           FP_SG|2021-10-13|n7no-qn3q|9xRNlxywXwOuhdaO7...|WZ78K2|   Heineken | 490 ml|6.000000000000000000|2.5565362002330283| 15.33921720139817|\n",
      "|           FP_SG|2021-10-13|n7no-jc94|VrfMy_-YXg6JO6R1h...|G408WN|Sheba Tender Chic...|16.00000000000000...|0.8044790327863515|12.871664524581623|\n",
      "|           FP_SG|2021-10-13|n7no-mmek|FB-nFmPPX3WiFaziK...|L4MGB1|Kingfisher Premiu...|6.000000000000000000|2.5565362002330283| 15.33921720139817|\n",
      "|           FP_SG|2021-10-13|n7no-mmek|FB-nFmPPX3WiFaziK...|CM0WJ7| Anchor Strong 490ml|9.000000000000000000|2.5565362002330283|23.008825802097256|\n",
      "+----------------+----------+---------+--------------------+------+--------------------+--------------------+------------------+------------------+\n",
      "only showing top 10 rows\n",
      "\n"
     ]
    },
    {
     "name": "stderr",
     "output_type": "stream",
     "text": [
      "21/10/19 18:22:37 WARN TaskSetManager: Stage 48 contains a task of very large size (25702 KiB). The maximum recommended task size is 1000 KiB.\n"
     ]
    }
   ],
   "source": [
    "# Filter orders with qty_sold > 5\n",
    "df.filter(\"qty_sold > 5\").show(10)"
   ]
  },
  {
   "cell_type": "code",
   "execution_count": 48,
   "id": "8e55d74f",
   "metadata": {},
   "outputs": [
    {
     "name": "stdout",
     "output_type": "stream",
     "text": [
      "+----------------+--------------------+\n",
      "|global_entity_id|         customer_id|\n",
      "+----------------+--------------------+\n",
      "|           FP_SG|dpiF5eG6VfqQtWyFx...|\n",
      "|           FP_SG|8lV2KegXXrKqNDY7O...|\n",
      "+----------------+--------------------+\n",
      "only showing top 2 rows\n",
      "\n"
     ]
    },
    {
     "name": "stderr",
     "output_type": "stream",
     "text": [
      "21/10/19 18:22:40 WARN TaskSetManager: Stage 49 contains a task of very large size (25702 KiB). The maximum recommended task size is 1000 KiB.\n"
     ]
    }
   ],
   "source": [
    "df.select(\"global_entity_id\",\"customer_id\").show(2)"
   ]
  },
  {
   "cell_type": "code",
   "execution_count": 50,
   "id": "1e204d95",
   "metadata": {},
   "outputs": [
    {
     "name": "stderr",
     "output_type": "stream",
     "text": [
      "21/10/19 18:22:46 WARN TaskSetManager: Stage 50 contains a task of very large size (25702 KiB). The maximum recommended task size is 1000 KiB.\n",
      "[Stage 50:>                                                         (0 + 4) / 4]\r"
     ]
    },
    {
     "name": "stdout",
     "output_type": "stream",
     "text": [
      "+-------------+\n",
      "|min(qty_sold)|\n",
      "+-------------+\n",
      "|        0E-18|\n",
      "+-------------+\n",
      "\n"
     ]
    },
    {
     "name": "stderr",
     "output_type": "stream",
     "text": [
      "\r",
      "[Stage 50:===========================================>              (3 + 1) / 4]\r",
      "\r",
      "                                                                                \r"
     ]
    }
   ],
   "source": [
    "# Find the min quantity sold on 8th august\n",
    "df.filter(df.order_date == '2021-10-08').groupBy().min(\"qty_sold\").show()"
   ]
  },
  {
   "cell_type": "code",
   "execution_count": 51,
   "id": "48f5e8c3",
   "metadata": {},
   "outputs": [
    {
     "name": "stderr",
     "output_type": "stream",
     "text": [
      "21/10/19 18:22:52 WARN TaskSetManager: Stage 52 contains a task of very large size (25702 KiB). The maximum recommended task size is 1000 KiB.\n",
      "[Stage 52:>                                                         (0 + 4) / 4]\r"
     ]
    },
    {
     "name": "stdout",
     "output_type": "stream",
     "text": [
      "+--------------+\n",
      "|sum(total_sum)|\n",
      "+--------------+\n",
      "|           NaN|\n",
      "+--------------+\n",
      "\n"
     ]
    },
    {
     "name": "stderr",
     "output_type": "stream",
     "text": [
      "\r",
      "                                                                                \r"
     ]
    }
   ],
   "source": [
    "# Total sum for order_date 08-10\n",
    "df.filter(df.order_date == '2021-10-08').groupBy().sum(\"total_sum\").show()"
   ]
  },
  {
   "cell_type": "code",
   "execution_count": null,
   "id": "de3679a0",
   "metadata": {},
   "outputs": [],
   "source": []
  },
  {
   "cell_type": "code",
   "execution_count": null,
   "id": "f3f3be4b",
   "metadata": {},
   "outputs": [],
   "source": []
  },
  {
   "cell_type": "code",
   "execution_count": null,
   "id": "01396a10",
   "metadata": {},
   "outputs": [],
   "source": []
  },
  {
   "cell_type": "code",
   "execution_count": null,
   "id": "a4f3d9af",
   "metadata": {},
   "outputs": [],
   "source": []
  },
  {
   "cell_type": "code",
   "execution_count": null,
   "id": "362f2012",
   "metadata": {},
   "outputs": [],
   "source": []
  },
  {
   "cell_type": "code",
   "execution_count": null,
   "id": "84e0937e",
   "metadata": {},
   "outputs": [],
   "source": []
  },
  {
   "cell_type": "code",
   "execution_count": null,
   "id": "874bf4a4",
   "metadata": {},
   "outputs": [],
   "source": []
  },
  {
   "cell_type": "code",
   "execution_count": null,
   "id": "fa6567c7",
   "metadata": {},
   "outputs": [],
   "source": []
  },
  {
   "cell_type": "code",
   "execution_count": null,
   "id": "9b9dccef",
   "metadata": {},
   "outputs": [],
   "source": []
  },
  {
   "cell_type": "code",
   "execution_count": null,
   "id": "2b7334e4",
   "metadata": {},
   "outputs": [],
   "source": []
  },
  {
   "cell_type": "code",
   "execution_count": null,
   "id": "6d78e9a9",
   "metadata": {},
   "outputs": [],
   "source": []
  },
  {
   "cell_type": "code",
   "execution_count": null,
   "id": "6709ecc4",
   "metadata": {},
   "outputs": [],
   "source": []
  },
  {
   "cell_type": "code",
   "execution_count": null,
   "id": "f3880089",
   "metadata": {},
   "outputs": [],
   "source": []
  },
  {
   "cell_type": "code",
   "execution_count": null,
   "id": "4d22b11f",
   "metadata": {},
   "outputs": [],
   "source": []
  },
  {
   "cell_type": "code",
   "execution_count": null,
   "id": "ae4ecb23",
   "metadata": {},
   "outputs": [],
   "source": []
  },
  {
   "cell_type": "code",
   "execution_count": null,
   "id": "cfe6c44f",
   "metadata": {},
   "outputs": [],
   "source": []
  }
 ],
 "metadata": {
  "interpreter": {
   "hash": "aee8b7b246df8f9039afb4144a1f6fd8d2ca17a180786b69acc140d282b71a49"
  },
  "kernelspec": {
   "display_name": "Python 3 (ipykernel)",
   "language": "python",
   "name": "python3"
  },
  "language_info": {
   "codemirror_mode": {
    "name": "ipython",
    "version": 3
   },
   "file_extension": ".py",
   "mimetype": "text/x-python",
   "name": "python",
   "nbconvert_exporter": "python",
   "pygments_lexer": "ipython3",
   "version": "3.9.7"
  }
 },
 "nbformat": 4,
 "nbformat_minor": 5
}
