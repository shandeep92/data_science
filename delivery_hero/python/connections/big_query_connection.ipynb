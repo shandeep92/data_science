{
 "cells": [
  {
   "cell_type": "code",
   "execution_count": 7,
   "metadata": {},
   "outputs": [
    {
     "name": "stdout",
     "output_type": "stream",
     "text": [
      "connected to BigQuery, project: dh-darkstores-live on version 2.22.0\n"
     ]
    }
   ],
   "source": [
    "sys.path.append('/Users/Shandeep/qc_data_insights/utils/') # git clone this repository qc_data_insights\n",
    "import utils as u \n",
    "import os\n",
    "from google.oauth2 import service_account\n",
    "# pip install google-cloud-bigquery==1.24.0 # requires this version.. current version is bugged with pandas\n",
    "from google.cloud import bigquery\n",
    "\n",
    "google_credentials_path = os.path.expanduser('~')+'/Documents/google_cloud_data-insights-team.json' # make sure add json file credentials in documents folder\n",
    "credentials = service_account.Credentials.from_service_account_file(google_credentials_path)\n",
    "bqclient = bigquery.Client(credentials=credentials, project=credentials.project_id)\n",
    "print(f'connected to BigQuery, project: {bqclient.project} on version {bigquery.__version__}')\n",
    "\n",
    "query = '''SELECT * from fulfillment-dwh-production.cl_dmart._currency\n",
    "limit 100;'''\n",
    "df = u.read_bigquery(query, bqclient, parse_dates=[], verbose=False)"
   ]
  },
  {
   "cell_type": "code",
   "execution_count": 8,
   "metadata": {},
   "outputs": [
    {
     "data": {
      "text/html": [
       "<div>\n",
       "<style scoped>\n",
       "    .dataframe tbody tr th:only-of-type {\n",
       "        vertical-align: middle;\n",
       "    }\n",
       "\n",
       "    .dataframe tbody tr th {\n",
       "        vertical-align: top;\n",
       "    }\n",
       "\n",
       "    .dataframe thead th {\n",
       "        text-align: right;\n",
       "    }\n",
       "</style>\n",
       "<table border=\"1\" class=\"dataframe\">\n",
       "  <thead>\n",
       "    <tr style=\"text-align: right;\">\n",
       "      <th></th>\n",
       "      <th>id</th>\n",
       "      <th>name</th>\n",
       "      <th>symbol</th>\n",
       "      <th>rounding</th>\n",
       "      <th>decimal_places</th>\n",
       "      <th>position</th>\n",
       "      <th>currency_unit_label</th>\n",
       "      <th>currency_subunit_label</th>\n",
       "      <th>country_code</th>\n",
       "      <th>timezone</th>\n",
       "      <th>active</th>\n",
       "    </tr>\n",
       "  </thead>\n",
       "  <tbody>\n",
       "    <tr>\n",
       "      <th>0</th>\n",
       "      <td>128</td>\n",
       "      <td>VUV</td>\n",
       "      <td>VT</td>\n",
       "      <td>0.010000000</td>\n",
       "      <td>2</td>\n",
       "      <td>after</td>\n",
       "      <td>Vatu</td>\n",
       "      <td>None</td>\n",
       "      <td>None</td>\n",
       "      <td>None</td>\n",
       "      <td>None</td>\n",
       "    </tr>\n",
       "    <tr>\n",
       "      <th>1</th>\n",
       "      <td>144</td>\n",
       "      <td>SDG</td>\n",
       "      <td>ج.س.</td>\n",
       "      <td>0.010000000</td>\n",
       "      <td>2</td>\n",
       "      <td>after</td>\n",
       "      <td>None</td>\n",
       "      <td>None</td>\n",
       "      <td>None</td>\n",
       "      <td>None</td>\n",
       "      <td>None</td>\n",
       "    </tr>\n",
       "    <tr>\n",
       "      <th>2</th>\n",
       "      <td>23</td>\n",
       "      <td>VND</td>\n",
       "      <td>₫</td>\n",
       "      <td>1.000000000</td>\n",
       "      <td>0</td>\n",
       "      <td>after</td>\n",
       "      <td>Dong</td>\n",
       "      <td>Xu</td>\n",
       "      <td>None</td>\n",
       "      <td>None</td>\n",
       "      <td>None</td>\n",
       "    </tr>\n",
       "    <tr>\n",
       "      <th>3</th>\n",
       "      <td>98</td>\n",
       "      <td>LAK</td>\n",
       "      <td>₭</td>\n",
       "      <td>0.010000000</td>\n",
       "      <td>2</td>\n",
       "      <td>after</td>\n",
       "      <td>Kip</td>\n",
       "      <td>Att</td>\n",
       "      <td>LA</td>\n",
       "      <td>Asia/Vientiane</td>\n",
       "      <td>True</td>\n",
       "    </tr>\n",
       "    <tr>\n",
       "      <th>4</th>\n",
       "      <td>109</td>\n",
       "      <td>MDL</td>\n",
       "      <td>L</td>\n",
       "      <td>0.010000000</td>\n",
       "      <td>2</td>\n",
       "      <td>after</td>\n",
       "      <td>Leu</td>\n",
       "      <td>Ban</td>\n",
       "      <td>None</td>\n",
       "      <td>None</td>\n",
       "      <td>None</td>\n",
       "    </tr>\n",
       "  </tbody>\n",
       "</table>\n",
       "</div>"
      ],
      "text/plain": [
       "    id name symbol     rounding  decimal_places position currency_unit_label  \\\n",
       "0  128  VUV     VT  0.010000000               2    after                Vatu   \n",
       "1  144  SDG   ج.س.  0.010000000               2    after                None   \n",
       "2   23  VND      ₫  1.000000000               0    after                Dong   \n",
       "3   98  LAK      ₭  0.010000000               2    after                 Kip   \n",
       "4  109  MDL      L  0.010000000               2    after                 Leu   \n",
       "\n",
       "  currency_subunit_label country_code        timezone active  \n",
       "0                   None         None            None   None  \n",
       "1                   None         None            None   None  \n",
       "2                     Xu         None            None   None  \n",
       "3                    Att           LA  Asia/Vientiane   True  \n",
       "4                    Ban         None            None   None  "
      ]
     },
     "execution_count": 8,
     "metadata": {},
     "output_type": "execute_result"
    }
   ],
   "source": [
    "df.head()"
   ]
  },
  {
   "cell_type": "code",
   "execution_count": null,
   "metadata": {},
   "outputs": [],
   "source": []
  }
 ],
 "metadata": {
  "interpreter": {
   "hash": "aee8b7b246df8f9039afb4144a1f6fd8d2ca17a180786b69acc140d282b71a49"
  },
  "kernelspec": {
   "display_name": "Python 3 (ipykernel)",
   "language": "python",
   "name": "python3"
  },
  "language_info": {
   "codemirror_mode": {
    "name": "ipython",
    "version": 3
   },
   "file_extension": ".py",
   "mimetype": "text/x-python",
   "name": "python",
   "nbconvert_exporter": "python",
   "pygments_lexer": "ipython3",
   "version": "3.9.7"
  }
 },
 "nbformat": 4,
 "nbformat_minor": 2
}
